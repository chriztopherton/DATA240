{
 "cells": [
  {
   "cell_type": "markdown",
   "metadata": {},
   "source": [
    "## Objective: \n",
    "\n",
    "Gain insights into the operational strengths and weaknesses of the supply chain, identify areas for improvement, and better understand the dynamics of supplying HIV-related products across different regions.\n",
    "\n",
    "## Hypotheses\n",
    "\n",
    "**Delivery Efficiency**: Countries managed by specific offices (managed_by) have more efficient delivery times due to better local infrastructure or more optimized supply chain operations.\n",
    "\n",
    "**Cost Efficiency**: Shipments delivered via certain modes (shipment_mode) are more cost-effective when considering factors like freight cost, unit price, and insurance costs, even after accounting for delivery times.\n",
    "\n",
    "**Product Demand and Supply**: Certain product_group or sub_classification items have higher demand variability, which significantly impacts procurement strategies and stock levels.\n",
    "\n",
    "**Impact of Vendor Terms on Delivery**: The vendor_inco_term has a significant impact on delivery times and costs, affecting overall supply chain efficiency."
   ]
  },
  {
   "cell_type": "markdown",
   "metadata": {},
   "source": [
    "# Import packages"
   ]
  },
  {
   "cell_type": "code",
   "execution_count": 1,
   "metadata": {},
   "outputs": [],
   "source": [
    "\n",
    "# data manipulation\n",
    "import pandas as pd\n",
    "import numpy as np\n",
    "\n",
    "# data viz\n",
    "import matplotlib.pyplot as plt\n",
    "from matplotlib import rcParams\n",
    "import seaborn as sns\n",
    "from plotly_calplot import calplot\n",
    "\n",
    "\n",
    "#sql \n",
    "from pandasql import sqldf\n",
    "\n",
    "# apply some cool styling\n",
    "plt.style.use(\"ggplot\")\n",
    "rcParams['figure.figsize'] = (12, 6)\n",
    "\n",
    "import warnings\n",
    "warnings.filterwarnings(\"ignore\")\n",
    "\n",
    "pd.set_option('display.max_columns', None)"
   ]
  },
  {
   "cell_type": "markdown",
   "metadata": {},
   "source": [
    "# Read data"
   ]
  },
  {
   "cell_type": "code",
   "execution_count": 2,
   "metadata": {},
   "outputs": [],
   "source": [
    "#read in primary dataset and clean header names\n",
    "data = pd.read_csv(\"../data/Supply_Chain_Shipment_Pricing_Dataset_20240302.csv\",index_col=\"id\")\n",
    "data.columns = [i.strip().replace(\"/\",\"\").replace(\" \",\"_\").replace(\"#\",\"num\").replace(\"(\",\"\").replace(\")\",\"\").replace(\"__\",\"_\").lower() for i in data.columns]\n",
    "\n",
    "#reset index, old index was invalid\n",
    "data = data.reset_index(drop=True)\n",
    "\n",
    "# drop potentially duplicated rows\n",
    "data = data.drop_duplicates()\n",
    "\n",
    "\n",
    "#read in pqr dataset and clean header names\n",
    "# pqr = pd.read_csv(\"../data/SearchTransactionData1.csv\")\n",
    "# pqr.columns = [i.strip().replace(\" \",\"_\").replace(\"#\",\"num\").replace(\"/\",\"_\").replace(\"(\",\"\").replace(\")\",\"\").lower() for i in pqr.columns]\n",
    "\n",
    "#join both datasets using country field as key\n",
    "# joined = pd.merge(data,pqr,left_on=\"country\",right_on=\"country_teritorry\",how=\"inner\").drop_duplicates()"
   ]
  },
  {
   "cell_type": "code",
   "execution_count": 3,
   "metadata": {},
   "outputs": [
    {
     "data": {
      "text/plain": [
       "('1-Apr-08', '9-Sep-15')"
      ]
     },
     "execution_count": 3,
     "metadata": {},
     "output_type": "execute_result"
    }
   ],
   "source": [
    "data['scheduled_delivery_date'].min(),data['scheduled_delivery_date'].max()"
   ]
  },
  {
   "cell_type": "code",
   "execution_count": 4,
   "metadata": {},
   "outputs": [
    {
     "data": {
      "text/plain": [
       "Index(['project_code', 'pq_num', 'po_so_num', 'asndn_num', 'country',\n",
       "       'managed_by', 'fulfill_via', 'vendor_inco_term', 'shipment_mode',\n",
       "       'pq_first_sent_to_client_date', 'po_sent_to_vendor_date',\n",
       "       'scheduled_delivery_date', 'delivered_to_client_date',\n",
       "       'delivery_recorded_date', 'product_group', 'sub_classification',\n",
       "       'vendor', 'item_description', 'moleculetest_type', 'brand', 'dosage',\n",
       "       'dosage_form', 'unit_of_measure_per_pack', 'line_item_quantity',\n",
       "       'line_item_value', 'pack_price', 'unit_price', 'manufacturing_site',\n",
       "       'first_line_designation', 'weight_kilograms', 'freight_cost_usd',\n",
       "       'line_item_insurance_usd'],\n",
       "      dtype='object')"
      ]
     },
     "execution_count": 4,
     "metadata": {},
     "output_type": "execute_result"
    }
   ],
   "source": [
    "data.columns"
   ]
  },
  {
   "cell_type": "code",
   "execution_count": null,
   "metadata": {},
   "outputs": [],
   "source": []
  },
  {
   "cell_type": "code",
   "execution_count": 5,
   "metadata": {},
   "outputs": [
    {
     "ename": "NameError",
     "evalue": "name 'pqr' is not defined",
     "output_type": "error",
     "traceback": [
      "\u001b[0;31m---------------------------------------------------------------------------\u001b[0m",
      "\u001b[0;31mNameError\u001b[0m                                 Traceback (most recent call last)",
      "Cell \u001b[0;32mIn[5], line 1\u001b[0m\n\u001b[0;32m----> 1\u001b[0m \u001b[43mpqr\u001b[49m\u001b[38;5;241m.\u001b[39mcolumns\n",
      "\u001b[0;31mNameError\u001b[0m: name 'pqr' is not defined"
     ]
    }
   ],
   "source": [
    "pqr.columns"
   ]
  },
  {
   "cell_type": "markdown",
   "metadata": {},
   "source": [
    "# Assess data quality, type conversions, cardinality & missing values proportions, and invalid fields"
   ]
  },
  {
   "cell_type": "markdown",
   "metadata": {},
   "source": [
    "## Inspect data quality"
   ]
  },
  {
   "cell_type": "code",
   "execution_count": 6,
   "metadata": {},
   "outputs": [
    {
     "data": {
      "text/html": [
       "<div>\n",
       "<style scoped>\n",
       "    .dataframe tbody tr th:only-of-type {\n",
       "        vertical-align: middle;\n",
       "    }\n",
       "\n",
       "    .dataframe tbody tr th {\n",
       "        vertical-align: top;\n",
       "    }\n",
       "\n",
       "    .dataframe thead th {\n",
       "        text-align: right;\n",
       "    }\n",
       "</style>\n",
       "<table border=\"1\" class=\"dataframe\">\n",
       "  <thead>\n",
       "    <tr style=\"text-align: right;\">\n",
       "      <th></th>\n",
       "      <th>project_code</th>\n",
       "      <th>pq_num</th>\n",
       "      <th>po_so_num</th>\n",
       "      <th>asndn_num</th>\n",
       "      <th>country</th>\n",
       "      <th>managed_by</th>\n",
       "      <th>fulfill_via</th>\n",
       "      <th>vendor_inco_term</th>\n",
       "      <th>shipment_mode</th>\n",
       "      <th>pq_first_sent_to_client_date</th>\n",
       "      <th>po_sent_to_vendor_date</th>\n",
       "      <th>scheduled_delivery_date</th>\n",
       "      <th>delivered_to_client_date</th>\n",
       "      <th>delivery_recorded_date</th>\n",
       "      <th>product_group</th>\n",
       "      <th>sub_classification</th>\n",
       "      <th>vendor</th>\n",
       "      <th>item_description</th>\n",
       "      <th>moleculetest_type</th>\n",
       "      <th>brand</th>\n",
       "      <th>dosage</th>\n",
       "      <th>dosage_form</th>\n",
       "      <th>unit_of_measure_per_pack</th>\n",
       "      <th>line_item_quantity</th>\n",
       "      <th>line_item_value</th>\n",
       "      <th>pack_price</th>\n",
       "      <th>unit_price</th>\n",
       "      <th>manufacturing_site</th>\n",
       "      <th>first_line_designation</th>\n",
       "      <th>weight_kilograms</th>\n",
       "      <th>freight_cost_usd</th>\n",
       "      <th>line_item_insurance_usd</th>\n",
       "    </tr>\n",
       "  </thead>\n",
       "  <tbody>\n",
       "    <tr>\n",
       "      <th>0</th>\n",
       "      <td>100-CI-T01</td>\n",
       "      <td>Pre-PQ Process</td>\n",
       "      <td>SCMS-4</td>\n",
       "      <td>ASN-8</td>\n",
       "      <td>Côte d'Ivoire</td>\n",
       "      <td>PMO - US</td>\n",
       "      <td>Direct Drop</td>\n",
       "      <td>EXW</td>\n",
       "      <td>Air</td>\n",
       "      <td>Pre-PQ Process</td>\n",
       "      <td>Date Not Captured</td>\n",
       "      <td>2-Jun-06</td>\n",
       "      <td>2-Jun-06</td>\n",
       "      <td>2-Jun-06</td>\n",
       "      <td>HRDT</td>\n",
       "      <td>HIV test</td>\n",
       "      <td>RANBAXY Fine Chemicals LTD.</td>\n",
       "      <td>HIV, Reveal G3 Rapid HIV-1 Antibody Test, 30 T...</td>\n",
       "      <td>HIV, Reveal G3 Rapid HIV-1 Antibody Test</td>\n",
       "      <td>Reveal</td>\n",
       "      <td>NaN</td>\n",
       "      <td>Test kit</td>\n",
       "      <td>30</td>\n",
       "      <td>19</td>\n",
       "      <td>551.0</td>\n",
       "      <td>29.00</td>\n",
       "      <td>0.97</td>\n",
       "      <td>Ranbaxy Fine Chemicals LTD</td>\n",
       "      <td>True</td>\n",
       "      <td>13</td>\n",
       "      <td>780.34</td>\n",
       "      <td>NaN</td>\n",
       "    </tr>\n",
       "    <tr>\n",
       "      <th>1</th>\n",
       "      <td>108-VN-T01</td>\n",
       "      <td>Pre-PQ Process</td>\n",
       "      <td>SCMS-13</td>\n",
       "      <td>ASN-85</td>\n",
       "      <td>Vietnam</td>\n",
       "      <td>PMO - US</td>\n",
       "      <td>Direct Drop</td>\n",
       "      <td>EXW</td>\n",
       "      <td>Air</td>\n",
       "      <td>Pre-PQ Process</td>\n",
       "      <td>Date Not Captured</td>\n",
       "      <td>14-Nov-06</td>\n",
       "      <td>14-Nov-06</td>\n",
       "      <td>14-Nov-06</td>\n",
       "      <td>ARV</td>\n",
       "      <td>Pediatric</td>\n",
       "      <td>Aurobindo Pharma Limited</td>\n",
       "      <td>Nevirapine 10mg/ml, oral suspension, Bottle, 2...</td>\n",
       "      <td>Nevirapine</td>\n",
       "      <td>Generic</td>\n",
       "      <td>10mg/ml</td>\n",
       "      <td>Oral suspension</td>\n",
       "      <td>240</td>\n",
       "      <td>1000</td>\n",
       "      <td>6200.0</td>\n",
       "      <td>6.20</td>\n",
       "      <td>0.03</td>\n",
       "      <td>Aurobindo Unit III, India</td>\n",
       "      <td>True</td>\n",
       "      <td>358</td>\n",
       "      <td>4521.5</td>\n",
       "      <td>NaN</td>\n",
       "    </tr>\n",
       "    <tr>\n",
       "      <th>2</th>\n",
       "      <td>100-CI-T01</td>\n",
       "      <td>Pre-PQ Process</td>\n",
       "      <td>SCMS-20</td>\n",
       "      <td>ASN-14</td>\n",
       "      <td>Côte d'Ivoire</td>\n",
       "      <td>PMO - US</td>\n",
       "      <td>Direct Drop</td>\n",
       "      <td>FCA</td>\n",
       "      <td>Air</td>\n",
       "      <td>Pre-PQ Process</td>\n",
       "      <td>Date Not Captured</td>\n",
       "      <td>27-Aug-06</td>\n",
       "      <td>27-Aug-06</td>\n",
       "      <td>27-Aug-06</td>\n",
       "      <td>HRDT</td>\n",
       "      <td>HIV test</td>\n",
       "      <td>Abbott GmbH &amp; Co. KG</td>\n",
       "      <td>HIV 1/2, Determine Complete HIV Kit, 100 Tests</td>\n",
       "      <td>HIV 1/2, Determine Complete HIV Kit</td>\n",
       "      <td>Determine</td>\n",
       "      <td>NaN</td>\n",
       "      <td>Test kit</td>\n",
       "      <td>100</td>\n",
       "      <td>500</td>\n",
       "      <td>40000.0</td>\n",
       "      <td>80.00</td>\n",
       "      <td>0.80</td>\n",
       "      <td>ABBVIE GmbH &amp; Co.KG Wiesbaden</td>\n",
       "      <td>True</td>\n",
       "      <td>171</td>\n",
       "      <td>1653.78</td>\n",
       "      <td>NaN</td>\n",
       "    </tr>\n",
       "    <tr>\n",
       "      <th>3</th>\n",
       "      <td>108-VN-T01</td>\n",
       "      <td>Pre-PQ Process</td>\n",
       "      <td>SCMS-78</td>\n",
       "      <td>ASN-50</td>\n",
       "      <td>Vietnam</td>\n",
       "      <td>PMO - US</td>\n",
       "      <td>Direct Drop</td>\n",
       "      <td>EXW</td>\n",
       "      <td>Air</td>\n",
       "      <td>Pre-PQ Process</td>\n",
       "      <td>Date Not Captured</td>\n",
       "      <td>1-Sep-06</td>\n",
       "      <td>1-Sep-06</td>\n",
       "      <td>1-Sep-06</td>\n",
       "      <td>ARV</td>\n",
       "      <td>Adult</td>\n",
       "      <td>SUN PHARMACEUTICAL INDUSTRIES LTD (RANBAXY LAB...</td>\n",
       "      <td>Lamivudine 150mg, tablets, 60 Tabs</td>\n",
       "      <td>Lamivudine</td>\n",
       "      <td>Generic</td>\n",
       "      <td>150mg</td>\n",
       "      <td>Tablet</td>\n",
       "      <td>60</td>\n",
       "      <td>31920</td>\n",
       "      <td>127360.8</td>\n",
       "      <td>3.99</td>\n",
       "      <td>0.07</td>\n",
       "      <td>Ranbaxy, Paonta Shahib, India</td>\n",
       "      <td>True</td>\n",
       "      <td>1855</td>\n",
       "      <td>16007.06</td>\n",
       "      <td>NaN</td>\n",
       "    </tr>\n",
       "    <tr>\n",
       "      <th>4</th>\n",
       "      <td>108-VN-T01</td>\n",
       "      <td>Pre-PQ Process</td>\n",
       "      <td>SCMS-81</td>\n",
       "      <td>ASN-55</td>\n",
       "      <td>Vietnam</td>\n",
       "      <td>PMO - US</td>\n",
       "      <td>Direct Drop</td>\n",
       "      <td>EXW</td>\n",
       "      <td>Air</td>\n",
       "      <td>Pre-PQ Process</td>\n",
       "      <td>Date Not Captured</td>\n",
       "      <td>11-Aug-06</td>\n",
       "      <td>11-Aug-06</td>\n",
       "      <td>11-Aug-06</td>\n",
       "      <td>ARV</td>\n",
       "      <td>Adult</td>\n",
       "      <td>Aurobindo Pharma Limited</td>\n",
       "      <td>Stavudine 30mg, capsules, 60 Caps</td>\n",
       "      <td>Stavudine</td>\n",
       "      <td>Generic</td>\n",
       "      <td>30mg</td>\n",
       "      <td>Capsule</td>\n",
       "      <td>60</td>\n",
       "      <td>38000</td>\n",
       "      <td>121600.0</td>\n",
       "      <td>3.20</td>\n",
       "      <td>0.05</td>\n",
       "      <td>Aurobindo Unit III, India</td>\n",
       "      <td>True</td>\n",
       "      <td>7590</td>\n",
       "      <td>45450.08</td>\n",
       "      <td>NaN</td>\n",
       "    </tr>\n",
       "  </tbody>\n",
       "</table>\n",
       "</div>"
      ],
      "text/plain": [
       "  project_code          pq_num po_so_num asndn_num        country managed_by  \\\n",
       "0   100-CI-T01  Pre-PQ Process    SCMS-4     ASN-8  Côte d'Ivoire   PMO - US   \n",
       "1   108-VN-T01  Pre-PQ Process   SCMS-13    ASN-85        Vietnam   PMO - US   \n",
       "2   100-CI-T01  Pre-PQ Process   SCMS-20    ASN-14  Côte d'Ivoire   PMO - US   \n",
       "3   108-VN-T01  Pre-PQ Process   SCMS-78    ASN-50        Vietnam   PMO - US   \n",
       "4   108-VN-T01  Pre-PQ Process   SCMS-81    ASN-55        Vietnam   PMO - US   \n",
       "\n",
       "   fulfill_via vendor_inco_term shipment_mode pq_first_sent_to_client_date  \\\n",
       "0  Direct Drop              EXW           Air               Pre-PQ Process   \n",
       "1  Direct Drop              EXW           Air               Pre-PQ Process   \n",
       "2  Direct Drop              FCA           Air               Pre-PQ Process   \n",
       "3  Direct Drop              EXW           Air               Pre-PQ Process   \n",
       "4  Direct Drop              EXW           Air               Pre-PQ Process   \n",
       "\n",
       "  po_sent_to_vendor_date scheduled_delivery_date delivered_to_client_date  \\\n",
       "0      Date Not Captured                2-Jun-06                 2-Jun-06   \n",
       "1      Date Not Captured               14-Nov-06                14-Nov-06   \n",
       "2      Date Not Captured               27-Aug-06                27-Aug-06   \n",
       "3      Date Not Captured                1-Sep-06                 1-Sep-06   \n",
       "4      Date Not Captured               11-Aug-06                11-Aug-06   \n",
       "\n",
       "  delivery_recorded_date product_group sub_classification  \\\n",
       "0               2-Jun-06          HRDT           HIV test   \n",
       "1              14-Nov-06           ARV          Pediatric   \n",
       "2              27-Aug-06          HRDT           HIV test   \n",
       "3               1-Sep-06           ARV              Adult   \n",
       "4              11-Aug-06           ARV              Adult   \n",
       "\n",
       "                                              vendor  \\\n",
       "0                        RANBAXY Fine Chemicals LTD.   \n",
       "1                           Aurobindo Pharma Limited   \n",
       "2                               Abbott GmbH & Co. KG   \n",
       "3  SUN PHARMACEUTICAL INDUSTRIES LTD (RANBAXY LAB...   \n",
       "4                           Aurobindo Pharma Limited   \n",
       "\n",
       "                                    item_description  \\\n",
       "0  HIV, Reveal G3 Rapid HIV-1 Antibody Test, 30 T...   \n",
       "1  Nevirapine 10mg/ml, oral suspension, Bottle, 2...   \n",
       "2     HIV 1/2, Determine Complete HIV Kit, 100 Tests   \n",
       "3                 Lamivudine 150mg, tablets, 60 Tabs   \n",
       "4                  Stavudine 30mg, capsules, 60 Caps   \n",
       "\n",
       "                          moleculetest_type      brand   dosage  \\\n",
       "0  HIV, Reveal G3 Rapid HIV-1 Antibody Test     Reveal      NaN   \n",
       "1                                Nevirapine    Generic  10mg/ml   \n",
       "2       HIV 1/2, Determine Complete HIV Kit  Determine      NaN   \n",
       "3                                Lamivudine    Generic    150mg   \n",
       "4                                 Stavudine    Generic     30mg   \n",
       "\n",
       "       dosage_form  unit_of_measure_per_pack  line_item_quantity  \\\n",
       "0         Test kit                        30                  19   \n",
       "1  Oral suspension                       240                1000   \n",
       "2         Test kit                       100                 500   \n",
       "3           Tablet                        60               31920   \n",
       "4          Capsule                        60               38000   \n",
       "\n",
       "   line_item_value  pack_price  unit_price             manufacturing_site  \\\n",
       "0            551.0       29.00        0.97     Ranbaxy Fine Chemicals LTD   \n",
       "1           6200.0        6.20        0.03      Aurobindo Unit III, India   \n",
       "2          40000.0       80.00        0.80  ABBVIE GmbH & Co.KG Wiesbaden   \n",
       "3         127360.8        3.99        0.07  Ranbaxy, Paonta Shahib, India   \n",
       "4         121600.0        3.20        0.05      Aurobindo Unit III, India   \n",
       "\n",
       "   first_line_designation weight_kilograms freight_cost_usd  \\\n",
       "0                    True               13           780.34   \n",
       "1                    True              358           4521.5   \n",
       "2                    True              171          1653.78   \n",
       "3                    True             1855         16007.06   \n",
       "4                    True             7590         45450.08   \n",
       "\n",
       "   line_item_insurance_usd  \n",
       "0                      NaN  \n",
       "1                      NaN  \n",
       "2                      NaN  \n",
       "3                      NaN  \n",
       "4                      NaN  "
      ]
     },
     "metadata": {},
     "output_type": "display_data"
    },
    {
     "data": {
      "text/html": [
       "<div>\n",
       "<style scoped>\n",
       "    .dataframe tbody tr th:only-of-type {\n",
       "        vertical-align: middle;\n",
       "    }\n",
       "\n",
       "    .dataframe tbody tr th {\n",
       "        vertical-align: top;\n",
       "    }\n",
       "\n",
       "    .dataframe thead th {\n",
       "        text-align: right;\n",
       "    }\n",
       "</style>\n",
       "<table border=\"1\" class=\"dataframe\">\n",
       "  <thead>\n",
       "    <tr style=\"text-align: right;\">\n",
       "      <th></th>\n",
       "      <th>project_code</th>\n",
       "      <th>pq_num</th>\n",
       "      <th>po_so_num</th>\n",
       "      <th>asndn_num</th>\n",
       "      <th>country</th>\n",
       "      <th>managed_by</th>\n",
       "      <th>fulfill_via</th>\n",
       "      <th>vendor_inco_term</th>\n",
       "      <th>shipment_mode</th>\n",
       "      <th>pq_first_sent_to_client_date</th>\n",
       "      <th>po_sent_to_vendor_date</th>\n",
       "      <th>scheduled_delivery_date</th>\n",
       "      <th>delivered_to_client_date</th>\n",
       "      <th>delivery_recorded_date</th>\n",
       "      <th>product_group</th>\n",
       "      <th>sub_classification</th>\n",
       "      <th>vendor</th>\n",
       "      <th>item_description</th>\n",
       "      <th>moleculetest_type</th>\n",
       "      <th>brand</th>\n",
       "      <th>dosage</th>\n",
       "      <th>dosage_form</th>\n",
       "      <th>unit_of_measure_per_pack</th>\n",
       "      <th>line_item_quantity</th>\n",
       "      <th>line_item_value</th>\n",
       "      <th>pack_price</th>\n",
       "      <th>unit_price</th>\n",
       "      <th>manufacturing_site</th>\n",
       "      <th>first_line_designation</th>\n",
       "      <th>weight_kilograms</th>\n",
       "      <th>freight_cost_usd</th>\n",
       "      <th>line_item_insurance_usd</th>\n",
       "    </tr>\n",
       "  </thead>\n",
       "  <tbody>\n",
       "    <tr>\n",
       "      <th>10319</th>\n",
       "      <td>103-ZW-T30</td>\n",
       "      <td>FPQ-15197</td>\n",
       "      <td>SO-50020</td>\n",
       "      <td>DN-4307</td>\n",
       "      <td>Zimbabwe</td>\n",
       "      <td>PMO - US</td>\n",
       "      <td>From RDC</td>\n",
       "      <td>N/A - From RDC</td>\n",
       "      <td>Truck</td>\n",
       "      <td>10/16/2014</td>\n",
       "      <td>N/A - From RDC</td>\n",
       "      <td>31-Jul-15</td>\n",
       "      <td>15-Jul-15</td>\n",
       "      <td>20-Jul-15</td>\n",
       "      <td>ARV</td>\n",
       "      <td>Pediatric</td>\n",
       "      <td>SCMS from RDC</td>\n",
       "      <td>Lamivudine/Nevirapine/Zidovudine 30/50/60mg, d...</td>\n",
       "      <td>Lamivudine/Nevirapine/Zidovudine</td>\n",
       "      <td>Generic</td>\n",
       "      <td>30/50/60mg</td>\n",
       "      <td>Chewable/dispersible tablet - FDC</td>\n",
       "      <td>60</td>\n",
       "      <td>166571</td>\n",
       "      <td>599655.60</td>\n",
       "      <td>3.60</td>\n",
       "      <td>0.06</td>\n",
       "      <td>Mylan,  H-12 &amp; H-13, India</td>\n",
       "      <td>False</td>\n",
       "      <td>See DN-4307 (ID#:83920)</td>\n",
       "      <td>See DN-4307 (ID#:83920)</td>\n",
       "      <td>705.79</td>\n",
       "    </tr>\n",
       "    <tr>\n",
       "      <th>10320</th>\n",
       "      <td>104-CI-T30</td>\n",
       "      <td>FPQ-15259</td>\n",
       "      <td>SO-50102</td>\n",
       "      <td>DN-4313</td>\n",
       "      <td>Côte d'Ivoire</td>\n",
       "      <td>PMO - US</td>\n",
       "      <td>From RDC</td>\n",
       "      <td>N/A - From RDC</td>\n",
       "      <td>Truck</td>\n",
       "      <td>10/24/2014</td>\n",
       "      <td>N/A - From RDC</td>\n",
       "      <td>31-Jul-15</td>\n",
       "      <td>6-Aug-15</td>\n",
       "      <td>7-Aug-15</td>\n",
       "      <td>ARV</td>\n",
       "      <td>Adult</td>\n",
       "      <td>SCMS from RDC</td>\n",
       "      <td>Lamivudine/Zidovudine 150/300mg, tablets, 60 Tabs</td>\n",
       "      <td>Lamivudine/Zidovudine</td>\n",
       "      <td>Generic</td>\n",
       "      <td>150/300mg</td>\n",
       "      <td>Tablet - FDC</td>\n",
       "      <td>60</td>\n",
       "      <td>21072</td>\n",
       "      <td>137389.44</td>\n",
       "      <td>6.52</td>\n",
       "      <td>0.11</td>\n",
       "      <td>Hetero Unit III Hyderabad IN</td>\n",
       "      <td>False</td>\n",
       "      <td>See DN-4313 (ID#:83921)</td>\n",
       "      <td>See DN-4313 (ID#:83921)</td>\n",
       "      <td>161.71</td>\n",
       "    </tr>\n",
       "    <tr>\n",
       "      <th>10321</th>\n",
       "      <td>110-ZM-T30</td>\n",
       "      <td>FPQ-14784</td>\n",
       "      <td>SO-49600</td>\n",
       "      <td>DN-4316</td>\n",
       "      <td>Zambia</td>\n",
       "      <td>PMO - US</td>\n",
       "      <td>From RDC</td>\n",
       "      <td>N/A - From RDC</td>\n",
       "      <td>Truck</td>\n",
       "      <td>8/12/2014</td>\n",
       "      <td>N/A - From RDC</td>\n",
       "      <td>31-Aug-15</td>\n",
       "      <td>25-Aug-15</td>\n",
       "      <td>3-Sep-15</td>\n",
       "      <td>ARV</td>\n",
       "      <td>Adult</td>\n",
       "      <td>SCMS from RDC</td>\n",
       "      <td>Efavirenz/Lamivudine/Tenofovir Disoproxil Fuma...</td>\n",
       "      <td>Efavirenz/Lamivudine/Tenofovir Disoproxil Fuma...</td>\n",
       "      <td>Generic</td>\n",
       "      <td>600/300/300mg</td>\n",
       "      <td>Tablet - FDC</td>\n",
       "      <td>30</td>\n",
       "      <td>514526</td>\n",
       "      <td>5140114.74</td>\n",
       "      <td>9.99</td>\n",
       "      <td>0.33</td>\n",
       "      <td>Cipla Ltd A-42 MIDC Mahar. IN</td>\n",
       "      <td>False</td>\n",
       "      <td>Weight Captured Separately</td>\n",
       "      <td>Freight Included in Commodity Cost</td>\n",
       "      <td>5284.04</td>\n",
       "    </tr>\n",
       "    <tr>\n",
       "      <th>10322</th>\n",
       "      <td>200-ZW-T30</td>\n",
       "      <td>FPQ-16523</td>\n",
       "      <td>SO-51680</td>\n",
       "      <td>DN-4334</td>\n",
       "      <td>Zimbabwe</td>\n",
       "      <td>PMO - US</td>\n",
       "      <td>From RDC</td>\n",
       "      <td>N/A - From RDC</td>\n",
       "      <td>Truck</td>\n",
       "      <td>7/1/2015</td>\n",
       "      <td>N/A - From RDC</td>\n",
       "      <td>9-Sep-15</td>\n",
       "      <td>4-Aug-15</td>\n",
       "      <td>11-Aug-15</td>\n",
       "      <td>ARV</td>\n",
       "      <td>Adult</td>\n",
       "      <td>SCMS from RDC</td>\n",
       "      <td>Lamivudine/Zidovudine 150/300mg, tablets, 60 Tabs</td>\n",
       "      <td>Lamivudine/Zidovudine</td>\n",
       "      <td>Generic</td>\n",
       "      <td>150/300mg</td>\n",
       "      <td>Tablet - FDC</td>\n",
       "      <td>60</td>\n",
       "      <td>17465</td>\n",
       "      <td>113871.80</td>\n",
       "      <td>6.52</td>\n",
       "      <td>0.11</td>\n",
       "      <td>Mylan (formerly Matrix) Nashik</td>\n",
       "      <td>True</td>\n",
       "      <td>1392</td>\n",
       "      <td>Freight Included in Commodity Cost</td>\n",
       "      <td>134.03</td>\n",
       "    </tr>\n",
       "    <tr>\n",
       "      <th>10323</th>\n",
       "      <td>103-ZW-T30</td>\n",
       "      <td>FPQ-15197</td>\n",
       "      <td>SO-50022</td>\n",
       "      <td>DN-4336</td>\n",
       "      <td>Zimbabwe</td>\n",
       "      <td>PMO - US</td>\n",
       "      <td>From RDC</td>\n",
       "      <td>N/A - From RDC</td>\n",
       "      <td>Truck</td>\n",
       "      <td>10/16/2014</td>\n",
       "      <td>N/A - From RDC</td>\n",
       "      <td>31-Aug-15</td>\n",
       "      <td>4-Aug-15</td>\n",
       "      <td>11-Aug-15</td>\n",
       "      <td>ARV</td>\n",
       "      <td>Pediatric</td>\n",
       "      <td>SCMS from RDC</td>\n",
       "      <td>Lamivudine/Zidovudine 30/60mg, dispersible tab...</td>\n",
       "      <td>Lamivudine/Zidovudine</td>\n",
       "      <td>Generic</td>\n",
       "      <td>30/60mg</td>\n",
       "      <td>Chewable/dispersible tablet - FDC</td>\n",
       "      <td>60</td>\n",
       "      <td>36639</td>\n",
       "      <td>72911.61</td>\n",
       "      <td>1.99</td>\n",
       "      <td>0.03</td>\n",
       "      <td>Cipla, Goa, India</td>\n",
       "      <td>False</td>\n",
       "      <td>Weight Captured Separately</td>\n",
       "      <td>Freight Included in Commodity Cost</td>\n",
       "      <td>85.82</td>\n",
       "    </tr>\n",
       "  </tbody>\n",
       "</table>\n",
       "</div>"
      ],
      "text/plain": [
       "      project_code     pq_num po_so_num asndn_num        country managed_by  \\\n",
       "10319   103-ZW-T30  FPQ-15197  SO-50020   DN-4307       Zimbabwe   PMO - US   \n",
       "10320   104-CI-T30  FPQ-15259  SO-50102   DN-4313  Côte d'Ivoire   PMO - US   \n",
       "10321   110-ZM-T30  FPQ-14784  SO-49600   DN-4316         Zambia   PMO - US   \n",
       "10322   200-ZW-T30  FPQ-16523  SO-51680   DN-4334       Zimbabwe   PMO - US   \n",
       "10323   103-ZW-T30  FPQ-15197  SO-50022   DN-4336       Zimbabwe   PMO - US   \n",
       "\n",
       "      fulfill_via vendor_inco_term shipment_mode pq_first_sent_to_client_date  \\\n",
       "10319    From RDC   N/A - From RDC         Truck                   10/16/2014   \n",
       "10320    From RDC   N/A - From RDC         Truck                   10/24/2014   \n",
       "10321    From RDC   N/A - From RDC         Truck                    8/12/2014   \n",
       "10322    From RDC   N/A - From RDC         Truck                     7/1/2015   \n",
       "10323    From RDC   N/A - From RDC         Truck                   10/16/2014   \n",
       "\n",
       "      po_sent_to_vendor_date scheduled_delivery_date delivered_to_client_date  \\\n",
       "10319         N/A - From RDC               31-Jul-15                15-Jul-15   \n",
       "10320         N/A - From RDC               31-Jul-15                 6-Aug-15   \n",
       "10321         N/A - From RDC               31-Aug-15                25-Aug-15   \n",
       "10322         N/A - From RDC                9-Sep-15                 4-Aug-15   \n",
       "10323         N/A - From RDC               31-Aug-15                 4-Aug-15   \n",
       "\n",
       "      delivery_recorded_date product_group sub_classification         vendor  \\\n",
       "10319              20-Jul-15           ARV          Pediatric  SCMS from RDC   \n",
       "10320               7-Aug-15           ARV              Adult  SCMS from RDC   \n",
       "10321               3-Sep-15           ARV              Adult  SCMS from RDC   \n",
       "10322              11-Aug-15           ARV              Adult  SCMS from RDC   \n",
       "10323              11-Aug-15           ARV          Pediatric  SCMS from RDC   \n",
       "\n",
       "                                        item_description  \\\n",
       "10319  Lamivudine/Nevirapine/Zidovudine 30/50/60mg, d...   \n",
       "10320  Lamivudine/Zidovudine 150/300mg, tablets, 60 Tabs   \n",
       "10321  Efavirenz/Lamivudine/Tenofovir Disoproxil Fuma...   \n",
       "10322  Lamivudine/Zidovudine 150/300mg, tablets, 60 Tabs   \n",
       "10323  Lamivudine/Zidovudine 30/60mg, dispersible tab...   \n",
       "\n",
       "                                       moleculetest_type    brand  \\\n",
       "10319                   Lamivudine/Nevirapine/Zidovudine  Generic   \n",
       "10320                              Lamivudine/Zidovudine  Generic   \n",
       "10321  Efavirenz/Lamivudine/Tenofovir Disoproxil Fuma...  Generic   \n",
       "10322                              Lamivudine/Zidovudine  Generic   \n",
       "10323                              Lamivudine/Zidovudine  Generic   \n",
       "\n",
       "              dosage                        dosage_form  \\\n",
       "10319     30/50/60mg  Chewable/dispersible tablet - FDC   \n",
       "10320      150/300mg                       Tablet - FDC   \n",
       "10321  600/300/300mg                       Tablet - FDC   \n",
       "10322      150/300mg                       Tablet - FDC   \n",
       "10323        30/60mg  Chewable/dispersible tablet - FDC   \n",
       "\n",
       "       unit_of_measure_per_pack  line_item_quantity  line_item_value  \\\n",
       "10319                        60              166571        599655.60   \n",
       "10320                        60               21072        137389.44   \n",
       "10321                        30              514526       5140114.74   \n",
       "10322                        60               17465        113871.80   \n",
       "10323                        60               36639         72911.61   \n",
       "\n",
       "       pack_price  unit_price              manufacturing_site  \\\n",
       "10319        3.60        0.06      Mylan,  H-12 & H-13, India   \n",
       "10320        6.52        0.11    Hetero Unit III Hyderabad IN   \n",
       "10321        9.99        0.33   Cipla Ltd A-42 MIDC Mahar. IN   \n",
       "10322        6.52        0.11  Mylan (formerly Matrix) Nashik   \n",
       "10323        1.99        0.03               Cipla, Goa, India   \n",
       "\n",
       "       first_line_designation            weight_kilograms  \\\n",
       "10319                   False     See DN-4307 (ID#:83920)   \n",
       "10320                   False     See DN-4313 (ID#:83921)   \n",
       "10321                   False  Weight Captured Separately   \n",
       "10322                    True                        1392   \n",
       "10323                   False  Weight Captured Separately   \n",
       "\n",
       "                         freight_cost_usd  line_item_insurance_usd  \n",
       "10319             See DN-4307 (ID#:83920)                   705.79  \n",
       "10320             See DN-4313 (ID#:83921)                   161.71  \n",
       "10321  Freight Included in Commodity Cost                  5284.04  \n",
       "10322  Freight Included in Commodity Cost                   134.03  \n",
       "10323  Freight Included in Commodity Cost                    85.82  "
      ]
     },
     "metadata": {},
     "output_type": "display_data"
    }
   ],
   "source": [
    "display(data.head())\n",
    "display(data.tail())"
   ]
  },
  {
   "cell_type": "markdown",
   "metadata": {},
   "source": [
    "Some initial observations when inspecting the header and footer of the dataset include:\n",
    "* `pq_num`,`po_so_num`,`asndn_num`,`managed_by`,`dosage_form` are likely represented by primary-secondary label pairs, can potentially split on the attribute with a `-` delimeter in its value, as an extra grouping column\n",
    "* `pq_first_sent_to_client_date`, `po_sent_to_vendor_date` has text fields instead of expected datetime values\n",
    "* `dosage` has existing null values\n",
    "* `vendor_inco_term`,`po_sent_to_vendor_date` has specific values alluding to null/unavailable dates\n",
    "* `item_description`,`moleculetest_type`,`manufacturing_site`,`weight_kilograms`,`freight_cost_usd` may possess noisy string inconsistencies or duplicative values"
   ]
  },
  {
   "cell_type": "markdown",
   "metadata": {},
   "source": [
    "## Convert to appropriate data types"
   ]
  },
  {
   "cell_type": "code",
   "execution_count": 7,
   "metadata": {},
   "outputs": [
    {
     "name": "stdout",
     "output_type": "stream",
     "text": [
      "<class 'pandas.core.frame.DataFrame'>\n",
      "Index: 10320 entries, 0 to 10323\n",
      "Data columns (total 32 columns):\n",
      " #   Column                        Non-Null Count  Dtype  \n",
      "---  ------                        --------------  -----  \n",
      " 0   project_code                  10320 non-null  object \n",
      " 1   pq_num                        10320 non-null  object \n",
      " 2   po_so_num                     10320 non-null  object \n",
      " 3   asndn_num                     10320 non-null  object \n",
      " 4   country                       10320 non-null  object \n",
      " 5   managed_by                    10320 non-null  object \n",
      " 6   fulfill_via                   10320 non-null  object \n",
      " 7   vendor_inco_term              10320 non-null  object \n",
      " 8   shipment_mode                 9960 non-null   object \n",
      " 9   pq_first_sent_to_client_date  10320 non-null  object \n",
      " 10  po_sent_to_vendor_date        10320 non-null  object \n",
      " 11  scheduled_delivery_date       10320 non-null  object \n",
      " 12  delivered_to_client_date      10320 non-null  object \n",
      " 13  delivery_recorded_date        10320 non-null  object \n",
      " 14  product_group                 10320 non-null  object \n",
      " 15  sub_classification            10320 non-null  object \n",
      " 16  vendor                        10320 non-null  object \n",
      " 17  item_description              10320 non-null  object \n",
      " 18  moleculetest_type             10320 non-null  object \n",
      " 19  brand                         10320 non-null  object \n",
      " 20  dosage                        8586 non-null   object \n",
      " 21  dosage_form                   10320 non-null  object \n",
      " 22  unit_of_measure_per_pack      10320 non-null  int64  \n",
      " 23  line_item_quantity            10320 non-null  int64  \n",
      " 24  line_item_value               10320 non-null  float64\n",
      " 25  pack_price                    10320 non-null  float64\n",
      " 26  unit_price                    10320 non-null  float64\n",
      " 27  manufacturing_site            10320 non-null  object \n",
      " 28  first_line_designation        10320 non-null  bool   \n",
      " 29  weight_kilograms              10320 non-null  object \n",
      " 30  freight_cost_usd              10320 non-null  object \n",
      " 31  line_item_insurance_usd       10033 non-null  float64\n",
      "dtypes: bool(1), float64(4), int64(2), object(25)\n",
      "memory usage: 2.5+ MB\n"
     ]
    }
   ],
   "source": [
    "data.info()"
   ]
  },
  {
   "cell_type": "markdown",
   "metadata": {},
   "source": [
    "Conversion steps, referencing data dictionary:\n",
    "- Convert date fields to proper datetime Dtypes\n",
    "- all other fields are correctly identified as object/int64/float64\n",
    "\n",
    "\n",
    "Observations:\n",
    "1. invalid text fiels for data columns: `po_sent_to_vendor_date`,`pq_first_sent_to_client_date` \n",
    "    < insert explanation here>\n"
   ]
  },
  {
   "cell_type": "code",
   "execution_count": 16,
   "metadata": {},
   "outputs": [
    {
     "data": {
      "text/html": [
       "<div>\n",
       "<style scoped>\n",
       "    .dataframe tbody tr th:only-of-type {\n",
       "        vertical-align: middle;\n",
       "    }\n",
       "\n",
       "    .dataframe tbody tr th {\n",
       "        vertical-align: top;\n",
       "    }\n",
       "\n",
       "    .dataframe thead th {\n",
       "        text-align: right;\n",
       "    }\n",
       "</style>\n",
       "<table border=\"1\" class=\"dataframe\">\n",
       "  <thead>\n",
       "    <tr style=\"text-align: right;\">\n",
       "      <th></th>\n",
       "      <th>po_sent_to_vendor_date</th>\n",
       "      <th>scheduled_delivery_date</th>\n",
       "      <th>delivered_to_client_date</th>\n",
       "      <th>delivery_recorded_date</th>\n",
       "      <th>pq_first_sent_to_client_date</th>\n",
       "    </tr>\n",
       "  </thead>\n",
       "  <tbody>\n",
       "    <tr>\n",
       "      <th>0</th>\n",
       "      <td>NaT</td>\n",
       "      <td>2006-06-02</td>\n",
       "      <td>2006-06-02</td>\n",
       "      <td>2006-06-02</td>\n",
       "      <td>NaT</td>\n",
       "    </tr>\n",
       "    <tr>\n",
       "      <th>1</th>\n",
       "      <td>NaT</td>\n",
       "      <td>2006-11-14</td>\n",
       "      <td>2006-11-14</td>\n",
       "      <td>2006-11-14</td>\n",
       "      <td>NaT</td>\n",
       "    </tr>\n",
       "    <tr>\n",
       "      <th>2</th>\n",
       "      <td>NaT</td>\n",
       "      <td>2006-08-27</td>\n",
       "      <td>2006-08-27</td>\n",
       "      <td>2006-08-27</td>\n",
       "      <td>NaT</td>\n",
       "    </tr>\n",
       "    <tr>\n",
       "      <th>3</th>\n",
       "      <td>NaT</td>\n",
       "      <td>2006-09-01</td>\n",
       "      <td>2006-09-01</td>\n",
       "      <td>2006-09-01</td>\n",
       "      <td>NaT</td>\n",
       "    </tr>\n",
       "    <tr>\n",
       "      <th>4</th>\n",
       "      <td>NaT</td>\n",
       "      <td>2006-08-11</td>\n",
       "      <td>2006-08-11</td>\n",
       "      <td>2006-08-11</td>\n",
       "      <td>NaT</td>\n",
       "    </tr>\n",
       "    <tr>\n",
       "      <th>...</th>\n",
       "      <td>...</td>\n",
       "      <td>...</td>\n",
       "      <td>...</td>\n",
       "      <td>...</td>\n",
       "      <td>...</td>\n",
       "    </tr>\n",
       "    <tr>\n",
       "      <th>10319</th>\n",
       "      <td>NaT</td>\n",
       "      <td>2015-07-31</td>\n",
       "      <td>2015-07-15</td>\n",
       "      <td>2015-07-20</td>\n",
       "      <td>NaT</td>\n",
       "    </tr>\n",
       "    <tr>\n",
       "      <th>10320</th>\n",
       "      <td>NaT</td>\n",
       "      <td>2015-07-31</td>\n",
       "      <td>2015-08-06</td>\n",
       "      <td>2015-08-07</td>\n",
       "      <td>NaT</td>\n",
       "    </tr>\n",
       "    <tr>\n",
       "      <th>10321</th>\n",
       "      <td>NaT</td>\n",
       "      <td>2015-08-31</td>\n",
       "      <td>2015-08-25</td>\n",
       "      <td>2015-09-03</td>\n",
       "      <td>NaT</td>\n",
       "    </tr>\n",
       "    <tr>\n",
       "      <th>10322</th>\n",
       "      <td>NaT</td>\n",
       "      <td>2015-09-09</td>\n",
       "      <td>2015-08-04</td>\n",
       "      <td>2015-08-11</td>\n",
       "      <td>NaT</td>\n",
       "    </tr>\n",
       "    <tr>\n",
       "      <th>10323</th>\n",
       "      <td>NaT</td>\n",
       "      <td>2015-08-31</td>\n",
       "      <td>2015-08-04</td>\n",
       "      <td>2015-08-11</td>\n",
       "      <td>NaT</td>\n",
       "    </tr>\n",
       "  </tbody>\n",
       "</table>\n",
       "<p>10320 rows × 5 columns</p>\n",
       "</div>"
      ],
      "text/plain": [
       "      po_sent_to_vendor_date scheduled_delivery_date delivered_to_client_date  \\\n",
       "0                        NaT              2006-06-02               2006-06-02   \n",
       "1                        NaT              2006-11-14               2006-11-14   \n",
       "2                        NaT              2006-08-27               2006-08-27   \n",
       "3                        NaT              2006-09-01               2006-09-01   \n",
       "4                        NaT              2006-08-11               2006-08-11   \n",
       "...                      ...                     ...                      ...   \n",
       "10319                    NaT              2015-07-31               2015-07-15   \n",
       "10320                    NaT              2015-07-31               2015-08-06   \n",
       "10321                    NaT              2015-08-31               2015-08-25   \n",
       "10322                    NaT              2015-09-09               2015-08-04   \n",
       "10323                    NaT              2015-08-31               2015-08-04   \n",
       "\n",
       "      delivery_recorded_date pq_first_sent_to_client_date  \n",
       "0                 2006-06-02                          NaT  \n",
       "1                 2006-11-14                          NaT  \n",
       "2                 2006-08-27                          NaT  \n",
       "3                 2006-09-01                          NaT  \n",
       "4                 2006-08-11                          NaT  \n",
       "...                      ...                          ...  \n",
       "10319             2015-07-20                          NaT  \n",
       "10320             2015-08-07                          NaT  \n",
       "10321             2015-09-03                          NaT  \n",
       "10322             2015-08-11                          NaT  \n",
       "10323             2015-08-11                          NaT  \n",
       "\n",
       "[10320 rows x 5 columns]"
      ]
     },
     "metadata": {},
     "output_type": "display_data"
    }
   ],
   "source": [
    "# replace invalid fields with nulls for date columns\n",
    "data['po_sent_to_vendor_date'] = data['po_sent_to_vendor_date'].replace(['Date Not Captured', 'N/A - From RDC'],np.nan)\n",
    "data['pq_first_sent_to_client_date'] = data['po_sent_to_vendor_date'].replace(['Date Not Captured', 'Pre-PQ Process'],np.nan)\n",
    "\n",
    "\n",
    "date_cols = ['po_sent_to_vendor_date',\n",
    " 'scheduled_delivery_date',\n",
    " 'delivered_to_client_date',\n",
    " 'delivery_recorded_date',\n",
    " 'pq_first_sent_to_client_date'\n",
    " ]\n",
    "for d in date_cols:\n",
    "    data[d] = pd.to_datetime(data[d])\n",
    "    data[d + '_year'] = data[d].apply(lambda x: x.year)\n",
    "    \n",
    "display(data[date_cols])"
   ]
  },
  {
   "cell_type": "markdown",
   "metadata": {},
   "source": [
    "## Identify cardinality of each feature\n"
   ]
  },
  {
   "cell_type": "code",
   "execution_count": 222,
   "metadata": {},
   "outputs": [
    {
     "data": {
      "text/html": [
       "<div>\n",
       "<style scoped>\n",
       "    .dataframe tbody tr th:only-of-type {\n",
       "        vertical-align: middle;\n",
       "    }\n",
       "\n",
       "    .dataframe tbody tr th {\n",
       "        vertical-align: top;\n",
       "    }\n",
       "\n",
       "    .dataframe thead th {\n",
       "        text-align: right;\n",
       "    }\n",
       "</style>\n",
       "<table border=\"1\" class=\"dataframe\">\n",
       "  <thead>\n",
       "    <tr style=\"text-align: right;\">\n",
       "      <th></th>\n",
       "      <th>nunique</th>\n",
       "    </tr>\n",
       "  </thead>\n",
       "  <tbody>\n",
       "    <tr>\n",
       "      <th>first_line_designation</th>\n",
       "      <td>2</td>\n",
       "    </tr>\n",
       "    <tr>\n",
       "      <th>fulfill_via</th>\n",
       "      <td>2</td>\n",
       "    </tr>\n",
       "    <tr>\n",
       "      <th>managed_by</th>\n",
       "      <td>4</td>\n",
       "    </tr>\n",
       "    <tr>\n",
       "      <th>shipment_mode</th>\n",
       "      <td>4</td>\n",
       "    </tr>\n",
       "    <tr>\n",
       "      <th>product_group</th>\n",
       "      <td>5</td>\n",
       "    </tr>\n",
       "    <tr>\n",
       "      <th>sub_classification</th>\n",
       "      <td>6</td>\n",
       "    </tr>\n",
       "    <tr>\n",
       "      <th>vendor_inco_term</th>\n",
       "      <td>8</td>\n",
       "    </tr>\n",
       "    <tr>\n",
       "      <th>dosage_form</th>\n",
       "      <td>17</td>\n",
       "    </tr>\n",
       "    <tr>\n",
       "      <th>unit_of_measure_per_pack</th>\n",
       "      <td>31</td>\n",
       "    </tr>\n",
       "    <tr>\n",
       "      <th>country</th>\n",
       "      <td>43</td>\n",
       "    </tr>\n",
       "    <tr>\n",
       "      <th>brand</th>\n",
       "      <td>48</td>\n",
       "    </tr>\n",
       "    <tr>\n",
       "      <th>dosage</th>\n",
       "      <td>54</td>\n",
       "    </tr>\n",
       "    <tr>\n",
       "      <th>vendor</th>\n",
       "      <td>73</td>\n",
       "    </tr>\n",
       "    <tr>\n",
       "      <th>moleculetest_type</th>\n",
       "      <td>86</td>\n",
       "    </tr>\n",
       "    <tr>\n",
       "      <th>manufacturing_site</th>\n",
       "      <td>88</td>\n",
       "    </tr>\n",
       "    <tr>\n",
       "      <th>project_code</th>\n",
       "      <td>142</td>\n",
       "    </tr>\n",
       "    <tr>\n",
       "      <th>unit_price</th>\n",
       "      <td>183</td>\n",
       "    </tr>\n",
       "    <tr>\n",
       "      <th>item_description</th>\n",
       "      <td>184</td>\n",
       "    </tr>\n",
       "    <tr>\n",
       "      <th>po_sent_to_vendor_date</th>\n",
       "      <td>895</td>\n",
       "    </tr>\n",
       "    <tr>\n",
       "      <th>pq_first_sent_to_client_date</th>\n",
       "      <td>895</td>\n",
       "    </tr>\n",
       "    <tr>\n",
       "      <th>pack_price</th>\n",
       "      <td>1175</td>\n",
       "    </tr>\n",
       "    <tr>\n",
       "      <th>pq_num</th>\n",
       "      <td>1237</td>\n",
       "    </tr>\n",
       "    <tr>\n",
       "      <th>scheduled_delivery_date</th>\n",
       "      <td>2006</td>\n",
       "    </tr>\n",
       "    <tr>\n",
       "      <th>delivery_recorded_date</th>\n",
       "      <td>2042</td>\n",
       "    </tr>\n",
       "    <tr>\n",
       "      <th>delivered_to_client_date</th>\n",
       "      <td>2093</td>\n",
       "    </tr>\n",
       "    <tr>\n",
       "      <th>weight_kilograms</th>\n",
       "      <td>4688</td>\n",
       "    </tr>\n",
       "    <tr>\n",
       "      <th>line_item_quantity</th>\n",
       "      <td>5065</td>\n",
       "    </tr>\n",
       "    <tr>\n",
       "      <th>po_so_num</th>\n",
       "      <td>6233</td>\n",
       "    </tr>\n",
       "    <tr>\n",
       "      <th>line_item_insurance_usd</th>\n",
       "      <td>6722</td>\n",
       "    </tr>\n",
       "    <tr>\n",
       "      <th>freight_cost_usd</th>\n",
       "      <td>6733</td>\n",
       "    </tr>\n",
       "    <tr>\n",
       "      <th>asndn_num</th>\n",
       "      <td>7030</td>\n",
       "    </tr>\n",
       "    <tr>\n",
       "      <th>line_item_value</th>\n",
       "      <td>8741</td>\n",
       "    </tr>\n",
       "  </tbody>\n",
       "</table>\n",
       "</div>"
      ],
      "text/plain": [
       "                              nunique\n",
       "first_line_designation              2\n",
       "fulfill_via                         2\n",
       "managed_by                          4\n",
       "shipment_mode                       4\n",
       "product_group                       5\n",
       "sub_classification                  6\n",
       "vendor_inco_term                    8\n",
       "dosage_form                        17\n",
       "unit_of_measure_per_pack           31\n",
       "country                            43\n",
       "brand                              48\n",
       "dosage                             54\n",
       "vendor                             73\n",
       "moleculetest_type                  86\n",
       "manufacturing_site                 88\n",
       "project_code                      142\n",
       "unit_price                        183\n",
       "item_description                  184\n",
       "po_sent_to_vendor_date            895\n",
       "pq_first_sent_to_client_date      895\n",
       "pack_price                       1175\n",
       "pq_num                           1237\n",
       "scheduled_delivery_date          2006\n",
       "delivery_recorded_date           2042\n",
       "delivered_to_client_date         2093\n",
       "weight_kilograms                 4688\n",
       "line_item_quantity               5065\n",
       "po_so_num                        6233\n",
       "line_item_insurance_usd          6722\n",
       "freight_cost_usd                 6733\n",
       "asndn_num                        7030\n",
       "line_item_value                  8741"
      ]
     },
     "execution_count": 222,
     "metadata": {},
     "output_type": "execute_result"
    }
   ],
   "source": [
    "\n",
    "#based on data dictionary and data types, we can expect low cardinality for binary (boolean) variables, and other variables of low factor level counts\n",
    "# continuous attributes can take many possible values\n",
    "\n",
    "data.nunique().to_frame('nunique').sort_values('nunique')\n"
   ]
  },
  {
   "cell_type": "code",
   "execution_count": 223,
   "metadata": {},
   "outputs": [
    {
     "data": {
      "text/html": [
       "<div>\n",
       "<style scoped>\n",
       "    .dataframe tbody tr th:only-of-type {\n",
       "        vertical-align: middle;\n",
       "    }\n",
       "\n",
       "    .dataframe tbody tr th {\n",
       "        vertical-align: top;\n",
       "    }\n",
       "\n",
       "    .dataframe thead th {\n",
       "        text-align: right;\n",
       "    }\n",
       "</style>\n",
       "<table border=\"1\" class=\"dataframe\">\n",
       "  <thead>\n",
       "    <tr style=\"text-align: right;\">\n",
       "      <th></th>\n",
       "      <th>count</th>\n",
       "      <th>unique</th>\n",
       "      <th>top</th>\n",
       "      <th>freq</th>\n",
       "    </tr>\n",
       "  </thead>\n",
       "  <tbody>\n",
       "    <tr>\n",
       "      <th>project_code</th>\n",
       "      <td>10320</td>\n",
       "      <td>142</td>\n",
       "      <td>116-ZA-T30</td>\n",
       "      <td>768</td>\n",
       "    </tr>\n",
       "    <tr>\n",
       "      <th>pq_num</th>\n",
       "      <td>10320</td>\n",
       "      <td>1237</td>\n",
       "      <td>Pre-PQ Process</td>\n",
       "      <td>2678</td>\n",
       "    </tr>\n",
       "    <tr>\n",
       "      <th>po_so_num</th>\n",
       "      <td>10320</td>\n",
       "      <td>6233</td>\n",
       "      <td>SCMS-199289</td>\n",
       "      <td>67</td>\n",
       "    </tr>\n",
       "    <tr>\n",
       "      <th>asndn_num</th>\n",
       "      <td>10320</td>\n",
       "      <td>7030</td>\n",
       "      <td>ASN-19166</td>\n",
       "      <td>54</td>\n",
       "    </tr>\n",
       "    <tr>\n",
       "      <th>country</th>\n",
       "      <td>10320</td>\n",
       "      <td>43</td>\n",
       "      <td>South Africa</td>\n",
       "      <td>1406</td>\n",
       "    </tr>\n",
       "    <tr>\n",
       "      <th>managed_by</th>\n",
       "      <td>10320</td>\n",
       "      <td>4</td>\n",
       "      <td>PMO - US</td>\n",
       "      <td>10261</td>\n",
       "    </tr>\n",
       "    <tr>\n",
       "      <th>fulfill_via</th>\n",
       "      <td>10320</td>\n",
       "      <td>2</td>\n",
       "      <td>From RDC</td>\n",
       "      <td>5401</td>\n",
       "    </tr>\n",
       "    <tr>\n",
       "      <th>vendor_inco_term</th>\n",
       "      <td>10320</td>\n",
       "      <td>8</td>\n",
       "      <td>N/A - From RDC</td>\n",
       "      <td>5401</td>\n",
       "    </tr>\n",
       "    <tr>\n",
       "      <th>shipment_mode</th>\n",
       "      <td>9960</td>\n",
       "      <td>4</td>\n",
       "      <td>Air</td>\n",
       "      <td>6109</td>\n",
       "    </tr>\n",
       "    <tr>\n",
       "      <th>product_group</th>\n",
       "      <td>10320</td>\n",
       "      <td>5</td>\n",
       "      <td>ARV</td>\n",
       "      <td>8548</td>\n",
       "    </tr>\n",
       "    <tr>\n",
       "      <th>sub_classification</th>\n",
       "      <td>10320</td>\n",
       "      <td>6</td>\n",
       "      <td>Adult</td>\n",
       "      <td>6593</td>\n",
       "    </tr>\n",
       "    <tr>\n",
       "      <th>vendor</th>\n",
       "      <td>10320</td>\n",
       "      <td>73</td>\n",
       "      <td>SCMS from RDC</td>\n",
       "      <td>5401</td>\n",
       "    </tr>\n",
       "    <tr>\n",
       "      <th>item_description</th>\n",
       "      <td>10320</td>\n",
       "      <td>184</td>\n",
       "      <td>Efavirenz 600mg, tablets, 30 Tabs</td>\n",
       "      <td>753</td>\n",
       "    </tr>\n",
       "    <tr>\n",
       "      <th>moleculetest_type</th>\n",
       "      <td>10320</td>\n",
       "      <td>86</td>\n",
       "      <td>Efavirenz</td>\n",
       "      <td>1123</td>\n",
       "    </tr>\n",
       "    <tr>\n",
       "      <th>brand</th>\n",
       "      <td>10320</td>\n",
       "      <td>48</td>\n",
       "      <td>Generic</td>\n",
       "      <td>7283</td>\n",
       "    </tr>\n",
       "    <tr>\n",
       "      <th>dosage</th>\n",
       "      <td>8586</td>\n",
       "      <td>54</td>\n",
       "      <td>300mg</td>\n",
       "      <td>990</td>\n",
       "    </tr>\n",
       "    <tr>\n",
       "      <th>dosage_form</th>\n",
       "      <td>10320</td>\n",
       "      <td>17</td>\n",
       "      <td>Tablet</td>\n",
       "      <td>3530</td>\n",
       "    </tr>\n",
       "    <tr>\n",
       "      <th>manufacturing_site</th>\n",
       "      <td>10320</td>\n",
       "      <td>88</td>\n",
       "      <td>Aurobindo Unit III, India</td>\n",
       "      <td>3171</td>\n",
       "    </tr>\n",
       "    <tr>\n",
       "      <th>weight_kilograms</th>\n",
       "      <td>10320</td>\n",
       "      <td>4688</td>\n",
       "      <td>Weight Captured Separately</td>\n",
       "      <td>1507</td>\n",
       "    </tr>\n",
       "    <tr>\n",
       "      <th>freight_cost_usd</th>\n",
       "      <td>10320</td>\n",
       "      <td>6733</td>\n",
       "      <td>Freight Included in Commodity Cost</td>\n",
       "      <td>1442</td>\n",
       "    </tr>\n",
       "  </tbody>\n",
       "</table>\n",
       "</div>"
      ],
      "text/plain": [
       "                    count unique                                 top   freq\n",
       "project_code        10320    142                          116-ZA-T30    768\n",
       "pq_num              10320   1237                      Pre-PQ Process   2678\n",
       "po_so_num           10320   6233                         SCMS-199289     67\n",
       "asndn_num           10320   7030                           ASN-19166     54\n",
       "country             10320     43                        South Africa   1406\n",
       "managed_by          10320      4                            PMO - US  10261\n",
       "fulfill_via         10320      2                            From RDC   5401\n",
       "vendor_inco_term    10320      8                      N/A - From RDC   5401\n",
       "shipment_mode        9960      4                                 Air   6109\n",
       "product_group       10320      5                                 ARV   8548\n",
       "sub_classification  10320      6                               Adult   6593\n",
       "vendor              10320     73                       SCMS from RDC   5401\n",
       "item_description    10320    184   Efavirenz 600mg, tablets, 30 Tabs    753\n",
       "moleculetest_type   10320     86                           Efavirenz   1123\n",
       "brand               10320     48                             Generic   7283\n",
       "dosage               8586     54                               300mg    990\n",
       "dosage_form         10320     17                              Tablet   3530\n",
       "manufacturing_site  10320     88           Aurobindo Unit III, India   3171\n",
       "weight_kilograms    10320   4688          Weight Captured Separately   1507\n",
       "freight_cost_usd    10320   6733  Freight Included in Commodity Cost   1442"
      ]
     },
     "execution_count": 223,
     "metadata": {},
     "output_type": "execute_result"
    }
   ],
   "source": [
    "data.describe(include=object).T"
   ]
  },
  {
   "cell_type": "markdown",
   "metadata": {},
   "source": [
    "The only boolean field is `first_line_designation` and should be a binary attribute with 2 possible values (T/F). `fulfill_via` is another binary column."
   ]
  },
  {
   "cell_type": "markdown",
   "metadata": {},
   "source": [
    "## Clean categorical features with noisy text fields\n",
    "\n",
    "`item_description`,`moleculetest_type`,`manufacturing_site`,`weight_kilograms`,`freight_cost_usd` "
   ]
  },
  {
   "cell_type": "code",
   "execution_count": 36,
   "metadata": {},
   "outputs": [
    {
     "data": {
      "text/html": [
       "<div>\n",
       "<style scoped>\n",
       "    .dataframe tbody tr th:only-of-type {\n",
       "        vertical-align: middle;\n",
       "    }\n",
       "\n",
       "    .dataframe tbody tr th {\n",
       "        vertical-align: top;\n",
       "    }\n",
       "\n",
       "    .dataframe thead th {\n",
       "        text-align: right;\n",
       "    }\n",
       "</style>\n",
       "<table border=\"1\" class=\"dataframe\">\n",
       "  <thead>\n",
       "    <tr style=\"text-align: right;\">\n",
       "      <th></th>\n",
       "      <th>item_description</th>\n",
       "    </tr>\n",
       "  </thead>\n",
       "  <tbody>\n",
       "    <tr>\n",
       "      <th>15</th>\n",
       "      <td>#102198**Didanosine 200mg [Videx], tablets, 60...</td>\n",
       "    </tr>\n",
       "    <tr>\n",
       "      <th>39</th>\n",
       "      <td>#108853** HIV, Genie II HIV-1/HIV-2 Kit, 40 Tests</td>\n",
       "    </tr>\n",
       "    <tr>\n",
       "      <th>843</th>\n",
       "      <td>#109435**HIV, OraQuick Controls Kit, 3 Vials</td>\n",
       "    </tr>\n",
       "    <tr>\n",
       "      <th>75</th>\n",
       "      <td>#109436**HIV 1, Uni-Gold Recombigen HIV Contro...</td>\n",
       "    </tr>\n",
       "    <tr>\n",
       "      <th>224</th>\n",
       "      <td>#109440**HIV 1/2, INSTI HIV Antibody Individua...</td>\n",
       "    </tr>\n",
       "    <tr>\n",
       "      <th>...</th>\n",
       "      <td>...</td>\n",
       "    </tr>\n",
       "    <tr>\n",
       "      <th>251</th>\n",
       "      <td>Zidovudine 10mg/ml [Retrovir], solution for IV...</td>\n",
       "    </tr>\n",
       "    <tr>\n",
       "      <th>2725</th>\n",
       "      <td>Zidovudine 10mg/ml, oral solution w/syringe, B...</td>\n",
       "    </tr>\n",
       "    <tr>\n",
       "      <th>5</th>\n",
       "      <td>Zidovudine 10mg/ml, oral solution, Bottle, 240 ml</td>\n",
       "    </tr>\n",
       "    <tr>\n",
       "      <th>109</th>\n",
       "      <td>Zidovudine 300mg [Retrovir], tablets, 60 Tabs</td>\n",
       "    </tr>\n",
       "    <tr>\n",
       "      <th>18</th>\n",
       "      <td>Zidovudine 300mg, tablets, 60 Tabs</td>\n",
       "    </tr>\n",
       "  </tbody>\n",
       "</table>\n",
       "<p>184 rows × 1 columns</p>\n",
       "</div>"
      ],
      "text/plain": [
       "                                       item_description\n",
       "15    #102198**Didanosine 200mg [Videx], tablets, 60...\n",
       "39    #108853** HIV, Genie II HIV-1/HIV-2 Kit, 40 Tests\n",
       "843        #109435**HIV, OraQuick Controls Kit, 3 Vials\n",
       "75    #109436**HIV 1, Uni-Gold Recombigen HIV Contro...\n",
       "224   #109440**HIV 1/2, INSTI HIV Antibody Individua...\n",
       "...                                                 ...\n",
       "251   Zidovudine 10mg/ml [Retrovir], solution for IV...\n",
       "2725  Zidovudine 10mg/ml, oral solution w/syringe, B...\n",
       "5     Zidovudine 10mg/ml, oral solution, Bottle, 240 ml\n",
       "109       Zidovudine 300mg [Retrovir], tablets, 60 Tabs\n",
       "18                   Zidovudine 300mg, tablets, 60 Tabs\n",
       "\n",
       "[184 rows x 1 columns]"
      ]
     },
     "metadata": {},
     "output_type": "display_data"
    },
    {
     "data": {
      "text/html": [
       "<div>\n",
       "<style scoped>\n",
       "    .dataframe tbody tr th:only-of-type {\n",
       "        vertical-align: middle;\n",
       "    }\n",
       "\n",
       "    .dataframe tbody tr th {\n",
       "        vertical-align: top;\n",
       "    }\n",
       "\n",
       "    .dataframe thead th {\n",
       "        text-align: right;\n",
       "    }\n",
       "</style>\n",
       "<table border=\"1\" class=\"dataframe\">\n",
       "  <thead>\n",
       "    <tr style=\"text-align: right;\">\n",
       "      <th></th>\n",
       "      <th>moleculetest_type</th>\n",
       "    </tr>\n",
       "  </thead>\n",
       "  <tbody>\n",
       "    <tr>\n",
       "      <th>62</th>\n",
       "      <td>Abacavir</td>\n",
       "    </tr>\n",
       "    <tr>\n",
       "      <th>2870</th>\n",
       "      <td>Abacavir/Lamivudine</td>\n",
       "    </tr>\n",
       "    <tr>\n",
       "      <th>401</th>\n",
       "      <td>Abacavir/Lamivudine/Zidovudine</td>\n",
       "    </tr>\n",
       "    <tr>\n",
       "      <th>64</th>\n",
       "      <td>Artemether/Lumefantrine</td>\n",
       "    </tr>\n",
       "    <tr>\n",
       "      <th>72</th>\n",
       "      <td>Artesunate+Amodiaquine</td>\n",
       "    </tr>\n",
       "    <tr>\n",
       "      <th>...</th>\n",
       "      <td>...</td>\n",
       "    </tr>\n",
       "    <tr>\n",
       "      <th>48</th>\n",
       "      <td>Saquinavir</td>\n",
       "    </tr>\n",
       "    <tr>\n",
       "      <th>4</th>\n",
       "      <td>Stavudine</td>\n",
       "    </tr>\n",
       "    <tr>\n",
       "      <th>597</th>\n",
       "      <td>Sulfadoxine/Pyrimethamine</td>\n",
       "    </tr>\n",
       "    <tr>\n",
       "      <th>33</th>\n",
       "      <td>Tenofovir Disoproxil Fumarate</td>\n",
       "    </tr>\n",
       "    <tr>\n",
       "      <th>5</th>\n",
       "      <td>Zidovudine</td>\n",
       "    </tr>\n",
       "  </tbody>\n",
       "</table>\n",
       "<p>86 rows × 1 columns</p>\n",
       "</div>"
      ],
      "text/plain": [
       "                   moleculetest_type\n",
       "62                          Abacavir\n",
       "2870             Abacavir/Lamivudine\n",
       "401   Abacavir/Lamivudine/Zidovudine\n",
       "64           Artemether/Lumefantrine\n",
       "72            Artesunate+Amodiaquine\n",
       "...                              ...\n",
       "48                        Saquinavir\n",
       "4                          Stavudine\n",
       "597        Sulfadoxine/Pyrimethamine\n",
       "33     Tenofovir Disoproxil Fumarate\n",
       "5                         Zidovudine\n",
       "\n",
       "[86 rows x 1 columns]"
      ]
     },
     "metadata": {},
     "output_type": "display_data"
    },
    {
     "data": {
      "text/html": [
       "<div>\n",
       "<style scoped>\n",
       "    .dataframe tbody tr th:only-of-type {\n",
       "        vertical-align: middle;\n",
       "    }\n",
       "\n",
       "    .dataframe tbody tr th {\n",
       "        vertical-align: top;\n",
       "    }\n",
       "\n",
       "    .dataframe thead th {\n",
       "        text-align: right;\n",
       "    }\n",
       "</style>\n",
       "<table border=\"1\" class=\"dataframe\">\n",
       "  <thead>\n",
       "    <tr style=\"text-align: right;\">\n",
       "      <th></th>\n",
       "      <th>manufacturing_site</th>\n",
       "    </tr>\n",
       "  </thead>\n",
       "  <tbody>\n",
       "    <tr>\n",
       "      <th>140</th>\n",
       "      <td>ABBSP</td>\n",
       "    </tr>\n",
       "    <tr>\n",
       "      <th>122</th>\n",
       "      <td>ABBVIE (Abbott) France</td>\n",
       "    </tr>\n",
       "    <tr>\n",
       "      <th>779</th>\n",
       "      <td>ABBVIE (Abbott) Japan Co. Ltd.</td>\n",
       "    </tr>\n",
       "    <tr>\n",
       "      <th>82</th>\n",
       "      <td>ABBVIE (Abbott) Logis. UK</td>\n",
       "    </tr>\n",
       "    <tr>\n",
       "      <th>9</th>\n",
       "      <td>ABBVIE (Abbott) St. P'burg USA</td>\n",
       "    </tr>\n",
       "    <tr>\n",
       "      <th>...</th>\n",
       "      <td>...</td>\n",
       "    </tr>\n",
       "    <tr>\n",
       "      <th>27</th>\n",
       "      <td>Standard Diagnostics, Korea</td>\n",
       "    </tr>\n",
       "    <tr>\n",
       "      <th>138</th>\n",
       "      <td>Strides, Bangalore, India.</td>\n",
       "    </tr>\n",
       "    <tr>\n",
       "      <th>11</th>\n",
       "      <td>Trinity Biotech, Plc</td>\n",
       "    </tr>\n",
       "    <tr>\n",
       "      <th>953</th>\n",
       "      <td>Weifa A.S., Hausmanngt. 6, P.O. Box 9113 GrÃ¸n...</td>\n",
       "    </tr>\n",
       "    <tr>\n",
       "      <th>224</th>\n",
       "      <td>bioLytical Laboratories</td>\n",
       "    </tr>\n",
       "  </tbody>\n",
       "</table>\n",
       "<p>88 rows × 1 columns</p>\n",
       "</div>"
      ],
      "text/plain": [
       "                                    manufacturing_site\n",
       "140                                              ABBSP\n",
       "122                             ABBVIE (Abbott) France\n",
       "779                     ABBVIE (Abbott) Japan Co. Ltd.\n",
       "82                           ABBVIE (Abbott) Logis. UK\n",
       "9                       ABBVIE (Abbott) St. P'burg USA\n",
       "..                                                 ...\n",
       "27                         Standard Diagnostics, Korea\n",
       "138                         Strides, Bangalore, India.\n",
       "11                                Trinity Biotech, Plc\n",
       "953  Weifa A.S., Hausmanngt. 6, P.O. Box 9113 GrÃ¸n...\n",
       "224                            bioLytical Laboratories\n",
       "\n",
       "[88 rows x 1 columns]"
      ]
     },
     "metadata": {},
     "output_type": "display_data"
    },
    {
     "data": {
      "text/html": [
       "<div>\n",
       "<style scoped>\n",
       "    .dataframe tbody tr th:only-of-type {\n",
       "        vertical-align: middle;\n",
       "    }\n",
       "\n",
       "    .dataframe tbody tr th {\n",
       "        vertical-align: top;\n",
       "    }\n",
       "\n",
       "    .dataframe thead th {\n",
       "        text-align: right;\n",
       "    }\n",
       "</style>\n",
       "<table border=\"1\" class=\"dataframe\">\n",
       "  <thead>\n",
       "    <tr style=\"text-align: right;\">\n",
       "      <th></th>\n",
       "      <th>weight_kilograms</th>\n",
       "    </tr>\n",
       "  </thead>\n",
       "  <tbody>\n",
       "    <tr>\n",
       "      <th>3286</th>\n",
       "      <td>0</td>\n",
       "    </tr>\n",
       "    <tr>\n",
       "      <th>75</th>\n",
       "      <td>1</td>\n",
       "    </tr>\n",
       "    <tr>\n",
       "      <th>97</th>\n",
       "      <td>10</td>\n",
       "    </tr>\n",
       "    <tr>\n",
       "      <th>76</th>\n",
       "      <td>100</td>\n",
       "    </tr>\n",
       "    <tr>\n",
       "      <th>451</th>\n",
       "      <td>1000</td>\n",
       "    </tr>\n",
       "    <tr>\n",
       "      <th>...</th>\n",
       "      <td>...</td>\n",
       "    </tr>\n",
       "    <tr>\n",
       "      <th>1556</th>\n",
       "      <td>See DN-990 (ID#:11001)</td>\n",
       "    </tr>\n",
       "    <tr>\n",
       "      <th>2418</th>\n",
       "      <td>See DN-992 (ID#:11602)</td>\n",
       "    </tr>\n",
       "    <tr>\n",
       "      <th>2408</th>\n",
       "      <td>See DN-993 (ID#:11919)</td>\n",
       "    </tr>\n",
       "    <tr>\n",
       "      <th>1978</th>\n",
       "      <td>See DN-998 (ID#:11568)</td>\n",
       "    </tr>\n",
       "    <tr>\n",
       "      <th>12</th>\n",
       "      <td>Weight Captured Separately</td>\n",
       "    </tr>\n",
       "  </tbody>\n",
       "</table>\n",
       "<p>4688 rows × 1 columns</p>\n",
       "</div>"
      ],
      "text/plain": [
       "                weight_kilograms\n",
       "3286                           0\n",
       "75                             1\n",
       "97                            10\n",
       "76                           100\n",
       "451                         1000\n",
       "...                          ...\n",
       "1556      See DN-990 (ID#:11001)\n",
       "2418      See DN-992 (ID#:11602)\n",
       "2408      See DN-993 (ID#:11919)\n",
       "1978      See DN-998 (ID#:11568)\n",
       "12    Weight Captured Separately\n",
       "\n",
       "[4688 rows x 1 columns]"
      ]
     },
     "metadata": {},
     "output_type": "display_data"
    },
    {
     "data": {
      "text/html": [
       "<div>\n",
       "<style scoped>\n",
       "    .dataframe tbody tr th:only-of-type {\n",
       "        vertical-align: middle;\n",
       "    }\n",
       "\n",
       "    .dataframe tbody tr th {\n",
       "        vertical-align: top;\n",
       "    }\n",
       "\n",
       "    .dataframe thead th {\n",
       "        text-align: right;\n",
       "    }\n",
       "</style>\n",
       "<table border=\"1\" class=\"dataframe\">\n",
       "  <thead>\n",
       "    <tr style=\"text-align: right;\">\n",
       "      <th></th>\n",
       "      <th>freight_cost_usd</th>\n",
       "    </tr>\n",
       "  </thead>\n",
       "  <tbody>\n",
       "    <tr>\n",
       "      <th>35</th>\n",
       "      <td>0.75</td>\n",
       "    </tr>\n",
       "    <tr>\n",
       "      <th>8460</th>\n",
       "      <td>1000.05</td>\n",
       "    </tr>\n",
       "    <tr>\n",
       "      <th>1408</th>\n",
       "      <td>1000.51</td>\n",
       "    </tr>\n",
       "    <tr>\n",
       "      <th>5826</th>\n",
       "      <td>1000.94</td>\n",
       "    </tr>\n",
       "    <tr>\n",
       "      <th>4576</th>\n",
       "      <td>1001.02</td>\n",
       "    </tr>\n",
       "    <tr>\n",
       "      <th>...</th>\n",
       "      <td>...</td>\n",
       "    </tr>\n",
       "    <tr>\n",
       "      <th>2017</th>\n",
       "      <td>See DN-988 (ID#:11022)</td>\n",
       "    </tr>\n",
       "    <tr>\n",
       "      <th>1556</th>\n",
       "      <td>See DN-990 (ID#:11001)</td>\n",
       "    </tr>\n",
       "    <tr>\n",
       "      <th>2418</th>\n",
       "      <td>See DN-992 (ID#:11602)</td>\n",
       "    </tr>\n",
       "    <tr>\n",
       "      <th>2408</th>\n",
       "      <td>See DN-993 (ID#:11919)</td>\n",
       "    </tr>\n",
       "    <tr>\n",
       "      <th>1978</th>\n",
       "      <td>See DN-998 (ID#:11568)</td>\n",
       "    </tr>\n",
       "  </tbody>\n",
       "</table>\n",
       "<p>6733 rows × 1 columns</p>\n",
       "</div>"
      ],
      "text/plain": [
       "            freight_cost_usd\n",
       "35                      0.75\n",
       "8460                 1000.05\n",
       "1408                 1000.51\n",
       "5826                 1000.94\n",
       "4576                 1001.02\n",
       "...                      ...\n",
       "2017  See DN-988 (ID#:11022)\n",
       "1556  See DN-990 (ID#:11001)\n",
       "2418  See DN-992 (ID#:11602)\n",
       "2408  See DN-993 (ID#:11919)\n",
       "1978  See DN-998 (ID#:11568)\n",
       "\n",
       "[6733 rows x 1 columns]"
      ]
     },
     "metadata": {},
     "output_type": "display_data"
    }
   ],
   "source": [
    "text_fields = ['item_description','moleculetest_type','manufacturing_site','weight_kilograms','freight_cost_usd']\n",
    "for t in text_fields:\n",
    "    display(data[[t]].drop_duplicates().sort_values(t))"
   ]
  },
  {
   "cell_type": "code",
   "execution_count": 44,
   "metadata": {},
   "outputs": [
    {
     "data": {
      "text/plain": [
       "array(['13', '358', '171', ..., '1547', 'See DN-4282 (ID#:83919)', '1392'],\n",
       "      dtype=object)"
      ]
     },
     "execution_count": 44,
     "metadata": {},
     "output_type": "execute_result"
    }
   ],
   "source": [
    "data['weight_kilograms'].unique()"
   ]
  },
  {
   "cell_type": "code",
   "execution_count": 42,
   "metadata": {},
   "outputs": [],
   "source": [
    "data['freight_cost_usd'] = data['freight_cost_usd'].replace('Freight Included in Commodity Cost',0)"
   ]
  },
  {
   "cell_type": "code",
   "execution_count": 37,
   "metadata": {},
   "outputs": [
    {
     "name": "stdout",
     "output_type": "stream",
     "text": [
      "<class 'pandas.core.frame.DataFrame'>\n",
      "Index: 10320 entries, 0 to 10323\n",
      "Data columns (total 5 columns):\n",
      " #   Column              Non-Null Count  Dtype \n",
      "---  ------              --------------  ----- \n",
      " 0   item_description    10320 non-null  object\n",
      " 1   moleculetest_type   10320 non-null  object\n",
      " 2   manufacturing_site  10320 non-null  object\n",
      " 3   weight_kilograms    10320 non-null  object\n",
      " 4   freight_cost_usd    10320 non-null  object\n",
      "dtypes: object(5)\n",
      "memory usage: 483.8+ KB\n"
     ]
    }
   ],
   "source": [
    "data[text_fields].info()"
   ]
  },
  {
   "cell_type": "markdown",
   "metadata": {},
   "source": [
    "## Calculate proportion of missing values"
   ]
  },
  {
   "cell_type": "code",
   "execution_count": 204,
   "metadata": {},
   "outputs": [
    {
     "data": {
      "text/plain": [
       "project_code                     0.000000\n",
       "pq_num                           0.000000\n",
       "po_so_num                        0.000000\n",
       "asndn_num                        0.000000\n",
       "country                          0.000000\n",
       "managed_by                       0.000000\n",
       "fulfill_via                      0.000000\n",
       "vendor_inco_term                 0.000000\n",
       "shipment_mode                    3.488372\n",
       "pq_first_sent_to_client_date     0.000000\n",
       "po_sent_to_vendor_date           0.000000\n",
       "scheduled_delivery_date          0.000000\n",
       "delivered_to_client_date         0.000000\n",
       "delivery_recorded_date           0.000000\n",
       "product_group                    0.000000\n",
       "sub_classification               0.000000\n",
       "vendor                           0.000000\n",
       "item_description                 0.000000\n",
       "moleculetest_type                0.000000\n",
       "brand                            0.000000\n",
       "dosage                          16.802326\n",
       "dosage_form                      0.000000\n",
       "unit_of_measure_per_pack         0.000000\n",
       "line_item_quantity               0.000000\n",
       "line_item_value                  0.000000\n",
       "pack_price                       0.000000\n",
       "unit_price                       0.000000\n",
       "manufacturing_site               0.000000\n",
       "first_line_designation           0.000000\n",
       "weight_kilograms                 0.000000\n",
       "freight_cost_usd                 0.000000\n",
       "line_item_insurance_usd          2.781008\n",
       "dtype: float64"
      ]
     },
     "execution_count": 204,
     "metadata": {},
     "output_type": "execute_result"
    }
   ],
   "source": [
    "data.isnull().sum()/data.shape[0]*100"
   ]
  },
  {
   "cell_type": "markdown",
   "metadata": {},
   "source": [
    "* `dosage` has about 16.8% missing values, may perform imputation\n",
    "* `shipment_mode` and `line_item_insurance_usd` has 3.4% and 2.8% missing values, respectively"
   ]
  },
  {
   "cell_type": "markdown",
   "metadata": {},
   "source": []
  },
  {
   "cell_type": "markdown",
   "metadata": {},
   "source": [
    "# Imputation of missing values"
   ]
  },
  {
   "cell_type": "code",
   "execution_count": 165,
   "metadata": {},
   "outputs": [
    {
     "data": {
      "text/plain": [
       "po_sent_to_vendor_date          0.555136\n",
       "scheduled_delivery_date         0.000000\n",
       "delivered_to_client_date        0.000000\n",
       "delivery_recorded_date          0.000000\n",
       "pq_first_sent_to_client_date    0.555136\n",
       "dtype: float64"
      ]
     },
     "execution_count": 165,
     "metadata": {},
     "output_type": "execute_result"
    }
   ],
   "source": [
    "data[date_cols].isnull().sum()/data.shape[0]"
   ]
  },
  {
   "cell_type": "markdown",
   "metadata": {},
   "source": [
    "date columns are now cleaned by replacing strings indicating dates are missing with null\n",
    "\n",
    "To analyze for operational efficiency, we will not drop this column from the analysis, but will drop rows with missing dates"
   ]
  },
  {
   "cell_type": "code",
   "execution_count": 207,
   "metadata": {},
   "outputs": [
    {
     "data": {
      "text/plain": [
       "Series([], Name: pq_first_sent_to_client_date, dtype: datetime64[ns])"
      ]
     },
     "execution_count": 207,
     "metadata": {},
     "output_type": "execute_result"
    }
   ],
   "source": [
    "data.loc[data['po_sent_to_vendor_date'].isna()]['pq_first_sent_to_client_date'].dropna()"
   ]
  },
  {
   "cell_type": "markdown",
   "metadata": {},
   "source": [
    "It's worth noting that when `po_sent_to_vendor_date` is missing, the corresponding `pq_first_sent_to_client_date` is also missing"
   ]
  },
  {
   "cell_type": "code",
   "execution_count": 208,
   "metadata": {},
   "outputs": [
    {
     "data": {
      "text/html": [
       "<div>\n",
       "<style scoped>\n",
       "    .dataframe tbody tr th:only-of-type {\n",
       "        vertical-align: middle;\n",
       "    }\n",
       "\n",
       "    .dataframe tbody tr th {\n",
       "        vertical-align: top;\n",
       "    }\n",
       "\n",
       "    .dataframe thead th {\n",
       "        text-align: right;\n",
       "    }\n",
       "</style>\n",
       "<table border=\"1\" class=\"dataframe\">\n",
       "  <thead>\n",
       "    <tr style=\"text-align: right;\">\n",
       "      <th></th>\n",
       "      <th>po_so_num</th>\n",
       "      <th>po_sent_to_vendor_date</th>\n",
       "    </tr>\n",
       "  </thead>\n",
       "  <tbody>\n",
       "    <tr>\n",
       "      <th>9</th>\n",
       "      <td>SCMS-165</td>\n",
       "      <td>2006-11-13</td>\n",
       "    </tr>\n",
       "    <tr>\n",
       "      <th>10</th>\n",
       "      <td>SCMS-221</td>\n",
       "      <td>2006-12-01</td>\n",
       "    </tr>\n",
       "    <tr>\n",
       "      <th>13</th>\n",
       "      <td>SCMS-268</td>\n",
       "      <td>2006-12-22</td>\n",
       "    </tr>\n",
       "    <tr>\n",
       "      <th>15</th>\n",
       "      <td>SCMS-308</td>\n",
       "      <td>2007-01-10</td>\n",
       "    </tr>\n",
       "    <tr>\n",
       "      <th>18</th>\n",
       "      <td>SCMS-156150</td>\n",
       "      <td>2012-08-15</td>\n",
       "    </tr>\n",
       "    <tr>\n",
       "      <th>...</th>\n",
       "      <td>...</td>\n",
       "      <td>...</td>\n",
       "    </tr>\n",
       "    <tr>\n",
       "      <th>6560</th>\n",
       "      <td>SCMS-70130</td>\n",
       "      <td>2010-04-23</td>\n",
       "    </tr>\n",
       "    <tr>\n",
       "      <th>6562</th>\n",
       "      <td>SCMS-139640</td>\n",
       "      <td>2012-04-09</td>\n",
       "    </tr>\n",
       "    <tr>\n",
       "      <th>6571</th>\n",
       "      <td>SCMS-153080</td>\n",
       "      <td>2012-07-12</td>\n",
       "    </tr>\n",
       "    <tr>\n",
       "      <th>6576</th>\n",
       "      <td>SCMS-296460</td>\n",
       "      <td>2015-08-04</td>\n",
       "    </tr>\n",
       "    <tr>\n",
       "      <th>6579</th>\n",
       "      <td>SCMS-176250</td>\n",
       "      <td>2013-02-05</td>\n",
       "    </tr>\n",
       "  </tbody>\n",
       "</table>\n",
       "<p>2694 rows × 2 columns</p>\n",
       "</div>"
      ],
      "text/plain": [
       "        po_so_num po_sent_to_vendor_date\n",
       "9        SCMS-165             2006-11-13\n",
       "10       SCMS-221             2006-12-01\n",
       "13       SCMS-268             2006-12-22\n",
       "15       SCMS-308             2007-01-10\n",
       "18    SCMS-156150             2012-08-15\n",
       "...           ...                    ...\n",
       "6560   SCMS-70130             2010-04-23\n",
       "6562  SCMS-139640             2012-04-09\n",
       "6571  SCMS-153080             2012-07-12\n",
       "6576  SCMS-296460             2015-08-04\n",
       "6579  SCMS-176250             2013-02-05\n",
       "\n",
       "[2694 rows x 2 columns]"
      ]
     },
     "metadata": {},
     "output_type": "display_data"
    },
    {
     "data": {
      "text/html": [
       "<div>\n",
       "<style scoped>\n",
       "    .dataframe tbody tr th:only-of-type {\n",
       "        vertical-align: middle;\n",
       "    }\n",
       "\n",
       "    .dataframe tbody tr th {\n",
       "        vertical-align: top;\n",
       "    }\n",
       "\n",
       "    .dataframe thead th {\n",
       "        text-align: right;\n",
       "    }\n",
       "</style>\n",
       "<table border=\"1\" class=\"dataframe\">\n",
       "  <thead>\n",
       "    <tr style=\"text-align: right;\">\n",
       "      <th></th>\n",
       "      <th>po_so_num</th>\n",
       "      <th>count_po_date</th>\n",
       "    </tr>\n",
       "  </thead>\n",
       "  <tbody>\n",
       "    <tr>\n",
       "      <th>0</th>\n",
       "      <td>SCMS-199289</td>\n",
       "      <td>67</td>\n",
       "    </tr>\n",
       "    <tr>\n",
       "      <th>1</th>\n",
       "      <td>SCMS-199283</td>\n",
       "      <td>63</td>\n",
       "    </tr>\n",
       "    <tr>\n",
       "      <th>2</th>\n",
       "      <td>SCMS-259075</td>\n",
       "      <td>38</td>\n",
       "    </tr>\n",
       "    <tr>\n",
       "      <th>3</th>\n",
       "      <td>SCMS-215370</td>\n",
       "      <td>38</td>\n",
       "    </tr>\n",
       "    <tr>\n",
       "      <th>4</th>\n",
       "      <td>SCMS-259079</td>\n",
       "      <td>33</td>\n",
       "    </tr>\n",
       "    <tr>\n",
       "      <th>...</th>\n",
       "      <td>...</td>\n",
       "      <td>...</td>\n",
       "    </tr>\n",
       "    <tr>\n",
       "      <th>2689</th>\n",
       "      <td>SCMS-100470</td>\n",
       "      <td>1</td>\n",
       "    </tr>\n",
       "    <tr>\n",
       "      <th>2690</th>\n",
       "      <td>SCMS-100301</td>\n",
       "      <td>1</td>\n",
       "    </tr>\n",
       "    <tr>\n",
       "      <th>2691</th>\n",
       "      <td>SCMS-100300</td>\n",
       "      <td>1</td>\n",
       "    </tr>\n",
       "    <tr>\n",
       "      <th>2692</th>\n",
       "      <td>SCMS-100090</td>\n",
       "      <td>1</td>\n",
       "    </tr>\n",
       "    <tr>\n",
       "      <th>2693</th>\n",
       "      <td>SCMS-1</td>\n",
       "      <td>1</td>\n",
       "    </tr>\n",
       "  </tbody>\n",
       "</table>\n",
       "<p>2694 rows × 2 columns</p>\n",
       "</div>"
      ],
      "text/plain": [
       "        po_so_num  count_po_date\n",
       "0     SCMS-199289             67\n",
       "1     SCMS-199283             63\n",
       "2     SCMS-259075             38\n",
       "3     SCMS-215370             38\n",
       "4     SCMS-259079             33\n",
       "...           ...            ...\n",
       "2689  SCMS-100470              1\n",
       "2690  SCMS-100301              1\n",
       "2691  SCMS-100300              1\n",
       "2692  SCMS-100090              1\n",
       "2693       SCMS-1              1\n",
       "\n",
       "[2694 rows x 2 columns]"
      ]
     },
     "execution_count": 208,
     "metadata": {},
     "output_type": "execute_result"
    }
   ],
   "source": [
    "display(data.filter(like=\"po\")\\\n",
    "        .query('po_sent_to_vendor_date != \"NaT\"')\\\n",
    "        .drop_duplicates())\n",
    "\n",
    "sqldf(\"\"\"\n",
    "      select \n",
    "            po_so_num,\n",
    "            count(po_sent_to_vendor_date) as count_po_date\n",
    "      from data \n",
    "      where po_sent_to_vendor_date != 'NaT'\n",
    "      group by po_so_num\n",
    "      order by count(po_sent_to_vendor_date) desc\n",
    "      \n",
    "      \"\"\")\n"
   ]
  },
  {
   "cell_type": "markdown",
   "metadata": {},
   "source": [
    "Since a PO # can have many possible associated dates, missing dates cannot be imputed considering the high % of nulls"
   ]
  },
  {
   "cell_type": "code",
   "execution_count": 168,
   "metadata": {},
   "outputs": [
    {
     "data": {
      "text/html": [
       "<div>\n",
       "<style scoped>\n",
       "    .dataframe tbody tr th:only-of-type {\n",
       "        vertical-align: middle;\n",
       "    }\n",
       "\n",
       "    .dataframe tbody tr th {\n",
       "        vertical-align: top;\n",
       "    }\n",
       "\n",
       "    .dataframe thead th {\n",
       "        text-align: right;\n",
       "    }\n",
       "</style>\n",
       "<table border=\"1\" class=\"dataframe\">\n",
       "  <thead>\n",
       "    <tr style=\"text-align: right;\">\n",
       "      <th></th>\n",
       "      <th>pq_num</th>\n",
       "      <th>pq_first_sent_to_client_date</th>\n",
       "    </tr>\n",
       "  </thead>\n",
       "  <tbody>\n",
       "    <tr>\n",
       "      <th>9</th>\n",
       "      <td>Pre-PQ Process</td>\n",
       "      <td>2006-11-13</td>\n",
       "    </tr>\n",
       "    <tr>\n",
       "      <th>10</th>\n",
       "      <td>Pre-PQ Process</td>\n",
       "      <td>2006-12-01</td>\n",
       "    </tr>\n",
       "    <tr>\n",
       "      <th>13</th>\n",
       "      <td>Pre-PQ Process</td>\n",
       "      <td>2006-12-22</td>\n",
       "    </tr>\n",
       "    <tr>\n",
       "      <th>15</th>\n",
       "      <td>Pre-PQ Process</td>\n",
       "      <td>2007-01-10</td>\n",
       "    </tr>\n",
       "    <tr>\n",
       "      <th>18</th>\n",
       "      <td>FPQ-10286</td>\n",
       "      <td>2012-08-15</td>\n",
       "    </tr>\n",
       "    <tr>\n",
       "      <th>...</th>\n",
       "      <td>...</td>\n",
       "      <td>...</td>\n",
       "    </tr>\n",
       "    <tr>\n",
       "      <th>6547</th>\n",
       "      <td>FPQ-8116</td>\n",
       "      <td>2012-04-05</td>\n",
       "    </tr>\n",
       "    <tr>\n",
       "      <th>6551</th>\n",
       "      <td>FPQ-15346</td>\n",
       "      <td>2014-12-08</td>\n",
       "    </tr>\n",
       "    <tr>\n",
       "      <th>6556</th>\n",
       "      <td>FPQ-10555</td>\n",
       "      <td>2012-08-29</td>\n",
       "    </tr>\n",
       "    <tr>\n",
       "      <th>6559</th>\n",
       "      <td>FPQ-6966</td>\n",
       "      <td>2011-02-02</td>\n",
       "    </tr>\n",
       "    <tr>\n",
       "      <th>6560</th>\n",
       "      <td>FPQ-5447</td>\n",
       "      <td>2010-04-23</td>\n",
       "    </tr>\n",
       "  </tbody>\n",
       "</table>\n",
       "<p>1299 rows × 2 columns</p>\n",
       "</div>"
      ],
      "text/plain": [
       "              pq_num pq_first_sent_to_client_date\n",
       "9     Pre-PQ Process                   2006-11-13\n",
       "10    Pre-PQ Process                   2006-12-01\n",
       "13    Pre-PQ Process                   2006-12-22\n",
       "15    Pre-PQ Process                   2007-01-10\n",
       "18         FPQ-10286                   2012-08-15\n",
       "...              ...                          ...\n",
       "6547        FPQ-8116                   2012-04-05\n",
       "6551       FPQ-15346                   2014-12-08\n",
       "6556       FPQ-10555                   2012-08-29\n",
       "6559        FPQ-6966                   2011-02-02\n",
       "6560        FPQ-5447                   2010-04-23\n",
       "\n",
       "[1299 rows x 2 columns]"
      ]
     },
     "metadata": {},
     "output_type": "display_data"
    },
    {
     "data": {
      "text/html": [
       "<div>\n",
       "<style scoped>\n",
       "    .dataframe tbody tr th:only-of-type {\n",
       "        vertical-align: middle;\n",
       "    }\n",
       "\n",
       "    .dataframe tbody tr th {\n",
       "        vertical-align: top;\n",
       "    }\n",
       "\n",
       "    .dataframe thead th {\n",
       "        text-align: right;\n",
       "    }\n",
       "</style>\n",
       "<table border=\"1\" class=\"dataframe\">\n",
       "  <thead>\n",
       "    <tr style=\"text-align: right;\">\n",
       "      <th></th>\n",
       "      <th>pq_num</th>\n",
       "      <th>count_pq_date</th>\n",
       "    </tr>\n",
       "  </thead>\n",
       "  <tbody>\n",
       "    <tr>\n",
       "      <th>0</th>\n",
       "      <td>Pre-PQ Process</td>\n",
       "      <td>750</td>\n",
       "    </tr>\n",
       "    <tr>\n",
       "      <th>1</th>\n",
       "      <td>FPQ-14942</td>\n",
       "      <td>205</td>\n",
       "    </tr>\n",
       "    <tr>\n",
       "      <th>2</th>\n",
       "      <td>FPQ-12522</td>\n",
       "      <td>154</td>\n",
       "    </tr>\n",
       "    <tr>\n",
       "      <th>3</th>\n",
       "      <td>FPQ-13973</td>\n",
       "      <td>110</td>\n",
       "    </tr>\n",
       "    <tr>\n",
       "      <th>4</th>\n",
       "      <td>FPQ-7175</td>\n",
       "      <td>78</td>\n",
       "    </tr>\n",
       "    <tr>\n",
       "      <th>...</th>\n",
       "      <td>...</td>\n",
       "      <td>...</td>\n",
       "    </tr>\n",
       "    <tr>\n",
       "      <th>773</th>\n",
       "      <td>FPQ-10558</td>\n",
       "      <td>1</td>\n",
       "    </tr>\n",
       "    <tr>\n",
       "      <th>774</th>\n",
       "      <td>FPQ-10555</td>\n",
       "      <td>1</td>\n",
       "    </tr>\n",
       "    <tr>\n",
       "      <th>775</th>\n",
       "      <td>FPQ-10289</td>\n",
       "      <td>1</td>\n",
       "    </tr>\n",
       "    <tr>\n",
       "      <th>776</th>\n",
       "      <td>FPQ-10107</td>\n",
       "      <td>1</td>\n",
       "    </tr>\n",
       "    <tr>\n",
       "      <th>777</th>\n",
       "      <td>FPQ-10036</td>\n",
       "      <td>1</td>\n",
       "    </tr>\n",
       "  </tbody>\n",
       "</table>\n",
       "<p>778 rows × 2 columns</p>\n",
       "</div>"
      ],
      "text/plain": [
       "             pq_num  count_pq_date\n",
       "0    Pre-PQ Process            750\n",
       "1         FPQ-14942            205\n",
       "2         FPQ-12522            154\n",
       "3         FPQ-13973            110\n",
       "4          FPQ-7175             78\n",
       "..              ...            ...\n",
       "773       FPQ-10558              1\n",
       "774       FPQ-10555              1\n",
       "775       FPQ-10289              1\n",
       "776       FPQ-10107              1\n",
       "777       FPQ-10036              1\n",
       "\n",
       "[778 rows x 2 columns]"
      ]
     },
     "execution_count": 168,
     "metadata": {},
     "output_type": "execute_result"
    }
   ],
   "source": [
    "display(data.filter(like=\"pq\")\\\n",
    "        .query('pq_first_sent_to_client_date != \"NaT\"')\\\n",
    "        .drop_duplicates())\n",
    "\n",
    "sqldf(\"\"\"\n",
    "      select \n",
    "            pq_num,\n",
    "            count(pq_first_sent_to_client_date) as count_pq_date\n",
    "      from data \n",
    "      where pq_first_sent_to_client_date != 'NaT'\n",
    "      group by pq_num\n",
    "      order by count(pq_first_sent_to_client_date) desc\n",
    "      \n",
    "      \"\"\")"
   ]
  },
  {
   "cell_type": "markdown",
   "metadata": {},
   "source": [
    "Likewise, since a PQ # can have many possible associated dates, missing dates cannot be imputed considering the high % of nulls"
   ]
  },
  {
   "cell_type": "markdown",
   "metadata": {},
   "source": [
    "# Curse of Dimensionality\n",
    "Discussion here..."
   ]
  },
  {
   "cell_type": "code",
   "execution_count": null,
   "metadata": {},
   "outputs": [],
   "source": []
  },
  {
   "cell_type": "markdown",
   "metadata": {},
   "source": [
    "# Correlation Analysis\n",
    "\n",
    "1. Extract numerical columns\n",
    "2. Find correlation matrix and plot"
   ]
  },
  {
   "cell_type": "code",
   "execution_count": 176,
   "metadata": {},
   "outputs": [
    {
     "data": {
      "text/html": [
       "<div>\n",
       "<style scoped>\n",
       "    .dataframe tbody tr th:only-of-type {\n",
       "        vertical-align: middle;\n",
       "    }\n",
       "\n",
       "    .dataframe tbody tr th {\n",
       "        vertical-align: top;\n",
       "    }\n",
       "\n",
       "    .dataframe thead th {\n",
       "        text-align: right;\n",
       "    }\n",
       "</style>\n",
       "<table border=\"1\" class=\"dataframe\">\n",
       "  <thead>\n",
       "    <tr style=\"text-align: right;\">\n",
       "      <th></th>\n",
       "      <th>unit_of_measure_per_pack</th>\n",
       "      <th>line_item_quantity</th>\n",
       "      <th>line_item_value</th>\n",
       "      <th>pack_price</th>\n",
       "      <th>unit_price</th>\n",
       "      <th>line_item_insurance_usd</th>\n",
       "    </tr>\n",
       "  </thead>\n",
       "  <tbody>\n",
       "    <tr>\n",
       "      <th>unit_of_measure_per_pack</th>\n",
       "      <td>1.000000</td>\n",
       "      <td>-0.151107</td>\n",
       "      <td>-0.128748</td>\n",
       "      <td>0.097156</td>\n",
       "      <td>-0.102800</td>\n",
       "      <td>-0.131912</td>\n",
       "    </tr>\n",
       "    <tr>\n",
       "      <th>line_item_quantity</th>\n",
       "      <td>-0.151107</td>\n",
       "      <td>1.000000</td>\n",
       "      <td>0.839070</td>\n",
       "      <td>-0.133622</td>\n",
       "      <td>-0.052219</td>\n",
       "      <td>0.798646</td>\n",
       "    </tr>\n",
       "    <tr>\n",
       "      <th>line_item_value</th>\n",
       "      <td>-0.128748</td>\n",
       "      <td>0.839070</td>\n",
       "      <td>1.000000</td>\n",
       "      <td>-0.018768</td>\n",
       "      <td>-0.019574</td>\n",
       "      <td>0.961350</td>\n",
       "    </tr>\n",
       "    <tr>\n",
       "      <th>pack_price</th>\n",
       "      <td>0.097156</td>\n",
       "      <td>-0.133622</td>\n",
       "      <td>-0.018768</td>\n",
       "      <td>1.000000</td>\n",
       "      <td>0.250048</td>\n",
       "      <td>-0.015350</td>\n",
       "    </tr>\n",
       "    <tr>\n",
       "      <th>unit_price</th>\n",
       "      <td>-0.102800</td>\n",
       "      <td>-0.052219</td>\n",
       "      <td>-0.019574</td>\n",
       "      <td>0.250048</td>\n",
       "      <td>1.000000</td>\n",
       "      <td>-0.021423</td>\n",
       "    </tr>\n",
       "    <tr>\n",
       "      <th>line_item_insurance_usd</th>\n",
       "      <td>-0.131912</td>\n",
       "      <td>0.798646</td>\n",
       "      <td>0.961350</td>\n",
       "      <td>-0.015350</td>\n",
       "      <td>-0.021423</td>\n",
       "      <td>1.000000</td>\n",
       "    </tr>\n",
       "  </tbody>\n",
       "</table>\n",
       "</div>"
      ],
      "text/plain": [
       "                          unit_of_measure_per_pack  line_item_quantity  \\\n",
       "unit_of_measure_per_pack                  1.000000           -0.151107   \n",
       "line_item_quantity                       -0.151107            1.000000   \n",
       "line_item_value                          -0.128748            0.839070   \n",
       "pack_price                                0.097156           -0.133622   \n",
       "unit_price                               -0.102800           -0.052219   \n",
       "line_item_insurance_usd                  -0.131912            0.798646   \n",
       "\n",
       "                          line_item_value  pack_price  unit_price  \\\n",
       "unit_of_measure_per_pack        -0.128748    0.097156   -0.102800   \n",
       "line_item_quantity               0.839070   -0.133622   -0.052219   \n",
       "line_item_value                  1.000000   -0.018768   -0.019574   \n",
       "pack_price                      -0.018768    1.000000    0.250048   \n",
       "unit_price                      -0.019574    0.250048    1.000000   \n",
       "line_item_insurance_usd          0.961350   -0.015350   -0.021423   \n",
       "\n",
       "                          line_item_insurance_usd  \n",
       "unit_of_measure_per_pack                -0.131912  \n",
       "line_item_quantity                       0.798646  \n",
       "line_item_value                          0.961350  \n",
       "pack_price                              -0.015350  \n",
       "unit_price                              -0.021423  \n",
       "line_item_insurance_usd                  1.000000  "
      ]
     },
     "execution_count": 176,
     "metadata": {},
     "output_type": "execute_result"
    }
   ],
   "source": [
    "numerics = ['int16', 'int32', 'int64', 'float16', 'float32', 'float64']\n",
    "\n",
    "data.select_dtypes(include=numerics).corr()"
   ]
  },
  {
   "cell_type": "code",
   "execution_count": 178,
   "metadata": {},
   "outputs": [
    {
     "data": {
      "text/plain": [
       "<Axes: >"
      ]
     },
     "execution_count": 178,
     "metadata": {},
     "output_type": "execute_result"
    },
    {
     "data": {
      "image/png": "[encoded data removed]",
      "text/plain": [
       "<Figure size 700x700 with 2 Axes>"
      ]
     },
     "metadata": {},
     "output_type": "display_data"
    }
   ],
   "source": [
    "sns.set_theme(style=\"white\")\n",
    "\n",
    "# Compute the correlation matrix\n",
    "corr = data.select_dtypes(include=numerics).corr()\n",
    "\n",
    "# Generate a mask for the upper triangle\n",
    "mask = np.triu(np.ones_like(corr, dtype=bool))\n",
    "\n",
    "# Set up the matplotlib figure\n",
    "f, ax = plt.subplots(figsize=(7, 7))\n",
    "\n",
    "# Generate a custom diverging colormap\n",
    "cmap = sns.diverging_palette(230, 20, as_cmap=True)\n",
    "\n",
    "# Draw the heatmap with the mask and correct aspect ratio\n",
    "sns.heatmap(corr, mask=mask, cmap=cmap, vmax=1, center=0,annot=True,fmt=\".2f\",\n",
    "            square=True, linewidths=.5, cbar_kws={\"shrink\": .5})"
   ]
  },
  {
   "cell_type": "markdown",
   "metadata": {},
   "source": [
    "`line_item_insurance_usd` seems to be highly associated with `line_item_quantity` and `line_item_value`"
   ]
  },
  {
   "cell_type": "markdown",
   "metadata": {},
   "source": [
    "# Feature Engineering\n",
    "\n",
    "Generate additional features based on date attributes"
   ]
  },
  {
   "cell_type": "code",
   "execution_count": 66,
   "metadata": {},
   "outputs": [
    {
     "data": {
      "text/plain": [
       "delivery_diff_days\n",
       " 0.0      6324\n",
       "-17.0      127\n",
       "-6.0       119\n",
       "-8.0       112\n",
       "-13.0      107\n",
       "          ... \n",
       "-152.0       1\n",
       "-144.0       1\n",
       "-368.0       1\n",
       " 77.0        1\n",
       "-99.0        1\n",
       "Name: count, Length: 235, dtype: int64"
      ]
     },
     "execution_count": 66,
     "metadata": {},
     "output_type": "execute_result"
    }
   ],
   "source": [
    "data['delivery_diff'] = data['delivered_to_client_date'] - data['scheduled_delivery_date']\n",
    "data['delivery_diff_days'] = data['delivery_diff']/np.timedelta64(1,'D')\n",
    "data['delivery_diff_days'].value_counts()"
   ]
  },
  {
   "cell_type": "code",
   "execution_count": 34,
   "metadata": {},
   "outputs": [
    {
     "data": {
      "text/plain": [
       "count    4591.000000\n",
       "mean      105.565672\n",
       "std        79.662906\n",
       "min      -292.000000\n",
       "25%        50.000000\n",
       "50%        92.000000\n",
       "75%       143.000000\n",
       "max       616.000000\n",
       "Name: days_to_arrival, dtype: float64"
      ]
     },
     "execution_count": 34,
     "metadata": {},
     "output_type": "execute_result"
    }
   ],
   "source": [
    "data['days_to_arrival'] = (data['delivered_to_client_date'] - data['pq_first_sent_to_client_date'])/np.timedelta64(1,'D')\n",
    "data['days_to_arrival'].describe()"
   ]
  },
  {
   "cell_type": "markdown",
   "metadata": {},
   "source": [
    "# Generating insights with SQL"
   ]
  },
  {
   "cell_type": "code",
   "execution_count": 109,
   "metadata": {},
   "outputs": [
    {
     "data": {
      "text/html": [
       "<div>\n",
       "<style scoped>\n",
       "    .dataframe tbody tr th:only-of-type {\n",
       "        vertical-align: middle;\n",
       "    }\n",
       "\n",
       "    .dataframe tbody tr th {\n",
       "        vertical-align: top;\n",
       "    }\n",
       "\n",
       "    .dataframe thead th {\n",
       "        text-align: right;\n",
       "    }\n",
       "</style>\n",
       "<table border=\"1\" class=\"dataframe\">\n",
       "  <thead>\n",
       "    <tr style=\"text-align: right;\">\n",
       "      <th></th>\n",
       "      <th>delivery_status</th>\n",
       "      <th>product_group</th>\n",
       "      <th>sub_classification</th>\n",
       "      <th>shipment_mode</th>\n",
       "      <th>status_freq</th>\n",
       "      <th>avg_freight_cost_usd</th>\n",
       "      <th>avg_pack_price</th>\n",
       "      <th>avg_unit_price</th>\n",
       "      <th>avg_line_item_value</th>\n",
       "      <th>avg_line_item_insurance_usd</th>\n",
       "    </tr>\n",
       "  </thead>\n",
       "  <tbody>\n",
       "    <tr>\n",
       "      <th>0</th>\n",
       "      <td>on time</td>\n",
       "      <td>MRDT</td>\n",
       "      <td>Malaria</td>\n",
       "      <td>Air</td>\n",
       "      <td>7</td>\n",
       "      <td>1163.228571</td>\n",
       "      <td>28.735714</td>\n",
       "      <td>1.055714</td>\n",
       "      <td>9491.442857</td>\n",
       "      <td>14.380000</td>\n",
       "    </tr>\n",
       "    <tr>\n",
       "      <th>1</th>\n",
       "      <td>on time</td>\n",
       "      <td>MRDT</td>\n",
       "      <td>Malaria</td>\n",
       "      <td>None</td>\n",
       "      <td>1</td>\n",
       "      <td>186.250000</td>\n",
       "      <td>37.500000</td>\n",
       "      <td>1.500000</td>\n",
       "      <td>14625.000000</td>\n",
       "      <td>23.400000</td>\n",
       "    </tr>\n",
       "    <tr>\n",
       "      <th>2</th>\n",
       "      <td>on time</td>\n",
       "      <td>HRDT</td>\n",
       "      <td>HIV test</td>\n",
       "      <td>Air</td>\n",
       "      <td>1283</td>\n",
       "      <td>10333.893936</td>\n",
       "      <td>73.027163</td>\n",
       "      <td>2.519906</td>\n",
       "      <td>121238.585861</td>\n",
       "      <td>187.454201</td>\n",
       "    </tr>\n",
       "    <tr>\n",
       "      <th>3</th>\n",
       "      <td>on time</td>\n",
       "      <td>HRDT</td>\n",
       "      <td>HIV test</td>\n",
       "      <td>None</td>\n",
       "      <td>43</td>\n",
       "      <td>2901.037674</td>\n",
       "      <td>86.146977</td>\n",
       "      <td>2.572093</td>\n",
       "      <td>49434.511628</td>\n",
       "      <td>78.619231</td>\n",
       "    </tr>\n",
       "    <tr>\n",
       "      <th>4</th>\n",
       "      <td>on time</td>\n",
       "      <td>HRDT</td>\n",
       "      <td>HIV test</td>\n",
       "      <td>Truck</td>\n",
       "      <td>38</td>\n",
       "      <td>795.641579</td>\n",
       "      <td>74.885526</td>\n",
       "      <td>1.217105</td>\n",
       "      <td>126865.458947</td>\n",
       "      <td>223.329737</td>\n",
       "    </tr>\n",
       "    <tr>\n",
       "      <th>5</th>\n",
       "      <td>on time</td>\n",
       "      <td>HRDT</td>\n",
       "      <td>HIV test</td>\n",
       "      <td>Ocean</td>\n",
       "      <td>4</td>\n",
       "      <td>18096.790000</td>\n",
       "      <td>44.000000</td>\n",
       "      <td>1.400000</td>\n",
       "      <td>331760.000000</td>\n",
       "      <td>547.402500</td>\n",
       "    </tr>\n",
       "    <tr>\n",
       "      <th>6</th>\n",
       "      <td>on time</td>\n",
       "      <td>HRDT</td>\n",
       "      <td>HIV test - Ancillary</td>\n",
       "      <td>Air</td>\n",
       "      <td>128</td>\n",
       "      <td>1835.085625</td>\n",
       "      <td>6.646094</td>\n",
       "      <td>2.990703</td>\n",
       "      <td>2819.202031</td>\n",
       "      <td>4.115781</td>\n",
       "    </tr>\n",
       "    <tr>\n",
       "      <th>7</th>\n",
       "      <td>on time</td>\n",
       "      <td>HRDT</td>\n",
       "      <td>HIV test - Ancillary</td>\n",
       "      <td>Truck</td>\n",
       "      <td>9</td>\n",
       "      <td>263.986667</td>\n",
       "      <td>1.397778</td>\n",
       "      <td>0.840000</td>\n",
       "      <td>2237.833333</td>\n",
       "      <td>2.391111</td>\n",
       "    </tr>\n",
       "    <tr>\n",
       "      <th>8</th>\n",
       "      <td>on time</td>\n",
       "      <td>HRDT</td>\n",
       "      <td>HIV test - Ancillary</td>\n",
       "      <td>None</td>\n",
       "      <td>5</td>\n",
       "      <td>782.798000</td>\n",
       "      <td>47.738000</td>\n",
       "      <td>47.730000</td>\n",
       "      <td>104.718000</td>\n",
       "      <td>0.164000</td>\n",
       "    </tr>\n",
       "    <tr>\n",
       "      <th>9</th>\n",
       "      <td>on time</td>\n",
       "      <td>ARV</td>\n",
       "      <td>Adult</td>\n",
       "      <td>Air</td>\n",
       "      <td>2197</td>\n",
       "      <td>6635.565676</td>\n",
       "      <td>17.967101</td>\n",
       "      <td>0.281097</td>\n",
       "      <td>128435.243787</td>\n",
       "      <td>203.436535</td>\n",
       "    </tr>\n",
       "    <tr>\n",
       "      <th>10</th>\n",
       "      <td>on time</td>\n",
       "      <td>ARV</td>\n",
       "      <td>Adult</td>\n",
       "      <td>Truck</td>\n",
       "      <td>897</td>\n",
       "      <td>2314.791817</td>\n",
       "      <td>19.662876</td>\n",
       "      <td>0.397837</td>\n",
       "      <td>147568.665619</td>\n",
       "      <td>231.068829</td>\n",
       "    </tr>\n",
       "    <tr>\n",
       "      <th>11</th>\n",
       "      <td>on time</td>\n",
       "      <td>ARV</td>\n",
       "      <td>Adult</td>\n",
       "      <td>None</td>\n",
       "      <td>219</td>\n",
       "      <td>4340.980000</td>\n",
       "      <td>19.769954</td>\n",
       "      <td>0.307169</td>\n",
       "      <td>162119.232922</td>\n",
       "      <td>312.681000</td>\n",
       "    </tr>\n",
       "    <tr>\n",
       "      <th>12</th>\n",
       "      <td>on time</td>\n",
       "      <td>ARV</td>\n",
       "      <td>Adult</td>\n",
       "      <td>Ocean</td>\n",
       "      <td>215</td>\n",
       "      <td>11664.630744</td>\n",
       "      <td>7.381628</td>\n",
       "      <td>0.173814</td>\n",
       "      <td>448833.650279</td>\n",
       "      <td>728.920093</td>\n",
       "    </tr>\n",
       "    <tr>\n",
       "      <th>13</th>\n",
       "      <td>on time</td>\n",
       "      <td>ARV</td>\n",
       "      <td>Adult</td>\n",
       "      <td>Air Charter</td>\n",
       "      <td>118</td>\n",
       "      <td>12831.916695</td>\n",
       "      <td>10.925847</td>\n",
       "      <td>0.252712</td>\n",
       "      <td>296793.325085</td>\n",
       "      <td>523.121441</td>\n",
       "    </tr>\n",
       "    <tr>\n",
       "      <th>14</th>\n",
       "      <td>on time</td>\n",
       "      <td>ARV</td>\n",
       "      <td>Pediatric</td>\n",
       "      <td>Air</td>\n",
       "      <td>692</td>\n",
       "      <td>3881.748367</td>\n",
       "      <td>12.431561</td>\n",
       "      <td>0.125939</td>\n",
       "      <td>22694.006257</td>\n",
       "      <td>36.200559</td>\n",
       "    </tr>\n",
       "    <tr>\n",
       "      <th>15</th>\n",
       "      <td>on time</td>\n",
       "      <td>ARV</td>\n",
       "      <td>Pediatric</td>\n",
       "      <td>Truck</td>\n",
       "      <td>294</td>\n",
       "      <td>630.330374</td>\n",
       "      <td>13.610748</td>\n",
       "      <td>0.113741</td>\n",
       "      <td>11613.635272</td>\n",
       "      <td>17.075850</td>\n",
       "    </tr>\n",
       "    <tr>\n",
       "      <th>16</th>\n",
       "      <td>on time</td>\n",
       "      <td>ARV</td>\n",
       "      <td>Pediatric</td>\n",
       "      <td>Ocean</td>\n",
       "      <td>72</td>\n",
       "      <td>6645.961250</td>\n",
       "      <td>3.979722</td>\n",
       "      <td>0.040694</td>\n",
       "      <td>88080.521389</td>\n",
       "      <td>141.698611</td>\n",
       "    </tr>\n",
       "    <tr>\n",
       "      <th>17</th>\n",
       "      <td>on time</td>\n",
       "      <td>ARV</td>\n",
       "      <td>Pediatric</td>\n",
       "      <td>None</td>\n",
       "      <td>61</td>\n",
       "      <td>4618.065082</td>\n",
       "      <td>11.803934</td>\n",
       "      <td>0.083115</td>\n",
       "      <td>20533.833115</td>\n",
       "      <td>37.077358</td>\n",
       "    </tr>\n",
       "    <tr>\n",
       "      <th>18</th>\n",
       "      <td>on time</td>\n",
       "      <td>ARV</td>\n",
       "      <td>Pediatric</td>\n",
       "      <td>Air Charter</td>\n",
       "      <td>5</td>\n",
       "      <td>0.000000</td>\n",
       "      <td>8.878000</td>\n",
       "      <td>0.094000</td>\n",
       "      <td>15247.684000</td>\n",
       "      <td>30.280000</td>\n",
       "    </tr>\n",
       "    <tr>\n",
       "      <th>19</th>\n",
       "      <td>on time</td>\n",
       "      <td>ANTM</td>\n",
       "      <td>Malaria</td>\n",
       "      <td>Air</td>\n",
       "      <td>21</td>\n",
       "      <td>6173.803333</td>\n",
       "      <td>27.652857</td>\n",
       "      <td>0.091429</td>\n",
       "      <td>13046.640952</td>\n",
       "      <td>16.819524</td>\n",
       "    </tr>\n",
       "    <tr>\n",
       "      <th>20</th>\n",
       "      <td>on time</td>\n",
       "      <td>ACT</td>\n",
       "      <td>ACT</td>\n",
       "      <td>Air</td>\n",
       "      <td>15</td>\n",
       "      <td>7474.245333</td>\n",
       "      <td>30.486000</td>\n",
       "      <td>0.056000</td>\n",
       "      <td>44188.884000</td>\n",
       "      <td>72.634667</td>\n",
       "    </tr>\n",
       "    <tr>\n",
       "      <th>21</th>\n",
       "      <td>late</td>\n",
       "      <td>HRDT</td>\n",
       "      <td>HIV test</td>\n",
       "      <td>Air</td>\n",
       "      <td>105</td>\n",
       "      <td>20163.816381</td>\n",
       "      <td>83.406286</td>\n",
       "      <td>1.397619</td>\n",
       "      <td>263991.207429</td>\n",
       "      <td>378.003883</td>\n",
       "    </tr>\n",
       "    <tr>\n",
       "      <th>22</th>\n",
       "      <td>late</td>\n",
       "      <td>HRDT</td>\n",
       "      <td>HIV test</td>\n",
       "      <td>Truck</td>\n",
       "      <td>1</td>\n",
       "      <td>0.000000</td>\n",
       "      <td>128.750000</td>\n",
       "      <td>1.290000</td>\n",
       "      <td>160937.500000</td>\n",
       "      <td>225.630000</td>\n",
       "    </tr>\n",
       "    <tr>\n",
       "      <th>23</th>\n",
       "      <td>late</td>\n",
       "      <td>HRDT</td>\n",
       "      <td>HIV test - Ancillary</td>\n",
       "      <td>Air</td>\n",
       "      <td>7</td>\n",
       "      <td>0.000000</td>\n",
       "      <td>6.285714</td>\n",
       "      <td>2.891429</td>\n",
       "      <td>190.000000</td>\n",
       "      <td>0.222857</td>\n",
       "    </tr>\n",
       "    <tr>\n",
       "      <th>24</th>\n",
       "      <td>late</td>\n",
       "      <td>ARV</td>\n",
       "      <td>Adult</td>\n",
       "      <td>Truck</td>\n",
       "      <td>370</td>\n",
       "      <td>7715.358459</td>\n",
       "      <td>8.192730</td>\n",
       "      <td>0.176757</td>\n",
       "      <td>372205.173486</td>\n",
       "      <td>512.876081</td>\n",
       "    </tr>\n",
       "    <tr>\n",
       "      <th>25</th>\n",
       "      <td>late</td>\n",
       "      <td>ARV</td>\n",
       "      <td>Adult</td>\n",
       "      <td>Air</td>\n",
       "      <td>334</td>\n",
       "      <td>6755.874880</td>\n",
       "      <td>9.195180</td>\n",
       "      <td>0.173832</td>\n",
       "      <td>115596.154641</td>\n",
       "      <td>194.703922</td>\n",
       "    </tr>\n",
       "    <tr>\n",
       "      <th>26</th>\n",
       "      <td>late</td>\n",
       "      <td>ARV</td>\n",
       "      <td>Adult</td>\n",
       "      <td>Air Charter</td>\n",
       "      <td>67</td>\n",
       "      <td>13637.365373</td>\n",
       "      <td>8.238358</td>\n",
       "      <td>0.189552</td>\n",
       "      <td>461015.807463</td>\n",
       "      <td>657.691045</td>\n",
       "    </tr>\n",
       "    <tr>\n",
       "      <th>27</th>\n",
       "      <td>late</td>\n",
       "      <td>ARV</td>\n",
       "      <td>Adult</td>\n",
       "      <td>Ocean</td>\n",
       "      <td>55</td>\n",
       "      <td>6100.540364</td>\n",
       "      <td>5.104727</td>\n",
       "      <td>0.152182</td>\n",
       "      <td>292126.544000</td>\n",
       "      <td>546.101636</td>\n",
       "    </tr>\n",
       "    <tr>\n",
       "      <th>28</th>\n",
       "      <td>late</td>\n",
       "      <td>ARV</td>\n",
       "      <td>Adult</td>\n",
       "      <td>None</td>\n",
       "      <td>3</td>\n",
       "      <td>5959.573333</td>\n",
       "      <td>17.760000</td>\n",
       "      <td>0.386667</td>\n",
       "      <td>231614.966667</td>\n",
       "      <td>516.565000</td>\n",
       "    </tr>\n",
       "    <tr>\n",
       "      <th>29</th>\n",
       "      <td>late</td>\n",
       "      <td>ARV</td>\n",
       "      <td>Pediatric</td>\n",
       "      <td>Air</td>\n",
       "      <td>141</td>\n",
       "      <td>6111.524610</td>\n",
       "      <td>4.654397</td>\n",
       "      <td>0.048794</td>\n",
       "      <td>9961.228511</td>\n",
       "      <td>16.879143</td>\n",
       "    </tr>\n",
       "    <tr>\n",
       "      <th>30</th>\n",
       "      <td>late</td>\n",
       "      <td>ARV</td>\n",
       "      <td>Pediatric</td>\n",
       "      <td>Truck</td>\n",
       "      <td>84</td>\n",
       "      <td>3930.755476</td>\n",
       "      <td>5.021786</td>\n",
       "      <td>0.059762</td>\n",
       "      <td>59063.979286</td>\n",
       "      <td>78.875952</td>\n",
       "    </tr>\n",
       "    <tr>\n",
       "      <th>31</th>\n",
       "      <td>late</td>\n",
       "      <td>ARV</td>\n",
       "      <td>Pediatric</td>\n",
       "      <td>Ocean</td>\n",
       "      <td>10</td>\n",
       "      <td>5319.487000</td>\n",
       "      <td>4.583000</td>\n",
       "      <td>0.061000</td>\n",
       "      <td>70016.080000</td>\n",
       "      <td>141.247000</td>\n",
       "    </tr>\n",
       "    <tr>\n",
       "      <th>32</th>\n",
       "      <td>late</td>\n",
       "      <td>ARV</td>\n",
       "      <td>Pediatric</td>\n",
       "      <td>Air Charter</td>\n",
       "      <td>8</td>\n",
       "      <td>5944.640000</td>\n",
       "      <td>7.331250</td>\n",
       "      <td>0.081250</td>\n",
       "      <td>13988.337500</td>\n",
       "      <td>18.812500</td>\n",
       "    </tr>\n",
       "    <tr>\n",
       "      <th>33</th>\n",
       "      <td>late</td>\n",
       "      <td>ARV</td>\n",
       "      <td>Pediatric</td>\n",
       "      <td>None</td>\n",
       "      <td>1</td>\n",
       "      <td>0.000000</td>\n",
       "      <td>14.480000</td>\n",
       "      <td>0.070000</td>\n",
       "      <td>57.920000</td>\n",
       "      <td>0.090000</td>\n",
       "    </tr>\n",
       "    <tr>\n",
       "      <th>34</th>\n",
       "      <td>early</td>\n",
       "      <td>HRDT</td>\n",
       "      <td>HIV test</td>\n",
       "      <td>Air</td>\n",
       "      <td>89</td>\n",
       "      <td>19623.428764</td>\n",
       "      <td>61.866629</td>\n",
       "      <td>2.906517</td>\n",
       "      <td>237242.475730</td>\n",
       "      <td>334.105568</td>\n",
       "    </tr>\n",
       "    <tr>\n",
       "      <th>35</th>\n",
       "      <td>early</td>\n",
       "      <td>HRDT</td>\n",
       "      <td>HIV test</td>\n",
       "      <td>Truck</td>\n",
       "      <td>2</td>\n",
       "      <td>130.930000</td>\n",
       "      <td>10.000000</td>\n",
       "      <td>0.400000</td>\n",
       "      <td>18420.000000</td>\n",
       "      <td>29.470000</td>\n",
       "    </tr>\n",
       "    <tr>\n",
       "      <th>36</th>\n",
       "      <td>early</td>\n",
       "      <td>HRDT</td>\n",
       "      <td>HIV test</td>\n",
       "      <td>None</td>\n",
       "      <td>2</td>\n",
       "      <td>0.000000</td>\n",
       "      <td>40.675000</td>\n",
       "      <td>0.435000</td>\n",
       "      <td>53750.000000</td>\n",
       "      <td>64.000000</td>\n",
       "    </tr>\n",
       "    <tr>\n",
       "      <th>37</th>\n",
       "      <td>early</td>\n",
       "      <td>HRDT</td>\n",
       "      <td>HIV test - Ancillary</td>\n",
       "      <td>Air</td>\n",
       "      <td>12</td>\n",
       "      <td>35.000000</td>\n",
       "      <td>0.010000</td>\n",
       "      <td>0.000000</td>\n",
       "      <td>21.511667</td>\n",
       "      <td>0.033333</td>\n",
       "    </tr>\n",
       "    <tr>\n",
       "      <th>38</th>\n",
       "      <td>early</td>\n",
       "      <td>ARV</td>\n",
       "      <td>Adult</td>\n",
       "      <td>Truck</td>\n",
       "      <td>876</td>\n",
       "      <td>6259.469977</td>\n",
       "      <td>9.074292</td>\n",
       "      <td>0.204098</td>\n",
       "      <td>331998.698288</td>\n",
       "      <td>455.233642</td>\n",
       "    </tr>\n",
       "    <tr>\n",
       "      <th>39</th>\n",
       "      <td>early</td>\n",
       "      <td>ARV</td>\n",
       "      <td>Adult</td>\n",
       "      <td>Air</td>\n",
       "      <td>805</td>\n",
       "      <td>5286.448969</td>\n",
       "      <td>9.266658</td>\n",
       "      <td>0.181876</td>\n",
       "      <td>100777.209640</td>\n",
       "      <td>172.708199</td>\n",
       "    </tr>\n",
       "    <tr>\n",
       "      <th>40</th>\n",
       "      <td>early</td>\n",
       "      <td>ARV</td>\n",
       "      <td>Adult</td>\n",
       "      <td>Air Charter</td>\n",
       "      <td>410</td>\n",
       "      <td>14265.706439</td>\n",
       "      <td>8.407537</td>\n",
       "      <td>0.183610</td>\n",
       "      <td>431314.506756</td>\n",
       "      <td>593.378976</td>\n",
       "    </tr>\n",
       "    <tr>\n",
       "      <th>41</th>\n",
       "      <td>early</td>\n",
       "      <td>ARV</td>\n",
       "      <td>Adult</td>\n",
       "      <td>None</td>\n",
       "      <td>17</td>\n",
       "      <td>1035.308235</td>\n",
       "      <td>19.702353</td>\n",
       "      <td>0.427647</td>\n",
       "      <td>38712.447647</td>\n",
       "      <td>61.940000</td>\n",
       "    </tr>\n",
       "    <tr>\n",
       "      <th>42</th>\n",
       "      <td>early</td>\n",
       "      <td>ARV</td>\n",
       "      <td>Adult</td>\n",
       "      <td>Ocean</td>\n",
       "      <td>12</td>\n",
       "      <td>11140.825833</td>\n",
       "      <td>4.578333</td>\n",
       "      <td>0.138333</td>\n",
       "      <td>427280.335000</td>\n",
       "      <td>825.731667</td>\n",
       "    </tr>\n",
       "    <tr>\n",
       "      <th>43</th>\n",
       "      <td>early</td>\n",
       "      <td>ARV</td>\n",
       "      <td>Pediatric</td>\n",
       "      <td>Air</td>\n",
       "      <td>275</td>\n",
       "      <td>2801.006145</td>\n",
       "      <td>6.034655</td>\n",
       "      <td>0.088764</td>\n",
       "      <td>9163.438218</td>\n",
       "      <td>14.932909</td>\n",
       "    </tr>\n",
       "    <tr>\n",
       "      <th>44</th>\n",
       "      <td>early</td>\n",
       "      <td>ARV</td>\n",
       "      <td>Pediatric</td>\n",
       "      <td>Truck</td>\n",
       "      <td>259</td>\n",
       "      <td>3486.366525</td>\n",
       "      <td>5.378919</td>\n",
       "      <td>0.059807</td>\n",
       "      <td>50393.489112</td>\n",
       "      <td>63.699459</td>\n",
       "    </tr>\n",
       "    <tr>\n",
       "      <th>45</th>\n",
       "      <td>early</td>\n",
       "      <td>ARV</td>\n",
       "      <td>Pediatric</td>\n",
       "      <td>Air Charter</td>\n",
       "      <td>42</td>\n",
       "      <td>14327.192143</td>\n",
       "      <td>5.325000</td>\n",
       "      <td>0.068810</td>\n",
       "      <td>81796.828571</td>\n",
       "      <td>93.592143</td>\n",
       "    </tr>\n",
       "    <tr>\n",
       "      <th>46</th>\n",
       "      <td>early</td>\n",
       "      <td>ARV</td>\n",
       "      <td>Pediatric</td>\n",
       "      <td>None</td>\n",
       "      <td>8</td>\n",
       "      <td>0.000000</td>\n",
       "      <td>15.852500</td>\n",
       "      <td>0.152500</td>\n",
       "      <td>994.118750</td>\n",
       "      <td>1.590000</td>\n",
       "    </tr>\n",
       "    <tr>\n",
       "      <th>47</th>\n",
       "      <td>early</td>\n",
       "      <td>ARV</td>\n",
       "      <td>Pediatric</td>\n",
       "      <td>Ocean</td>\n",
       "      <td>3</td>\n",
       "      <td>3174.103333</td>\n",
       "      <td>1.986667</td>\n",
       "      <td>0.010000</td>\n",
       "      <td>38462.233333</td>\n",
       "      <td>63.463333</td>\n",
       "    </tr>\n",
       "    <tr>\n",
       "      <th>48</th>\n",
       "      <td>early</td>\n",
       "      <td>ANTM</td>\n",
       "      <td>Malaria</td>\n",
       "      <td>Air</td>\n",
       "      <td>1</td>\n",
       "      <td>21015.770000</td>\n",
       "      <td>6.570000</td>\n",
       "      <td>0.010000</td>\n",
       "      <td>197.100000</td>\n",
       "      <td>0.390000</td>\n",
       "    </tr>\n",
       "    <tr>\n",
       "      <th>49</th>\n",
       "      <td>early</td>\n",
       "      <td>ACT</td>\n",
       "      <td>ACT</td>\n",
       "      <td>Air</td>\n",
       "      <td>1</td>\n",
       "      <td>1755.870000</td>\n",
       "      <td>45.520000</td>\n",
       "      <td>0.080000</td>\n",
       "      <td>1547.680000</td>\n",
       "      <td>2.480000</td>\n",
       "    </tr>\n",
       "  </tbody>\n",
       "</table>\n",
       "</div>"
      ],
      "text/plain": [
       "   delivery_status product_group    sub_classification shipment_mode  \\\n",
       "0          on time          MRDT               Malaria           Air   \n",
       "1          on time          MRDT               Malaria          None   \n",
       "2          on time          HRDT              HIV test           Air   \n",
       "3          on time          HRDT              HIV test          None   \n",
       "4          on time          HRDT              HIV test         Truck   \n",
       "5          on time          HRDT              HIV test         Ocean   \n",
       "6          on time          HRDT  HIV test - Ancillary           Air   \n",
       "7          on time          HRDT  HIV test - Ancillary         Truck   \n",
       "8          on time          HRDT  HIV test - Ancillary          None   \n",
       "9          on time           ARV                 Adult           Air   \n",
       "10         on time           ARV                 Adult         Truck   \n",
       "11         on time           ARV                 Adult          None   \n",
       "12         on time           ARV                 Adult         Ocean   \n",
       "13         on time           ARV                 Adult   Air Charter   \n",
       "14         on time           ARV             Pediatric           Air   \n",
       "15         on time           ARV             Pediatric         Truck   \n",
       "16         on time           ARV             Pediatric         Ocean   \n",
       "17         on time           ARV             Pediatric          None   \n",
       "18         on time           ARV             Pediatric   Air Charter   \n",
       "19         on time          ANTM               Malaria           Air   \n",
       "20         on time           ACT                   ACT           Air   \n",
       "21            late          HRDT              HIV test           Air   \n",
       "22            late          HRDT              HIV test         Truck   \n",
       "23            late          HRDT  HIV test - Ancillary           Air   \n",
       "24            late           ARV                 Adult         Truck   \n",
       "25            late           ARV                 Adult           Air   \n",
       "26            late           ARV                 Adult   Air Charter   \n",
       "27            late           ARV                 Adult         Ocean   \n",
       "28            late           ARV                 Adult          None   \n",
       "29            late           ARV             Pediatric           Air   \n",
       "30            late           ARV             Pediatric         Truck   \n",
       "31            late           ARV             Pediatric         Ocean   \n",
       "32            late           ARV             Pediatric   Air Charter   \n",
       "33            late           ARV             Pediatric          None   \n",
       "34           early          HRDT              HIV test           Air   \n",
       "35           early          HRDT              HIV test         Truck   \n",
       "36           early          HRDT              HIV test          None   \n",
       "37           early          HRDT  HIV test - Ancillary           Air   \n",
       "38           early           ARV                 Adult         Truck   \n",
       "39           early           ARV                 Adult           Air   \n",
       "40           early           ARV                 Adult   Air Charter   \n",
       "41           early           ARV                 Adult          None   \n",
       "42           early           ARV                 Adult         Ocean   \n",
       "43           early           ARV             Pediatric           Air   \n",
       "44           early           ARV             Pediatric         Truck   \n",
       "45           early           ARV             Pediatric   Air Charter   \n",
       "46           early           ARV             Pediatric          None   \n",
       "47           early           ARV             Pediatric         Ocean   \n",
       "48           early          ANTM               Malaria           Air   \n",
       "49           early           ACT                   ACT           Air   \n",
       "\n",
       "    status_freq  avg_freight_cost_usd  avg_pack_price  avg_unit_price  \\\n",
       "0             7           1163.228571       28.735714        1.055714   \n",
       "1             1            186.250000       37.500000        1.500000   \n",
       "2          1283          10333.893936       73.027163        2.519906   \n",
       "3            43           2901.037674       86.146977        2.572093   \n",
       "4            38            795.641579       74.885526        1.217105   \n",
       "5             4          18096.790000       44.000000        1.400000   \n",
       "6           128           1835.085625        6.646094        2.990703   \n",
       "7             9            263.986667        1.397778        0.840000   \n",
       "8             5            782.798000       47.738000       47.730000   \n",
       "9          2197           6635.565676       17.967101        0.281097   \n",
       "10          897           2314.791817       19.662876        0.397837   \n",
       "11          219           4340.980000       19.769954        0.307169   \n",
       "12          215          11664.630744        7.381628        0.173814   \n",
       "13          118          12831.916695       10.925847        0.252712   \n",
       "14          692           3881.748367       12.431561        0.125939   \n",
       "15          294            630.330374       13.610748        0.113741   \n",
       "16           72           6645.961250        3.979722        0.040694   \n",
       "17           61           4618.065082       11.803934        0.083115   \n",
       "18            5              0.000000        8.878000        0.094000   \n",
       "19           21           6173.803333       27.652857        0.091429   \n",
       "20           15           7474.245333       30.486000        0.056000   \n",
       "21          105          20163.816381       83.406286        1.397619   \n",
       "22            1              0.000000      128.750000        1.290000   \n",
       "23            7              0.000000        6.285714        2.891429   \n",
       "24          370           7715.358459        8.192730        0.176757   \n",
       "25          334           6755.874880        9.195180        0.173832   \n",
       "26           67          13637.365373        8.238358        0.189552   \n",
       "27           55           6100.540364        5.104727        0.152182   \n",
       "28            3           5959.573333       17.760000        0.386667   \n",
       "29          141           6111.524610        4.654397        0.048794   \n",
       "30           84           3930.755476        5.021786        0.059762   \n",
       "31           10           5319.487000        4.583000        0.061000   \n",
       "32            8           5944.640000        7.331250        0.081250   \n",
       "33            1              0.000000       14.480000        0.070000   \n",
       "34           89          19623.428764       61.866629        2.906517   \n",
       "35            2            130.930000       10.000000        0.400000   \n",
       "36            2              0.000000       40.675000        0.435000   \n",
       "37           12             35.000000        0.010000        0.000000   \n",
       "38          876           6259.469977        9.074292        0.204098   \n",
       "39          805           5286.448969        9.266658        0.181876   \n",
       "40          410          14265.706439        8.407537        0.183610   \n",
       "41           17           1035.308235       19.702353        0.427647   \n",
       "42           12          11140.825833        4.578333        0.138333   \n",
       "43          275           2801.006145        6.034655        0.088764   \n",
       "44          259           3486.366525        5.378919        0.059807   \n",
       "45           42          14327.192143        5.325000        0.068810   \n",
       "46            8              0.000000       15.852500        0.152500   \n",
       "47            3           3174.103333        1.986667        0.010000   \n",
       "48            1          21015.770000        6.570000        0.010000   \n",
       "49            1           1755.870000       45.520000        0.080000   \n",
       "\n",
       "    avg_line_item_value  avg_line_item_insurance_usd  \n",
       "0           9491.442857                    14.380000  \n",
       "1          14625.000000                    23.400000  \n",
       "2         121238.585861                   187.454201  \n",
       "3          49434.511628                    78.619231  \n",
       "4         126865.458947                   223.329737  \n",
       "5         331760.000000                   547.402500  \n",
       "6           2819.202031                     4.115781  \n",
       "7           2237.833333                     2.391111  \n",
       "8            104.718000                     0.164000  \n",
       "9         128435.243787                   203.436535  \n",
       "10        147568.665619                   231.068829  \n",
       "11        162119.232922                   312.681000  \n",
       "12        448833.650279                   728.920093  \n",
       "13        296793.325085                   523.121441  \n",
       "14         22694.006257                    36.200559  \n",
       "15         11613.635272                    17.075850  \n",
       "16         88080.521389                   141.698611  \n",
       "17         20533.833115                    37.077358  \n",
       "18         15247.684000                    30.280000  \n",
       "19         13046.640952                    16.819524  \n",
       "20         44188.884000                    72.634667  \n",
       "21        263991.207429                   378.003883  \n",
       "22        160937.500000                   225.630000  \n",
       "23           190.000000                     0.222857  \n",
       "24        372205.173486                   512.876081  \n",
       "25        115596.154641                   194.703922  \n",
       "26        461015.807463                   657.691045  \n",
       "27        292126.544000                   546.101636  \n",
       "28        231614.966667                   516.565000  \n",
       "29          9961.228511                    16.879143  \n",
       "30         59063.979286                    78.875952  \n",
       "31         70016.080000                   141.247000  \n",
       "32         13988.337500                    18.812500  \n",
       "33            57.920000                     0.090000  \n",
       "34        237242.475730                   334.105568  \n",
       "35         18420.000000                    29.470000  \n",
       "36         53750.000000                    64.000000  \n",
       "37            21.511667                     0.033333  \n",
       "38        331998.698288                   455.233642  \n",
       "39        100777.209640                   172.708199  \n",
       "40        431314.506756                   593.378976  \n",
       "41         38712.447647                    61.940000  \n",
       "42        427280.335000                   825.731667  \n",
       "43          9163.438218                    14.932909  \n",
       "44         50393.489112                    63.699459  \n",
       "45         81796.828571                    93.592143  \n",
       "46           994.118750                     1.590000  \n",
       "47         38462.233333                    63.463333  \n",
       "48           197.100000                     0.390000  \n",
       "49          1547.680000                     2.480000  "
      ]
     },
     "execution_count": 109,
     "metadata": {},
     "output_type": "execute_result"
    }
   ],
   "source": [
    "# average prices statified by delivery status, vendor, frequency\n",
    "sqldf('''with status as (\n",
    "          select *,\n",
    "          case \n",
    "            when delivery_diff_days = 0 then 'on time'\n",
    "            when delivery_diff_days < 0 then 'early'\n",
    "          else 'late'\n",
    "          end as 'delivery_status'\n",
    "          from data)\n",
    "          select \n",
    "            delivery_status,product_group,sub_classification,shipment_mode,\n",
    "            count(delivery_status) as status_freq,\n",
    "            avg(freight_cost_usd) as avg_freight_cost_usd,\n",
    "            avg(pack_price) as avg_pack_price,\n",
    "            avg(unit_price) as avg_unit_price,\n",
    "            avg(line_item_value) as avg_line_item_value,\n",
    "            avg(line_item_insurance_usd) as avg_line_item_insurance_usd\n",
    "          from status\n",
    "          group by delivery_status,product_group,sub_classification,shipment_mode\n",
    "          order by delivery_status desc, product_group desc, sub_classification, status_freq desc''')\n",
    "          "
   ]
  },
  {
   "cell_type": "code",
   "execution_count": 121,
   "metadata": {},
   "outputs": [
    {
     "data": {
      "text/html": [
       "<div>\n",
       "<style scoped>\n",
       "    .dataframe tbody tr th:only-of-type {\n",
       "        vertical-align: middle;\n",
       "    }\n",
       "\n",
       "    .dataframe tbody tr th {\n",
       "        vertical-align: top;\n",
       "    }\n",
       "\n",
       "    .dataframe thead th {\n",
       "        text-align: right;\n",
       "    }\n",
       "</style>\n",
       "<table border=\"1\" class=\"dataframe\">\n",
       "  <thead>\n",
       "    <tr style=\"text-align: right;\">\n",
       "      <th></th>\n",
       "      <th>delivery_status</th>\n",
       "      <th>vendor</th>\n",
       "      <th>status_freq</th>\n",
       "      <th>avg_freight_cost_usd</th>\n",
       "      <th>avg_pack_price</th>\n",
       "      <th>avg_unit_price</th>\n",
       "      <th>avg_line_item_value</th>\n",
       "      <th>avg_line_item_insurance_usd</th>\n",
       "    </tr>\n",
       "  </thead>\n",
       "  <tbody>\n",
       "    <tr>\n",
       "      <th>0</th>\n",
       "      <td>on time</td>\n",
       "      <td>SCMS from RDC</td>\n",
       "      <td>2068</td>\n",
       "      <td>5136.092021</td>\n",
       "      <td>16.084483</td>\n",
       "      <td>0.413617</td>\n",
       "      <td>155912.813153</td>\n",
       "      <td>264.791573</td>\n",
       "    </tr>\n",
       "    <tr>\n",
       "      <th>1</th>\n",
       "      <td>on time</td>\n",
       "      <td>Orgenics, Ltd</td>\n",
       "      <td>592</td>\n",
       "      <td>11540.338429</td>\n",
       "      <td>68.791588</td>\n",
       "      <td>1.052399</td>\n",
       "      <td>177320.315456</td>\n",
       "      <td>265.053395</td>\n",
       "    </tr>\n",
       "    <tr>\n",
       "      <th>2</th>\n",
       "      <td>on time</td>\n",
       "      <td>Aurobindo Pharma Limited</td>\n",
       "      <td>552</td>\n",
       "      <td>7057.416576</td>\n",
       "      <td>7.210797</td>\n",
       "      <td>0.148207</td>\n",
       "      <td>120203.041250</td>\n",
       "      <td>202.635824</td>\n",
       "    </tr>\n",
       "    <tr>\n",
       "      <th>3</th>\n",
       "      <td>on time</td>\n",
       "      <td>S. BUYS WHOLESALER</td>\n",
       "      <td>464</td>\n",
       "      <td>0.000000</td>\n",
       "      <td>21.179806</td>\n",
       "      <td>0.382845</td>\n",
       "      <td>12942.126379</td>\n",
       "      <td>21.941595</td>\n",
       "    </tr>\n",
       "    <tr>\n",
       "      <th>4</th>\n",
       "      <td>on time</td>\n",
       "      <td>Trinity Biotech, Plc</td>\n",
       "      <td>353</td>\n",
       "      <td>6512.133229</td>\n",
       "      <td>39.543938</td>\n",
       "      <td>1.743739</td>\n",
       "      <td>58682.156516</td>\n",
       "      <td>90.077442</td>\n",
       "    </tr>\n",
       "    <tr>\n",
       "      <th>5</th>\n",
       "      <td>on time</td>\n",
       "      <td>ABBVIE LOGISTICS (FORMERLY ABBOTT LOGISTICS BV)</td>\n",
       "      <td>341</td>\n",
       "      <td>5618.974868</td>\n",
       "      <td>39.353548</td>\n",
       "      <td>0.294457</td>\n",
       "      <td>85355.307214</td>\n",
       "      <td>135.537589</td>\n",
       "    </tr>\n",
       "    <tr>\n",
       "      <th>6</th>\n",
       "      <td>on time</td>\n",
       "      <td>PHARMACY DIRECT</td>\n",
       "      <td>326</td>\n",
       "      <td>0.000000</td>\n",
       "      <td>25.098896</td>\n",
       "      <td>0.439632</td>\n",
       "      <td>2678.943742</td>\n",
       "      <td>3.121196</td>\n",
       "    </tr>\n",
       "    <tr>\n",
       "      <th>7</th>\n",
       "      <td>on time</td>\n",
       "      <td>MYLAN LABORATORIES LTD (FORMERLY MATRIX LABORA...</td>\n",
       "      <td>310</td>\n",
       "      <td>9954.141484</td>\n",
       "      <td>10.609355</td>\n",
       "      <td>0.284710</td>\n",
       "      <td>230027.868355</td>\n",
       "      <td>329.367323</td>\n",
       "    </tr>\n",
       "    <tr>\n",
       "      <th>8</th>\n",
       "      <td>on time</td>\n",
       "      <td>HETERO LABS LIMITED</td>\n",
       "      <td>266</td>\n",
       "      <td>9693.650113</td>\n",
       "      <td>5.729211</td>\n",
       "      <td>0.146353</td>\n",
       "      <td>153332.114850</td>\n",
       "      <td>206.352970</td>\n",
       "    </tr>\n",
       "    <tr>\n",
       "      <th>9</th>\n",
       "      <td>on time</td>\n",
       "      <td>CIPLA LIMITED</td>\n",
       "      <td>146</td>\n",
       "      <td>11727.000959</td>\n",
       "      <td>7.779658</td>\n",
       "      <td>0.137123</td>\n",
       "      <td>218336.096781</td>\n",
       "      <td>346.024676</td>\n",
       "    </tr>\n",
       "  </tbody>\n",
       "</table>\n",
       "</div>"
      ],
      "text/plain": [
       "  delivery_status                                             vendor  \\\n",
       "0         on time                                      SCMS from RDC   \n",
       "1         on time                                      Orgenics, Ltd   \n",
       "2         on time                           Aurobindo Pharma Limited   \n",
       "3         on time                                 S. BUYS WHOLESALER   \n",
       "4         on time                               Trinity Biotech, Plc   \n",
       "5         on time    ABBVIE LOGISTICS (FORMERLY ABBOTT LOGISTICS BV)   \n",
       "6         on time                                    PHARMACY DIRECT   \n",
       "7         on time  MYLAN LABORATORIES LTD (FORMERLY MATRIX LABORA...   \n",
       "8         on time                                HETERO LABS LIMITED   \n",
       "9         on time                                      CIPLA LIMITED   \n",
       "\n",
       "   status_freq  avg_freight_cost_usd  avg_pack_price  avg_unit_price  \\\n",
       "0         2068           5136.092021       16.084483        0.413617   \n",
       "1          592          11540.338429       68.791588        1.052399   \n",
       "2          552           7057.416576        7.210797        0.148207   \n",
       "3          464              0.000000       21.179806        0.382845   \n",
       "4          353           6512.133229       39.543938        1.743739   \n",
       "5          341           5618.974868       39.353548        0.294457   \n",
       "6          326              0.000000       25.098896        0.439632   \n",
       "7          310           9954.141484       10.609355        0.284710   \n",
       "8          266           9693.650113        5.729211        0.146353   \n",
       "9          146          11727.000959        7.779658        0.137123   \n",
       "\n",
       "   avg_line_item_value  avg_line_item_insurance_usd  \n",
       "0        155912.813153                   264.791573  \n",
       "1        177320.315456                   265.053395  \n",
       "2        120203.041250                   202.635824  \n",
       "3         12942.126379                    21.941595  \n",
       "4         58682.156516                    90.077442  \n",
       "5         85355.307214                   135.537589  \n",
       "6          2678.943742                     3.121196  \n",
       "7        230027.868355                   329.367323  \n",
       "8        153332.114850                   206.352970  \n",
       "9        218336.096781                   346.024676  "
      ]
     },
     "execution_count": 121,
     "metadata": {},
     "output_type": "execute_result"
    }
   ],
   "source": [
    "# average prices statified by delivery status, vendor, frequency for on time deliveries\n",
    "sqldf(\"\"\"with status as (\n",
    "          select *,\n",
    "          case \n",
    "            when delivery_diff_days = 0 then 'on time'\n",
    "            when delivery_diff_days < 0 then 'early'\n",
    "          else 'late'\n",
    "          end as 'delivery_status'\n",
    "          from data)\n",
    "          select \n",
    "            delivery_status,vendor,\n",
    "            count(delivery_status) as status_freq,\n",
    "            avg(freight_cost_usd) as avg_freight_cost_usd,\n",
    "            avg(pack_price) as avg_pack_price,\n",
    "            avg(unit_price) as avg_unit_price,\n",
    "            avg(line_item_value) as avg_line_item_value,\n",
    "            avg(line_item_insurance_usd) as avg_line_item_insurance_usd\n",
    "          from status\n",
    "          where delivery_status = 'on time'\n",
    "          group by delivery_status,vendor\n",
    "          order by status_freq desc\n",
    "          limit 10\n",
    "          \"\"\")\n",
    "          "
   ]
  },
  {
   "cell_type": "code",
   "execution_count": 152,
   "metadata": {},
   "outputs": [
    {
     "data": {
      "text/html": [
       "<div>\n",
       "<style scoped>\n",
       "    .dataframe tbody tr th:only-of-type {\n",
       "        vertical-align: middle;\n",
       "    }\n",
       "\n",
       "    .dataframe tbody tr th {\n",
       "        vertical-align: top;\n",
       "    }\n",
       "\n",
       "    .dataframe thead th {\n",
       "        text-align: right;\n",
       "    }\n",
       "</style>\n",
       "<table border=\"1\" class=\"dataframe\">\n",
       "  <thead>\n",
       "    <tr style=\"text-align: right;\">\n",
       "      <th></th>\n",
       "      <th>vendor</th>\n",
       "      <th>country</th>\n",
       "      <th>count_deliveries</th>\n",
       "    </tr>\n",
       "  </thead>\n",
       "  <tbody>\n",
       "    <tr>\n",
       "      <th>0</th>\n",
       "      <td>SCMS from RDC</td>\n",
       "      <td>Nigeria</td>\n",
       "      <td>927</td>\n",
       "    </tr>\n",
       "    <tr>\n",
       "      <th>1</th>\n",
       "      <td>SCMS from RDC</td>\n",
       "      <td>Côte d'Ivoire</td>\n",
       "      <td>825</td>\n",
       "    </tr>\n",
       "    <tr>\n",
       "      <th>2</th>\n",
       "      <td>S. BUYS WHOLESALER</td>\n",
       "      <td>South Africa</td>\n",
       "      <td>715</td>\n",
       "    </tr>\n",
       "    <tr>\n",
       "      <th>3</th>\n",
       "      <td>SCMS from RDC</td>\n",
       "      <td>Uganda</td>\n",
       "      <td>573</td>\n",
       "    </tr>\n",
       "    <tr>\n",
       "      <th>4</th>\n",
       "      <td>SCMS from RDC</td>\n",
       "      <td>Zambia</td>\n",
       "      <td>541</td>\n",
       "    </tr>\n",
       "    <tr>\n",
       "      <th>5</th>\n",
       "      <td>SCMS from RDC</td>\n",
       "      <td>Mozambique</td>\n",
       "      <td>507</td>\n",
       "    </tr>\n",
       "    <tr>\n",
       "      <th>6</th>\n",
       "      <td>SCMS from RDC</td>\n",
       "      <td>Zimbabwe</td>\n",
       "      <td>428</td>\n",
       "    </tr>\n",
       "    <tr>\n",
       "      <th>7</th>\n",
       "      <td>PHARMACY DIRECT</td>\n",
       "      <td>South Africa</td>\n",
       "      <td>326</td>\n",
       "    </tr>\n",
       "    <tr>\n",
       "      <th>8</th>\n",
       "      <td>SCMS from RDC</td>\n",
       "      <td>Haiti</td>\n",
       "      <td>312</td>\n",
       "    </tr>\n",
       "    <tr>\n",
       "      <th>9</th>\n",
       "      <td>SCMS from RDC</td>\n",
       "      <td>Tanzania</td>\n",
       "      <td>301</td>\n",
       "    </tr>\n",
       "  </tbody>\n",
       "</table>\n",
       "</div>"
      ],
      "text/plain": [
       "               vendor        country  count_deliveries\n",
       "0       SCMS from RDC        Nigeria               927\n",
       "1       SCMS from RDC  Côte d'Ivoire               825\n",
       "2  S. BUYS WHOLESALER   South Africa               715\n",
       "3       SCMS from RDC         Uganda               573\n",
       "4       SCMS from RDC         Zambia               541\n",
       "5       SCMS from RDC     Mozambique               507\n",
       "6       SCMS from RDC       Zimbabwe               428\n",
       "7     PHARMACY DIRECT   South Africa               326\n",
       "8       SCMS from RDC          Haiti               312\n",
       "9       SCMS from RDC       Tanzania               301"
      ]
     },
     "execution_count": 152,
     "metadata": {},
     "output_type": "execute_result"
    }
   ],
   "source": [
    "# top 10 countries with most deliveries\n",
    "sqldf('''\n",
    "      select \n",
    "        vendor,country,\n",
    "        count(delivered_to_client_date) as count_deliveries\n",
    "      from data\n",
    "      group by vendor,country\n",
    "      order by count_deliveries desc\n",
    "      limit 10\n",
    "      ''')"
   ]
  },
  {
   "cell_type": "code",
   "execution_count": 170,
   "metadata": {},
   "outputs": [
    {
     "data": {
      "text/html": [
       "<div>\n",
       "<style scoped>\n",
       "    .dataframe tbody tr th:only-of-type {\n",
       "        vertical-align: middle;\n",
       "    }\n",
       "\n",
       "    .dataframe tbody tr th {\n",
       "        vertical-align: top;\n",
       "    }\n",
       "\n",
       "    .dataframe thead th {\n",
       "        text-align: right;\n",
       "    }\n",
       "</style>\n",
       "<table border=\"1\" class=\"dataframe\">\n",
       "  <thead>\n",
       "    <tr style=\"text-align: right;\">\n",
       "      <th></th>\n",
       "      <th>vendor</th>\n",
       "      <th>country</th>\n",
       "      <th>count_deliveries</th>\n",
       "      <th>rn</th>\n",
       "    </tr>\n",
       "  </thead>\n",
       "  <tbody>\n",
       "    <tr>\n",
       "      <th>0</th>\n",
       "      <td>SCMS from RDC</td>\n",
       "      <td>Nigeria</td>\n",
       "      <td>927</td>\n",
       "      <td>1</td>\n",
       "    </tr>\n",
       "    <tr>\n",
       "      <th>1</th>\n",
       "      <td>SCMS from RDC</td>\n",
       "      <td>Côte d'Ivoire</td>\n",
       "      <td>825</td>\n",
       "      <td>2</td>\n",
       "    </tr>\n",
       "    <tr>\n",
       "      <th>2</th>\n",
       "      <td>S. BUYS WHOLESALER</td>\n",
       "      <td>South Africa</td>\n",
       "      <td>715</td>\n",
       "      <td>1</td>\n",
       "    </tr>\n",
       "    <tr>\n",
       "      <th>3</th>\n",
       "      <td>SCMS from RDC</td>\n",
       "      <td>Uganda</td>\n",
       "      <td>573</td>\n",
       "      <td>3</td>\n",
       "    </tr>\n",
       "    <tr>\n",
       "      <th>4</th>\n",
       "      <td>PHARMACY DIRECT</td>\n",
       "      <td>South Africa</td>\n",
       "      <td>326</td>\n",
       "      <td>1</td>\n",
       "    </tr>\n",
       "    <tr>\n",
       "      <th>5</th>\n",
       "      <td>Aurobindo Pharma Limited</td>\n",
       "      <td>South Africa</td>\n",
       "      <td>212</td>\n",
       "      <td>1</td>\n",
       "    </tr>\n",
       "    <tr>\n",
       "      <th>6</th>\n",
       "      <td>MYLAN LABORATORIES LTD (FORMERLY MATRIX LABORA...</td>\n",
       "      <td>Vietnam</td>\n",
       "      <td>161</td>\n",
       "      <td>1</td>\n",
       "    </tr>\n",
       "    <tr>\n",
       "      <th>7</th>\n",
       "      <td>Aurobindo Pharma Limited</td>\n",
       "      <td>Vietnam</td>\n",
       "      <td>160</td>\n",
       "      <td>2</td>\n",
       "    </tr>\n",
       "    <tr>\n",
       "      <th>8</th>\n",
       "      <td>HETERO LABS LIMITED</td>\n",
       "      <td>Vietnam</td>\n",
       "      <td>150</td>\n",
       "      <td>1</td>\n",
       "    </tr>\n",
       "    <tr>\n",
       "      <th>9</th>\n",
       "      <td>Orgenics, Ltd</td>\n",
       "      <td>Nigeria</td>\n",
       "      <td>136</td>\n",
       "      <td>1</td>\n",
       "    </tr>\n",
       "    <tr>\n",
       "      <th>10</th>\n",
       "      <td>ABBVIE LOGISTICS (FORMERLY ABBOTT LOGISTICS BV)</td>\n",
       "      <td>Vietnam</td>\n",
       "      <td>100</td>\n",
       "      <td>1</td>\n",
       "    </tr>\n",
       "    <tr>\n",
       "      <th>11</th>\n",
       "      <td>Orgenics, Ltd</td>\n",
       "      <td>South Sudan</td>\n",
       "      <td>70</td>\n",
       "      <td>2</td>\n",
       "    </tr>\n",
       "    <tr>\n",
       "      <th>12</th>\n",
       "      <td>Orgenics, Ltd</td>\n",
       "      <td>Zambia</td>\n",
       "      <td>62</td>\n",
       "      <td>3</td>\n",
       "    </tr>\n",
       "    <tr>\n",
       "      <th>13</th>\n",
       "      <td>Aurobindo Pharma Limited</td>\n",
       "      <td>Haiti</td>\n",
       "      <td>61</td>\n",
       "      <td>3</td>\n",
       "    </tr>\n",
       "    <tr>\n",
       "      <th>14</th>\n",
       "      <td>CIPLA LIMITED</td>\n",
       "      <td>South Africa</td>\n",
       "      <td>61</td>\n",
       "      <td>1</td>\n",
       "    </tr>\n",
       "    <tr>\n",
       "      <th>15</th>\n",
       "      <td>Trinity Biotech, Plc</td>\n",
       "      <td>Congo, DRC</td>\n",
       "      <td>56</td>\n",
       "      <td>1</td>\n",
       "    </tr>\n",
       "    <tr>\n",
       "      <th>16</th>\n",
       "      <td>ABBVIE LOGISTICS (FORMERLY ABBOTT LOGISTICS BV)</td>\n",
       "      <td>Côte d'Ivoire</td>\n",
       "      <td>47</td>\n",
       "      <td>2</td>\n",
       "    </tr>\n",
       "    <tr>\n",
       "      <th>17</th>\n",
       "      <td>Trinity Biotech, Plc</td>\n",
       "      <td>South Sudan</td>\n",
       "      <td>42</td>\n",
       "      <td>2</td>\n",
       "    </tr>\n",
       "    <tr>\n",
       "      <th>18</th>\n",
       "      <td>Standard Diagnostics, Inc.</td>\n",
       "      <td>Tanzania</td>\n",
       "      <td>41</td>\n",
       "      <td>1</td>\n",
       "    </tr>\n",
       "    <tr>\n",
       "      <th>19</th>\n",
       "      <td>JSI R&amp;T INSTITUTE, INC.</td>\n",
       "      <td>South Africa</td>\n",
       "      <td>38</td>\n",
       "      <td>1</td>\n",
       "    </tr>\n",
       "    <tr>\n",
       "      <th>20</th>\n",
       "      <td>MYLAN LABORATORIES LTD (FORMERLY MATRIX LABORA...</td>\n",
       "      <td>Haiti</td>\n",
       "      <td>38</td>\n",
       "      <td>2</td>\n",
       "    </tr>\n",
       "    <tr>\n",
       "      <th>21</th>\n",
       "      <td>STRIDES ARCOLAB LIMITED</td>\n",
       "      <td>Vietnam</td>\n",
       "      <td>38</td>\n",
       "      <td>1</td>\n",
       "    </tr>\n",
       "    <tr>\n",
       "      <th>22</th>\n",
       "      <td>ABBVIE LOGISTICS (FORMERLY ABBOTT LOGISTICS BV)</td>\n",
       "      <td>Haiti</td>\n",
       "      <td>35</td>\n",
       "      <td>3</td>\n",
       "    </tr>\n",
       "    <tr>\n",
       "      <th>23</th>\n",
       "      <td>HETERO LABS LIMITED</td>\n",
       "      <td>Rwanda</td>\n",
       "      <td>35</td>\n",
       "      <td>2</td>\n",
       "    </tr>\n",
       "    <tr>\n",
       "      <th>24</th>\n",
       "      <td>CHEMBIO DIAGNOSTIC SYSTEMS, INC.</td>\n",
       "      <td>Nigeria</td>\n",
       "      <td>34</td>\n",
       "      <td>1</td>\n",
       "    </tr>\n",
       "    <tr>\n",
       "      <th>25</th>\n",
       "      <td>HETERO LABS LIMITED</td>\n",
       "      <td>Haiti</td>\n",
       "      <td>34</td>\n",
       "      <td>3</td>\n",
       "    </tr>\n",
       "    <tr>\n",
       "      <th>26</th>\n",
       "      <td>SHANGHAI KEHUA BIOENGINEERING CO.,LTD.  (KHB)</td>\n",
       "      <td>Ethiopia</td>\n",
       "      <td>32</td>\n",
       "      <td>1</td>\n",
       "    </tr>\n",
       "    <tr>\n",
       "      <th>27</th>\n",
       "      <td>ASPEN PHARMACARE</td>\n",
       "      <td>Uganda</td>\n",
       "      <td>31</td>\n",
       "      <td>1</td>\n",
       "    </tr>\n",
       "    <tr>\n",
       "      <th>28</th>\n",
       "      <td>CIPLA LIMITED</td>\n",
       "      <td>Vietnam</td>\n",
       "      <td>28</td>\n",
       "      <td>2</td>\n",
       "    </tr>\n",
       "    <tr>\n",
       "      <th>29</th>\n",
       "      <td>CHEMBIO DIAGNOSTIC SYSTEMS, INC.</td>\n",
       "      <td>Côte d'Ivoire</td>\n",
       "      <td>27</td>\n",
       "      <td>2</td>\n",
       "    </tr>\n",
       "    <tr>\n",
       "      <th>30</th>\n",
       "      <td>MYLAN LABORATORIES LTD (FORMERLY MATRIX LABORA...</td>\n",
       "      <td>Rwanda</td>\n",
       "      <td>27</td>\n",
       "      <td>3</td>\n",
       "    </tr>\n",
       "    <tr>\n",
       "      <th>31</th>\n",
       "      <td>STRIDES ARCOLAB LIMITED</td>\n",
       "      <td>South Africa</td>\n",
       "      <td>27</td>\n",
       "      <td>2</td>\n",
       "    </tr>\n",
       "    <tr>\n",
       "      <th>32</th>\n",
       "      <td>CIPLA LIMITED</td>\n",
       "      <td>Rwanda</td>\n",
       "      <td>26</td>\n",
       "      <td>3</td>\n",
       "    </tr>\n",
       "    <tr>\n",
       "      <th>33</th>\n",
       "      <td>Trinity Biotech, Plc</td>\n",
       "      <td>Mozambique</td>\n",
       "      <td>26</td>\n",
       "      <td>3</td>\n",
       "    </tr>\n",
       "    <tr>\n",
       "      <th>34</th>\n",
       "      <td>Standard Diagnostics, Inc.</td>\n",
       "      <td>Côte d'Ivoire</td>\n",
       "      <td>22</td>\n",
       "      <td>2</td>\n",
       "    </tr>\n",
       "    <tr>\n",
       "      <th>35</th>\n",
       "      <td>BIO-RAD LABORATORIES (FRANCE)</td>\n",
       "      <td>Côte d'Ivoire</td>\n",
       "      <td>19</td>\n",
       "      <td>1</td>\n",
       "    </tr>\n",
       "    <tr>\n",
       "      <th>36</th>\n",
       "      <td>Orasure Technologies Inc.</td>\n",
       "      <td>Botswana</td>\n",
       "      <td>19</td>\n",
       "      <td>1</td>\n",
       "    </tr>\n",
       "    <tr>\n",
       "      <th>37</th>\n",
       "      <td>SHANGHAI KEHUA BIOENGINEERING CO.,LTD.  (KHB)</td>\n",
       "      <td>Rwanda</td>\n",
       "      <td>19</td>\n",
       "      <td>2</td>\n",
       "    </tr>\n",
       "    <tr>\n",
       "      <th>38</th>\n",
       "      <td>CHEMBIO DIAGNOSTIC SYSTEMS, INC.</td>\n",
       "      <td>Ethiopia</td>\n",
       "      <td>18</td>\n",
       "      <td>3</td>\n",
       "    </tr>\n",
       "    <tr>\n",
       "      <th>39</th>\n",
       "      <td>MERCK SHARP &amp; DOHME IDEA GMBH (FORMALLY MERCK ...</td>\n",
       "      <td>Côte d'Ivoire</td>\n",
       "      <td>18</td>\n",
       "      <td>1</td>\n",
       "    </tr>\n",
       "    <tr>\n",
       "      <th>40</th>\n",
       "      <td>BRISTOL-MYERS SQUIBB</td>\n",
       "      <td>Vietnam</td>\n",
       "      <td>17</td>\n",
       "      <td>1</td>\n",
       "    </tr>\n",
       "    <tr>\n",
       "      <th>41</th>\n",
       "      <td>MERCK SHARP &amp; DOHME IDEA GMBH (FORMALLY MERCK ...</td>\n",
       "      <td>Uganda</td>\n",
       "      <td>17</td>\n",
       "      <td>2</td>\n",
       "    </tr>\n",
       "    <tr>\n",
       "      <th>42</th>\n",
       "      <td>MICRO LABS LIMITED</td>\n",
       "      <td>Vietnam</td>\n",
       "      <td>17</td>\n",
       "      <td>1</td>\n",
       "    </tr>\n",
       "    <tr>\n",
       "      <th>43</th>\n",
       "      <td>BRISTOL-MYERS SQUIBB</td>\n",
       "      <td>Côte d'Ivoire</td>\n",
       "      <td>16</td>\n",
       "      <td>2</td>\n",
       "    </tr>\n",
       "    <tr>\n",
       "      <th>44</th>\n",
       "      <td>Orasure Technologies Inc.</td>\n",
       "      <td>Haiti</td>\n",
       "      <td>16</td>\n",
       "      <td>2</td>\n",
       "    </tr>\n",
       "    <tr>\n",
       "      <th>45</th>\n",
       "      <td>SHANGHAI KEHUA BIOENGINEERING CO.,LTD.  (KHB)</td>\n",
       "      <td>Haiti</td>\n",
       "      <td>15</td>\n",
       "      <td>3</td>\n",
       "    </tr>\n",
       "    <tr>\n",
       "      <th>46</th>\n",
       "      <td>MERCK SHARP &amp; DOHME IDEA GMBH (FORMALLY MERCK ...</td>\n",
       "      <td>Haiti</td>\n",
       "      <td>14</td>\n",
       "      <td>3</td>\n",
       "    </tr>\n",
       "    <tr>\n",
       "      <th>47</th>\n",
       "      <td>BRISTOL-MYERS SQUIBB</td>\n",
       "      <td>Haiti</td>\n",
       "      <td>12</td>\n",
       "      <td>3</td>\n",
       "    </tr>\n",
       "    <tr>\n",
       "      <th>48</th>\n",
       "      <td>GLAXOSMITHKLINE EXPORT LIMITED</td>\n",
       "      <td>South Africa</td>\n",
       "      <td>12</td>\n",
       "      <td>1</td>\n",
       "    </tr>\n",
       "    <tr>\n",
       "      <th>49</th>\n",
       "      <td>REINBOLD EXPORT IMPORT</td>\n",
       "      <td>Haiti</td>\n",
       "      <td>12</td>\n",
       "      <td>1</td>\n",
       "    </tr>\n",
       "  </tbody>\n",
       "</table>\n",
       "</div>"
      ],
      "text/plain": [
       "                                               vendor        country  \\\n",
       "0                                       SCMS from RDC        Nigeria   \n",
       "1                                       SCMS from RDC  Côte d'Ivoire   \n",
       "2                                  S. BUYS WHOLESALER   South Africa   \n",
       "3                                       SCMS from RDC         Uganda   \n",
       "4                                     PHARMACY DIRECT   South Africa   \n",
       "5                            Aurobindo Pharma Limited   South Africa   \n",
       "6   MYLAN LABORATORIES LTD (FORMERLY MATRIX LABORA...        Vietnam   \n",
       "7                            Aurobindo Pharma Limited        Vietnam   \n",
       "8                                 HETERO LABS LIMITED        Vietnam   \n",
       "9                                       Orgenics, Ltd        Nigeria   \n",
       "10    ABBVIE LOGISTICS (FORMERLY ABBOTT LOGISTICS BV)        Vietnam   \n",
       "11                                      Orgenics, Ltd    South Sudan   \n",
       "12                                      Orgenics, Ltd         Zambia   \n",
       "13                           Aurobindo Pharma Limited          Haiti   \n",
       "14                                      CIPLA LIMITED   South Africa   \n",
       "15                               Trinity Biotech, Plc     Congo, DRC   \n",
       "16    ABBVIE LOGISTICS (FORMERLY ABBOTT LOGISTICS BV)  Côte d'Ivoire   \n",
       "17                               Trinity Biotech, Plc    South Sudan   \n",
       "18                         Standard Diagnostics, Inc.       Tanzania   \n",
       "19                            JSI R&T INSTITUTE, INC.   South Africa   \n",
       "20  MYLAN LABORATORIES LTD (FORMERLY MATRIX LABORA...          Haiti   \n",
       "21                            STRIDES ARCOLAB LIMITED        Vietnam   \n",
       "22    ABBVIE LOGISTICS (FORMERLY ABBOTT LOGISTICS BV)          Haiti   \n",
       "23                                HETERO LABS LIMITED         Rwanda   \n",
       "24                   CHEMBIO DIAGNOSTIC SYSTEMS, INC.        Nigeria   \n",
       "25                                HETERO LABS LIMITED          Haiti   \n",
       "26      SHANGHAI KEHUA BIOENGINEERING CO.,LTD.  (KHB)       Ethiopia   \n",
       "27                                   ASPEN PHARMACARE         Uganda   \n",
       "28                                      CIPLA LIMITED        Vietnam   \n",
       "29                   CHEMBIO DIAGNOSTIC SYSTEMS, INC.  Côte d'Ivoire   \n",
       "30  MYLAN LABORATORIES LTD (FORMERLY MATRIX LABORA...         Rwanda   \n",
       "31                            STRIDES ARCOLAB LIMITED   South Africa   \n",
       "32                                      CIPLA LIMITED         Rwanda   \n",
       "33                               Trinity Biotech, Plc     Mozambique   \n",
       "34                         Standard Diagnostics, Inc.  Côte d'Ivoire   \n",
       "35                      BIO-RAD LABORATORIES (FRANCE)  Côte d'Ivoire   \n",
       "36                          Orasure Technologies Inc.       Botswana   \n",
       "37      SHANGHAI KEHUA BIOENGINEERING CO.,LTD.  (KHB)         Rwanda   \n",
       "38                   CHEMBIO DIAGNOSTIC SYSTEMS, INC.       Ethiopia   \n",
       "39  MERCK SHARP & DOHME IDEA GMBH (FORMALLY MERCK ...  Côte d'Ivoire   \n",
       "40                               BRISTOL-MYERS SQUIBB        Vietnam   \n",
       "41  MERCK SHARP & DOHME IDEA GMBH (FORMALLY MERCK ...         Uganda   \n",
       "42                                 MICRO LABS LIMITED        Vietnam   \n",
       "43                               BRISTOL-MYERS SQUIBB  Côte d'Ivoire   \n",
       "44                          Orasure Technologies Inc.          Haiti   \n",
       "45      SHANGHAI KEHUA BIOENGINEERING CO.,LTD.  (KHB)          Haiti   \n",
       "46  MERCK SHARP & DOHME IDEA GMBH (FORMALLY MERCK ...          Haiti   \n",
       "47                               BRISTOL-MYERS SQUIBB          Haiti   \n",
       "48                     GLAXOSMITHKLINE EXPORT LIMITED   South Africa   \n",
       "49                             REINBOLD EXPORT IMPORT          Haiti   \n",
       "\n",
       "    count_deliveries  rn  \n",
       "0                927   1  \n",
       "1                825   2  \n",
       "2                715   1  \n",
       "3                573   3  \n",
       "4                326   1  \n",
       "5                212   1  \n",
       "6                161   1  \n",
       "7                160   2  \n",
       "8                150   1  \n",
       "9                136   1  \n",
       "10               100   1  \n",
       "11                70   2  \n",
       "12                62   3  \n",
       "13                61   3  \n",
       "14                61   1  \n",
       "15                56   1  \n",
       "16                47   2  \n",
       "17                42   2  \n",
       "18                41   1  \n",
       "19                38   1  \n",
       "20                38   2  \n",
       "21                38   1  \n",
       "22                35   3  \n",
       "23                35   2  \n",
       "24                34   1  \n",
       "25                34   3  \n",
       "26                32   1  \n",
       "27                31   1  \n",
       "28                28   2  \n",
       "29                27   2  \n",
       "30                27   3  \n",
       "31                27   2  \n",
       "32                26   3  \n",
       "33                26   3  \n",
       "34                22   2  \n",
       "35                19   1  \n",
       "36                19   1  \n",
       "37                19   2  \n",
       "38                18   3  \n",
       "39                18   1  \n",
       "40                17   1  \n",
       "41                17   2  \n",
       "42                17   1  \n",
       "43                16   2  \n",
       "44                16   2  \n",
       "45                15   3  \n",
       "46                14   3  \n",
       "47                12   3  \n",
       "48                12   1  \n",
       "49                12   1  "
      ]
     },
     "execution_count": 170,
     "metadata": {},
     "output_type": "execute_result"
    }
   ],
   "source": [
    "# finding hotspots, the top 3 locations per vendor\n",
    "sqldf('''\n",
    "      select vendor, country,count_deliveries,rn\n",
    "      from (\n",
    "      select vendor, country,count_deliveries,\n",
    "        ROW_NUMBER() OVER (PARTITION BY vendor ORDER BY count_deliveries DESC) as rn\n",
    "      from (\n",
    "      select \n",
    "        vendor,country,\n",
    "        count(delivered_to_client_date) as count_deliveries\n",
    "      from data\n",
    "      group by vendor,country))\n",
    "      where rn <= 3 and count_deliveries > 10\n",
    "      order by count_deliveries desc\n",
    "      ''')"
   ]
  },
  {
   "cell_type": "code",
   "execution_count": 174,
   "metadata": {},
   "outputs": [
    {
     "data": {
      "text/html": [
       "<div>\n",
       "<style scoped>\n",
       "    .dataframe tbody tr th:only-of-type {\n",
       "        vertical-align: middle;\n",
       "    }\n",
       "\n",
       "    .dataframe tbody tr th {\n",
       "        vertical-align: top;\n",
       "    }\n",
       "\n",
       "    .dataframe thead th {\n",
       "        text-align: right;\n",
       "    }\n",
       "</style>\n",
       "<table border=\"1\" class=\"dataframe\">\n",
       "  <thead>\n",
       "    <tr style=\"text-align: right;\">\n",
       "      <th></th>\n",
       "      <th>manufacturing_site</th>\n",
       "      <th>count_mfg</th>\n",
       "    </tr>\n",
       "  </thead>\n",
       "  <tbody>\n",
       "    <tr>\n",
       "      <th>0</th>\n",
       "      <td>Aurobindo Unit III, India</td>\n",
       "      <td>3172</td>\n",
       "    </tr>\n",
       "    <tr>\n",
       "      <th>1</th>\n",
       "      <td>Mylan (formerly Matrix) Nashik</td>\n",
       "      <td>1415</td>\n",
       "    </tr>\n",
       "    <tr>\n",
       "      <th>2</th>\n",
       "      <td>Hetero Unit III Hyderabad IN</td>\n",
       "      <td>869</td>\n",
       "    </tr>\n",
       "    <tr>\n",
       "      <th>3</th>\n",
       "      <td>Cipla, Goa, India</td>\n",
       "      <td>665</td>\n",
       "    </tr>\n",
       "    <tr>\n",
       "      <th>4</th>\n",
       "      <td>Strides, Bangalore, India.</td>\n",
       "      <td>540</td>\n",
       "    </tr>\n",
       "    <tr>\n",
       "      <th>5</th>\n",
       "      <td>Alere Medical Co., Ltd.</td>\n",
       "      <td>481</td>\n",
       "    </tr>\n",
       "    <tr>\n",
       "      <th>6</th>\n",
       "      <td>Trinity Biotech, Plc</td>\n",
       "      <td>405</td>\n",
       "    </tr>\n",
       "    <tr>\n",
       "      <th>7</th>\n",
       "      <td>ABBVIE Ludwigshafen Germany</td>\n",
       "      <td>366</td>\n",
       "    </tr>\n",
       "    <tr>\n",
       "      <th>8</th>\n",
       "      <td>Inverness Japan</td>\n",
       "      <td>345</td>\n",
       "    </tr>\n",
       "    <tr>\n",
       "      <th>9</th>\n",
       "      <td>ABBVIE (Abbott) Logis. UK</td>\n",
       "      <td>219</td>\n",
       "    </tr>\n",
       "  </tbody>\n",
       "</table>\n",
       "</div>"
      ],
      "text/plain": [
       "               manufacturing_site  count_mfg\n",
       "0       Aurobindo Unit III, India       3172\n",
       "1  Mylan (formerly Matrix) Nashik       1415\n",
       "2    Hetero Unit III Hyderabad IN        869\n",
       "3               Cipla, Goa, India        665\n",
       "4      Strides, Bangalore, India.        540\n",
       "5         Alere Medical Co., Ltd.        481\n",
       "6            Trinity Biotech, Plc        405\n",
       "7     ABBVIE Ludwigshafen Germany        366\n",
       "8                 Inverness Japan        345\n",
       "9       ABBVIE (Abbott) Logis. UK        219"
      ]
     },
     "execution_count": 174,
     "metadata": {},
     "output_type": "execute_result"
    }
   ],
   "source": [
    "# where most products are being produced (mfg sites)\n",
    "sqldf('''\n",
    "      select manufacturing_site,count(*) as count_mfg from data\n",
    "      group by manufacturing_site\n",
    "      order by count_mfg desc\n",
    "      limit 10\n",
    "      ''')"
   ]
  },
  {
   "cell_type": "code",
   "execution_count": 183,
   "metadata": {},
   "outputs": [
    {
     "data": {
      "text/html": [
       "<div>\n",
       "<style scoped>\n",
       "    .dataframe tbody tr th:only-of-type {\n",
       "        vertical-align: middle;\n",
       "    }\n",
       "\n",
       "    .dataframe tbody tr th {\n",
       "        vertical-align: top;\n",
       "    }\n",
       "\n",
       "    .dataframe thead th {\n",
       "        text-align: right;\n",
       "    }\n",
       "</style>\n",
       "<table border=\"1\" class=\"dataframe\">\n",
       "  <thead>\n",
       "    <tr style=\"text-align: right;\">\n",
       "      <th></th>\n",
       "      <th>manufacturing_site</th>\n",
       "      <th>product_group</th>\n",
       "      <th>count_product_group</th>\n",
       "      <th>rn</th>\n",
       "    </tr>\n",
       "  </thead>\n",
       "  <tbody>\n",
       "    <tr>\n",
       "      <th>0</th>\n",
       "      <td>Aurobindo Unit III, India</td>\n",
       "      <td>ARV</td>\n",
       "      <td>3172</td>\n",
       "      <td>1</td>\n",
       "    </tr>\n",
       "    <tr>\n",
       "      <th>1</th>\n",
       "      <td>Mylan (formerly Matrix) Nashik</td>\n",
       "      <td>ARV</td>\n",
       "      <td>1415</td>\n",
       "      <td>1</td>\n",
       "    </tr>\n",
       "    <tr>\n",
       "      <th>2</th>\n",
       "      <td>Hetero Unit III Hyderabad IN</td>\n",
       "      <td>ARV</td>\n",
       "      <td>869</td>\n",
       "      <td>1</td>\n",
       "    </tr>\n",
       "    <tr>\n",
       "      <th>3</th>\n",
       "      <td>Cipla, Goa, India</td>\n",
       "      <td>ARV</td>\n",
       "      <td>665</td>\n",
       "      <td>1</td>\n",
       "    </tr>\n",
       "    <tr>\n",
       "      <th>4</th>\n",
       "      <td>Strides, Bangalore, India.</td>\n",
       "      <td>ARV</td>\n",
       "      <td>540</td>\n",
       "      <td>1</td>\n",
       "    </tr>\n",
       "    <tr>\n",
       "      <th>...</th>\n",
       "      <td>...</td>\n",
       "      <td>...</td>\n",
       "      <td>...</td>\n",
       "      <td>...</td>\n",
       "    </tr>\n",
       "    <tr>\n",
       "      <th>83</th>\n",
       "      <td>Mepro Pharm Wadhwan Unit II</td>\n",
       "      <td>ANTM</td>\n",
       "      <td>1</td>\n",
       "      <td>1</td>\n",
       "    </tr>\n",
       "    <tr>\n",
       "      <th>84</th>\n",
       "      <td>OMEGA Diagnostics, UK</td>\n",
       "      <td>HRDT</td>\n",
       "      <td>1</td>\n",
       "      <td>1</td>\n",
       "    </tr>\n",
       "    <tr>\n",
       "      <th>85</th>\n",
       "      <td>Premier Medical Corporation</td>\n",
       "      <td>MRDT</td>\n",
       "      <td>1</td>\n",
       "      <td>1</td>\n",
       "    </tr>\n",
       "    <tr>\n",
       "      <th>86</th>\n",
       "      <td>Remedica, Limassol, Cyprus</td>\n",
       "      <td>ANTM</td>\n",
       "      <td>1</td>\n",
       "      <td>1</td>\n",
       "    </tr>\n",
       "    <tr>\n",
       "      <th>87</th>\n",
       "      <td>Weifa A.S., Hausmanngt. 6, P.O. Box 9113 GrÃ¸n...</td>\n",
       "      <td>ANTM</td>\n",
       "      <td>1</td>\n",
       "      <td>1</td>\n",
       "    </tr>\n",
       "  </tbody>\n",
       "</table>\n",
       "<p>88 rows × 4 columns</p>\n",
       "</div>"
      ],
      "text/plain": [
       "                                   manufacturing_site product_group  \\\n",
       "0                           Aurobindo Unit III, India           ARV   \n",
       "1                      Mylan (formerly Matrix) Nashik           ARV   \n",
       "2                        Hetero Unit III Hyderabad IN           ARV   \n",
       "3                                   Cipla, Goa, India           ARV   \n",
       "4                          Strides, Bangalore, India.           ARV   \n",
       "..                                                ...           ...   \n",
       "83                        Mepro Pharm Wadhwan Unit II          ANTM   \n",
       "84                              OMEGA Diagnostics, UK          HRDT   \n",
       "85                        Premier Medical Corporation          MRDT   \n",
       "86                         Remedica, Limassol, Cyprus          ANTM   \n",
       "87  Weifa A.S., Hausmanngt. 6, P.O. Box 9113 GrÃ¸n...          ANTM   \n",
       "\n",
       "    count_product_group  rn  \n",
       "0                  3172   1  \n",
       "1                  1415   1  \n",
       "2                   869   1  \n",
       "3                   665   1  \n",
       "4                   540   1  \n",
       "..                  ...  ..  \n",
       "83                    1   1  \n",
       "84                    1   1  \n",
       "85                    1   1  \n",
       "86                    1   1  \n",
       "87                    1   1  \n",
       "\n",
       "[88 rows x 4 columns]"
      ]
     },
     "execution_count": 183,
     "metadata": {},
     "output_type": "execute_result"
    }
   ],
   "source": [
    "# most popular products per mfg site\n",
    "sqldf('''\n",
    "      select manufacturing_site,product_group,count_product_group,rn\n",
    "      from (\n",
    "      select manufacturing_site,product_group,count_product_group,\n",
    "        ROW_NUMBER() OVER (PARTITION BY manufacturing_site ORDER BY count_product_group DESC) as rn\n",
    "      from (\n",
    "      select \n",
    "        manufacturing_site,product_group,\n",
    "        count(product_group) as count_product_group\n",
    "      from data\n",
    "      group by manufacturing_site))\n",
    "      where rn <= 3\n",
    "      order by count_product_group desc\n",
    "      ''')"
   ]
  },
  {
   "cell_type": "code",
   "execution_count": 191,
   "metadata": {},
   "outputs": [
    {
     "data": {
      "text/html": [
       "<div>\n",
       "<style scoped>\n",
       "    .dataframe tbody tr th:only-of-type {\n",
       "        vertical-align: middle;\n",
       "    }\n",
       "\n",
       "    .dataframe tbody tr th {\n",
       "        vertical-align: top;\n",
       "    }\n",
       "\n",
       "    .dataframe thead th {\n",
       "        text-align: right;\n",
       "    }\n",
       "</style>\n",
       "<table border=\"1\" class=\"dataframe\">\n",
       "  <thead>\n",
       "    <tr style=\"text-align: right;\">\n",
       "      <th></th>\n",
       "      <th>manufacturing_site</th>\n",
       "      <th>count_vendor</th>\n",
       "    </tr>\n",
       "  </thead>\n",
       "  <tbody>\n",
       "    <tr>\n",
       "      <th>0</th>\n",
       "      <td>Alere Medical Co., Ltd.</td>\n",
       "      <td>7</td>\n",
       "    </tr>\n",
       "    <tr>\n",
       "      <th>1</th>\n",
       "      <td>ABBVIE Ludwigshafen Germany</td>\n",
       "      <td>7</td>\n",
       "    </tr>\n",
       "    <tr>\n",
       "      <th>2</th>\n",
       "      <td>ABBVIE (Abbott) Logis. UK</td>\n",
       "      <td>7</td>\n",
       "    </tr>\n",
       "    <tr>\n",
       "      <th>3</th>\n",
       "      <td>Inverness Japan</td>\n",
       "      <td>6</td>\n",
       "    </tr>\n",
       "    <tr>\n",
       "      <th>4</th>\n",
       "      <td>Aurobindo Unit III, India</td>\n",
       "      <td>6</td>\n",
       "    </tr>\n",
       "    <tr>\n",
       "      <th>...</th>\n",
       "      <td>...</td>\n",
       "      <td>...</td>\n",
       "    </tr>\n",
       "    <tr>\n",
       "      <th>83</th>\n",
       "      <td>Boehringer Ing., Koropi, GR</td>\n",
       "      <td>1</td>\n",
       "    </tr>\n",
       "    <tr>\n",
       "      <th>84</th>\n",
       "      <td>BUNDI INTERNATIONAL DIAGNOSTICS LTD</td>\n",
       "      <td>1</td>\n",
       "    </tr>\n",
       "    <tr>\n",
       "      <th>85</th>\n",
       "      <td>Access BIO, L.C.</td>\n",
       "      <td>1</td>\n",
       "    </tr>\n",
       "    <tr>\n",
       "      <th>86</th>\n",
       "      <td>ABBVIE Labs North Chicago US</td>\n",
       "      <td>1</td>\n",
       "    </tr>\n",
       "    <tr>\n",
       "      <th>87</th>\n",
       "      <td>ABBSP</td>\n",
       "      <td>1</td>\n",
       "    </tr>\n",
       "  </tbody>\n",
       "</table>\n",
       "<p>88 rows × 2 columns</p>\n",
       "</div>"
      ],
      "text/plain": [
       "                     manufacturing_site  count_vendor\n",
       "0               Alere Medical Co., Ltd.             7\n",
       "1           ABBVIE Ludwigshafen Germany             7\n",
       "2             ABBVIE (Abbott) Logis. UK             7\n",
       "3                       Inverness Japan             6\n",
       "4             Aurobindo Unit III, India             6\n",
       "..                                  ...           ...\n",
       "83          Boehringer Ing., Koropi, GR             1\n",
       "84  BUNDI INTERNATIONAL DIAGNOSTICS LTD             1\n",
       "85                     Access BIO, L.C.             1\n",
       "86         ABBVIE Labs North Chicago US             1\n",
       "87                                ABBSP             1\n",
       "\n",
       "[88 rows x 2 columns]"
      ]
     },
     "execution_count": 191,
     "metadata": {},
     "output_type": "execute_result"
    }
   ],
   "source": [
    "# most popular products per mfg site\n",
    "sqldf('''\n",
    "      select \n",
    "        manufacturing_site,\n",
    "        count(distinct vendor) as count_vendor\n",
    "      from data\n",
    "      group by manufacturing_site\n",
    "      order by count_vendor desc\n",
    "      ''')"
   ]
  },
  {
   "cell_type": "code",
   "execution_count": 195,
   "metadata": {},
   "outputs": [
    {
     "data": {
      "text/html": [
       "<div>\n",
       "<style scoped>\n",
       "    .dataframe tbody tr th:only-of-type {\n",
       "        vertical-align: middle;\n",
       "    }\n",
       "\n",
       "    .dataframe tbody tr th {\n",
       "        vertical-align: top;\n",
       "    }\n",
       "\n",
       "    .dataframe thead th {\n",
       "        text-align: right;\n",
       "    }\n",
       "</style>\n",
       "<table border=\"1\" class=\"dataframe\">\n",
       "  <thead>\n",
       "    <tr style=\"text-align: right;\">\n",
       "      <th></th>\n",
       "      <th>manufacturing_site</th>\n",
       "      <th>brand</th>\n",
       "      <th>count_brands</th>\n",
       "    </tr>\n",
       "  </thead>\n",
       "  <tbody>\n",
       "    <tr>\n",
       "      <th>0</th>\n",
       "      <td>Aurobindo Unit III, India</td>\n",
       "      <td>Generic</td>\n",
       "      <td>3172</td>\n",
       "    </tr>\n",
       "    <tr>\n",
       "      <th>1</th>\n",
       "      <td>Mylan (formerly Matrix) Nashik</td>\n",
       "      <td>Generic</td>\n",
       "      <td>1415</td>\n",
       "    </tr>\n",
       "    <tr>\n",
       "      <th>2</th>\n",
       "      <td>Hetero Unit III Hyderabad IN</td>\n",
       "      <td>Generic</td>\n",
       "      <td>869</td>\n",
       "    </tr>\n",
       "    <tr>\n",
       "      <th>3</th>\n",
       "      <td>Cipla, Goa, India</td>\n",
       "      <td>Generic</td>\n",
       "      <td>665</td>\n",
       "    </tr>\n",
       "    <tr>\n",
       "      <th>4</th>\n",
       "      <td>Strides, Bangalore, India.</td>\n",
       "      <td>Generic</td>\n",
       "      <td>540</td>\n",
       "    </tr>\n",
       "    <tr>\n",
       "      <th>...</th>\n",
       "      <td>...</td>\n",
       "      <td>...</td>\n",
       "      <td>...</td>\n",
       "    </tr>\n",
       "    <tr>\n",
       "      <th>125</th>\n",
       "      <td>Premier Medical Corporation</td>\n",
       "      <td>Generic</td>\n",
       "      <td>1</td>\n",
       "    </tr>\n",
       "    <tr>\n",
       "      <th>126</th>\n",
       "      <td>Remedica, Limassol, Cyprus</td>\n",
       "      <td>Generic</td>\n",
       "      <td>1</td>\n",
       "    </tr>\n",
       "    <tr>\n",
       "      <th>127</th>\n",
       "      <td>Roche Basel</td>\n",
       "      <td>Viracept</td>\n",
       "      <td>1</td>\n",
       "    </tr>\n",
       "    <tr>\n",
       "      <th>128</th>\n",
       "      <td>Standard Diagnostics, Korea</td>\n",
       "      <td>Generic</td>\n",
       "      <td>1</td>\n",
       "    </tr>\n",
       "    <tr>\n",
       "      <th>129</th>\n",
       "      <td>Weifa A.S., Hausmanngt. 6, P.O. Box 9113 GrÃ¸n...</td>\n",
       "      <td>Generic</td>\n",
       "      <td>1</td>\n",
       "    </tr>\n",
       "  </tbody>\n",
       "</table>\n",
       "<p>130 rows × 3 columns</p>\n",
       "</div>"
      ],
      "text/plain": [
       "                                    manufacturing_site     brand  count_brands\n",
       "0                            Aurobindo Unit III, India   Generic          3172\n",
       "1                       Mylan (formerly Matrix) Nashik   Generic          1415\n",
       "2                         Hetero Unit III Hyderabad IN   Generic           869\n",
       "3                                    Cipla, Goa, India   Generic           665\n",
       "4                           Strides, Bangalore, India.   Generic           540\n",
       "..                                                 ...       ...           ...\n",
       "125                        Premier Medical Corporation   Generic             1\n",
       "126                         Remedica, Limassol, Cyprus   Generic             1\n",
       "127                                        Roche Basel  Viracept             1\n",
       "128                        Standard Diagnostics, Korea   Generic             1\n",
       "129  Weifa A.S., Hausmanngt. 6, P.O. Box 9113 GrÃ¸n...   Generic             1\n",
       "\n",
       "[130 rows x 3 columns]"
      ]
     },
     "execution_count": 195,
     "metadata": {},
     "output_type": "execute_result"
    }
   ],
   "source": [
    "# most popular products per mfg site\n",
    "sqldf('''\n",
    "      select \n",
    "        manufacturing_site,brand,count(*) as count_brands\n",
    "      from data\n",
    "      group by manufacturing_site,brand\n",
    "      order by count_brands desc\n",
    "      ''')"
   ]
  },
  {
   "cell_type": "code",
   "execution_count": 242,
   "metadata": {},
   "outputs": [
    {
     "data": {
      "text/plain": [
       "<Axes: xlabel='brand', ylabel='avg_unit_price'>"
      ]
     },
     "execution_count": 242,
     "metadata": {},
     "output_type": "execute_result"
    },
    {
     "data": {
      "image/png": "[encoded data removed]",
      "text/plain": [
       "<Figure size 1200x600 with 1 Axes>"
      ]
     },
     "metadata": {},
     "output_type": "display_data"
    }
   ],
   "source": [
    "# most popular products per mfg site\n",
    "sns.barplot(\n",
    "  x='brand',\n",
    "  y='avg_unit_price',\n",
    "  hue='dosage_form',\n",
    "  \n",
    "  data = sqldf('''\n",
    "      select \n",
    "        brand,\n",
    "        dosage_form,\n",
    "        count(*) as count_brands,\n",
    "        avg(unit_price) as avg_unit_price\n",
    "      from data\n",
    "      group by brand,dosage_form\n",
    "      order by count_brands desc\n",
    "      limit 10\n",
    "      ''').drop('count_brands',axis=1)\n",
    "  )"
   ]
  },
  {
   "cell_type": "markdown",
   "metadata": {},
   "source": [
    "## Visualizations"
   ]
  },
  {
   "cell_type": "code",
   "execution_count": 28,
   "metadata": {},
   "outputs": [
    {
     "data": {
      "application/vnd.plotly.v1+json": {
       "config": {
        "plotlyServerURL": "https://plot.ly"
       },
       "data": [
        {
         "colorscale": [
          [
           0,
           "rgb(247,252,245)"
          ],
          [
           0.125,
           "rgb(229,245,224)"
          ],
          [
           0.25,
           "rgb(199,233,192)"
          ],
          [
           0.375,
           "rgb(161,217,155)"
          ],
          [
           0.5,
           "rgb(116,196,118)"
          ],
          [
           0.625,
           "rgb(65,171,93)"
          ],
          [
           0.75,
           "rgb(35,139,69)"
          ],
          [
           0.875,
           "rgb(0,109,44)"
          ],
          [
           1,
           "rgb(0,68,27)"
          ]
         ],
         "customdata": [
          [
           "2006-01-01",
           "y"
          ],
          [
           "2006-01-02",
           "y"
          ],
          [
           "2006-01-03",
           "y"
          ],
          [
           "2006-01-04",
           "y"
          ],
          [
           "2006-01-05",
           "y"
          ],
          [
           "2006-01-06",
           "y"
          ],
          [
           "2006-01-07",
           "y"
          ],
          [
           "2006-01-08",
           "y"
          ],
          [
           "2006-01-09",
           "y"
          ],
          [
           "2006-01-10",
           "y"
          ],
          [
           "2006-01-11",
           "y"
          ],
          [
           "2006-01-12",
           "y"
          ],
          [
           "2006-01-13",
           "y"
          ],
          [
           "2006-01-14",
           "y"
          ],
          [
           "2006-01-15",
           "y"
          ],
          [
           "2006-01-16",
           "y"
          ],
          [
           "2006-01-17",
           "y"
          ],
          [
           "2006-01-18",
           "y"
          ],
          [
           "2006-01-19",
           "y"
          ],
          [
           "2006-01-20",
           "y"
          ],
          [
           "2006-01-21",
           "y"
          ],
          [
           "2006-01-22",
           "y"
          ],
          [
           "2006-01-23",
           "y"
          ],
          [
           "2006-01-24",
           "y"
          ],
          [
           "2006-01-25",
           "y"
          ],
          [
           "2006-01-26",
           "y"
          ],
          [
           "2006-01-27",
           "y"
          ],
          [
           "2006-01-28",
           "y"
          ],
          [
           "2006-01-29",
           "y"
          ],
          [
           "2006-01-30",
           "y"
          ],
          [
           "2006-01-31",
           "y"
          ],
          [
           "2006-02-01",
           "y"
          ],
          [
           "2006-02-02",
           "y"
          ],
          [
           "2006-02-03",
           "y"
          ],
          [
           "2006-02-04",
           "y"
          ],
          [
           "2006-02-05",
           "y"
          ],
          [
           "2006-02-06",
           "y"
          ],
          [
           "2006-02-07",
           "y"
          ],
          [
           "2006-02-08",
           "y"
          ],
          [
           "2006-02-09",
           "y"
          ],
          [
           "2006-02-10",
           "y"
          ],
          [
           "2006-02-11",
           "y"
          ],
          [
           "2006-02-12",
           "y"
          ],
          [
           "2006-02-13",
           "y"
          ],
          [
           "2006-02-14",
           "y"
          ],
          [
           "2006-02-15",
           "y"
          ],
          [
           "2006-02-16",
           "y"
          ],
          [
           "2006-02-17",
           "y"
          ],
          [
           "2006-02-18",
           "y"
          ],
          [
           "2006-02-19",
           "y"
          ],
          [
           "2006-02-20",
           "y"
          ],
          [
           "2006-02-21",
           "y"
          ],
          [
           "2006-02-22",
           "y"
          ],
          [
           "2006-02-23",
           "y"
          ],
          [
           "2006-02-24",
           "y"
          ],
          [
           "2006-02-25",
           "y"
          ],
          [
           "2006-02-26",
           "y"
          ],
          [
           "2006-02-27",
           "y"
          ],
          [
           "2006-02-28",
           "y"
          ],
          [
           "2006-03-01",
           "y"
          ],
          [
           "2006-03-02",
           "y"
          ],
          [
           "2006-03-03",
           "y"
          ],
          [
           "2006-03-04",
           "y"
          ],
          [
           "2006-03-05",
           "y"
          ],
          [
           "2006-03-06",
           "y"
          ],
          [
           "2006-03-07",
           "y"
          ],
          [
           "2006-03-08",
           "y"
          ],
          [
           "2006-03-09",
           "y"
          ],
          [
           "2006-03-10",
           "y"
          ],
          [
           "2006-03-11",
           "y"
          ],
          [
           "2006-03-12",
           "y"
          ],
          [
           "2006-03-13",
           "y"
          ],
          [
           "2006-03-14",
           "y"
          ],
          [
           "2006-03-15",
           "y"
          ],
          [
           "2006-03-16",
           "y"
          ],
          [
           "2006-03-17",
           "y"
          ],
          [
           "2006-03-18",
           "y"
          ],
          [
           "2006-03-19",
           "y"
          ],
          [
           "2006-03-20",
           "y"
          ],
          [
           "2006-03-21",
           "y"
          ],
          [
           "2006-03-22",
           "y"
          ],
          [
           "2006-03-23",
           "y"
          ],
          [
           "2006-03-24",
           "y"
          ],
          [
           "2006-03-25",
           "y"
          ],
          [
           "2006-03-26",
           "y"
          ],
          [
           "2006-03-27",
           "y"
          ],
          [
           "2006-03-28",
           "y"
          ],
          [
           "2006-03-29",
           "y"
          ],
          [
           "2006-03-30",
           "y"
          ],
          [
           "2006-03-31",
           "y"
          ],
          [
           "2006-04-01",
           "y"
          ],
          [
           "2006-04-02",
           "y"
          ],
          [
           "2006-04-03",
           "y"
          ],
          [
           "2006-04-04",
           "y"
          ],
          [
           "2006-04-05",
           "y"
          ],
          [
           "2006-04-06",
           "y"
          ],
          [
           "2006-04-07",
           "y"
          ],
          [
           "2006-04-08",
           "y"
          ],
          [
           "2006-04-09",
           "y"
          ],
          [
           "2006-04-10",
           "y"
          ],
          [
           "2006-04-11",
           "y"
          ],
          [
           "2006-04-12",
           "y"
          ],
          [
           "2006-04-13",
           "y"
          ],
          [
           "2006-04-14",
           "y"
          ],
          [
           "2006-04-15",
           "y"
          ],
          [
           "2006-04-16",
           "y"
          ],
          [
           "2006-04-17",
           "y"
          ],
          [
           "2006-04-18",
           "y"
          ],
          [
           "2006-04-19",
           "y"
          ],
          [
           "2006-04-20",
           "y"
          ],
          [
           "2006-04-21",
           "y"
          ],
          [
           "2006-04-22",
           "y"
          ],
          [
           "2006-04-23",
           "y"
          ],
          [
           "2006-04-24",
           "y"
          ],
          [
           "2006-04-25",
           "y"
          ],
          [
           "2006-04-26",
           "y"
          ],
          [
           "2006-04-27",
           "y"
          ],
          [
           "2006-04-28",
           "y"
          ],
          [
           "2006-04-29",
           "y"
          ],
          [
           "2006-04-30",
           "y"
          ],
          [
           "2006-05-01",
           "y"
          ],
          [
           "2006-05-02",
           "y"
          ],
          [
           "2006-05-03",
           "y"
          ],
          [
           "2006-05-04",
           "y"
          ],
          [
           "2006-05-05",
           "y"
          ],
          [
           "2006-05-06",
           "y"
          ],
          [
           "2006-05-07",
           "y"
          ],
          [
           "2006-05-08",
           "y"
          ],
          [
           "2006-05-09",
           "y"
          ],
          [
           "2006-05-10",
           "y"
          ],
          [
           "2006-05-11",
           "y"
          ],
          [
           "2006-05-12",
           "y"
          ],
          [
           "2006-05-13",
           "y"
          ],
          [
           "2006-05-14",
           "y"
          ],
          [
           "2006-05-15",
           "y"
          ],
          [
           "2006-05-16",
           "y"
          ],
          [
           "2006-05-17",
           "y"
          ],
          [
           "2006-05-18",
           "y"
          ],
          [
           "2006-05-19",
           "y"
          ],
          [
           "2006-05-20",
           "y"
          ],
          [
           "2006-05-21",
           "y"
          ],
          [
           "2006-05-22",
           "y"
          ],
          [
           "2006-05-23",
           "y"
          ],
          [
           "2006-05-24",
           "y"
          ],
          [
           "2006-05-25",
           "y"
          ],
          [
           "2006-05-26",
           "y"
          ],
          [
           "2006-05-27",
           "y"
          ],
          [
           "2006-05-28",
           "y"
          ],
          [
           "2006-05-29",
           "y"
          ],
          [
           "2006-05-30",
           "y"
          ],
          [
           "2006-05-31",
           "y"
          ],
          [
           "2006-06-01",
           "y"
          ],
          [
           "2006-06-02",
           "y"
          ],
          [
           "2006-06-03",
           "y"
          ],
          [
           "2006-06-04",
           "y"
          ],
          [
           "2006-06-05",
           "y"
          ],
          [
           "2006-06-06",
           "y"
          ],
          [
           "2006-06-07",
           "y"
          ],
          [
           "2006-06-08",
           "y"
          ],
          [
           "2006-06-09",
           "y"
          ],
          [
           "2006-06-10",
           "y"
          ],
          [
           "2006-06-11",
           "y"
          ],
          [
           "2006-06-12",
           "y"
          ],
          [
           "2006-06-13",
           "y"
          ],
          [
           "2006-06-14",
           "y"
          ],
          [
           "2006-06-15",
           "y"
          ],
          [
           "2006-06-16",
           "y"
          ],
          [
           "2006-06-17",
           "y"
          ],
          [
           "2006-06-18",
           "y"
          ],
          [
           "2006-06-19",
           "y"
          ],
          [
           "2006-06-20",
           "y"
          ],
          [
           "2006-06-21",
           "y"
          ],
          [
           "2006-06-22",
           "y"
          ],
          [
           "2006-06-23",
           "y"
          ],
          [
           "2006-06-24",
           "y"
          ],
          [
           "2006-06-25",
           "y"
          ],
          [
           "2006-06-26",
           "y"
          ],
          [
           "2006-06-27",
           "y"
          ],
          [
           "2006-06-28",
           "y"
          ],
          [
           "2006-06-29",
           "y"
          ],
          [
           "2006-06-30",
           "y"
          ],
          [
           "2006-07-01",
           "y"
          ],
          [
           "2006-07-02",
           "y"
          ],
          [
           "2006-07-03",
           "y"
          ],
          [
           "2006-07-04",
           "y"
          ],
          [
           "2006-07-05",
           "y"
          ],
          [
           "2006-07-06",
           "y"
          ],
          [
           "2006-07-07",
           "y"
          ],
          [
           "2006-07-08",
           "y"
          ],
          [
           "2006-07-09",
           "y"
          ],
          [
           "2006-07-10",
           "y"
          ],
          [
           "2006-07-11",
           "y"
          ],
          [
           "2006-07-12",
           "y"
          ],
          [
           "2006-07-13",
           "y"
          ],
          [
           "2006-07-14",
           "y"
          ],
          [
           "2006-07-15",
           "y"
          ],
          [
           "2006-07-16",
           "y"
          ],
          [
           "2006-07-17",
           "y"
          ],
          [
           "2006-07-18",
           "y"
          ],
          [
           "2006-07-19",
           "y"
          ],
          [
           "2006-07-20",
           "y"
          ],
          [
           "2006-07-21",
           "y"
          ],
          [
           "2006-07-22",
           "y"
          ],
          [
           "2006-07-23",
           "y"
          ],
          [
           "2006-07-24",
           "y"
          ],
          [
           "2006-07-25",
           "y"
          ],
          [
           "2006-07-26",
           "y"
          ],
          [
           "2006-07-27",
           "y"
          ],
          [
           "2006-07-28",
           "y"
          ],
          [
           "2006-07-29",
           "y"
          ],
          [
           "2006-07-30",
           "y"
          ],
          [
           "2006-07-31",
           "y"
          ],
          [
           "2006-08-01",
           "y"
          ],
          [
           "2006-08-02",
           "y"
          ],
          [
           "2006-08-03",
           "y"
          ],
          [
           "2006-08-04",
           "y"
          ],
          [
           "2006-08-05",
           "y"
          ],
          [
           "2006-08-06",
           "y"
          ],
          [
           "2006-08-07",
           "y"
          ],
          [
           "2006-08-08",
           "y"
          ],
          [
           "2006-08-09",
           "y"
          ],
          [
           "2006-08-10",
           "y"
          ],
          [
           "2006-08-11",
           "y"
          ],
          [
           "2006-08-12",
           "y"
          ],
          [
           "2006-08-13",
           "y"
          ],
          [
           "2006-08-14",
           "y"
          ],
          [
           "2006-08-15",
           "y"
          ],
          [
           "2006-08-16",
           "y"
          ],
          [
           "2006-08-17",
           "y"
          ],
          [
           "2006-08-18",
           "y"
          ],
          [
           "2006-08-19",
           "y"
          ],
          [
           "2006-08-20",
           "y"
          ],
          [
           "2006-08-21",
           "y"
          ],
          [
           "2006-08-22",
           "y"
          ],
          [
           "2006-08-23",
           "y"
          ],
          [
           "2006-08-24",
           "y"
          ],
          [
           "2006-08-25",
           "y"
          ],
          [
           "2006-08-26",
           "y"
          ],
          [
           "2006-08-27",
           "y"
          ],
          [
           "2006-08-28",
           "y"
          ],
          [
           "2006-08-29",
           "y"
          ],
          [
           "2006-08-30",
           "y"
          ],
          [
           "2006-08-31",
           "y"
          ],
          [
           "2006-09-01",
           "y"
          ],
          [
           "2006-09-02",
           "y"
          ],
          [
           "2006-09-03",
           "y"
          ],
          [
           "2006-09-04",
           "y"
          ],
          [
           "2006-09-05",
           "y"
          ],
          [
           "2006-09-06",
           "y"
          ],
          [
           "2006-09-07",
           "y"
          ],
          [
           "2006-09-08",
           "y"
          ],
          [
           "2006-09-09",
           "y"
          ],
          [
           "2006-09-10",
           "y"
          ],
          [
           "2006-09-11",
           "y"
          ],
          [
           "2006-09-12",
           "y"
          ],
          [
           "2006-09-13",
           "y"
          ],
          [
           "2006-09-14",
           "y"
          ],
          [
           "2006-09-15",
           "y"
          ],
          [
           "2006-09-16",
           "y"
          ],
          [
           "2006-09-17",
           "y"
          ],
          [
           "2006-09-18",
           "y"
          ],
          [
           "2006-09-19",
           "y"
          ],
          [
           "2006-09-20",
           "y"
          ],
          [
           "2006-09-21",
           "y"
          ],
          [
           "2006-09-22",
           "y"
          ],
          [
           "2006-09-23",
           "y"
          ],
          [
           "2006-09-24",
           "y"
          ],
          [
           "2006-09-25",
           "y"
          ],
          [
           "2006-09-26",
           "y"
          ],
          [
           "2006-09-27",
           "y"
          ],
          [
           "2006-09-28",
           "y"
          ],
          [
           "2006-09-29",
           "y"
          ],
          [
           "2006-09-30",
           "y"
          ],
          [
           "2006-10-01",
           "y"
          ],
          [
           "2006-10-02",
           "y"
          ],
          [
           "2006-10-03",
           "y"
          ],
          [
           "2006-10-04",
           "y"
          ],
          [
           "2006-10-05",
           "y"
          ],
          [
           "2006-10-06",
           "y"
          ],
          [
           "2006-10-07",
           "y"
          ],
          [
           "2006-10-08",
           "y"
          ],
          [
           "2006-10-09",
           "y"
          ],
          [
           "2006-10-10",
           "y"
          ],
          [
           "2006-10-11",
           "y"
          ],
          [
           "2006-10-12",
           "y"
          ],
          [
           "2006-10-13",
           "y"
          ],
          [
           "2006-10-14",
           "y"
          ],
          [
           "2006-10-15",
           "y"
          ],
          [
           "2006-10-16",
           "y"
          ],
          [
           "2006-10-17",
           "y"
          ],
          [
           "2006-10-18",
           "y"
          ],
          [
           "2006-10-19",
           "y"
          ],
          [
           "2006-10-20",
           "y"
          ],
          [
           "2006-10-21",
           "y"
          ],
          [
           "2006-10-22",
           "y"
          ],
          [
           "2006-10-23",
           "y"
          ],
          [
           "2006-10-24",
           "y"
          ],
          [
           "2006-10-25",
           "y"
          ],
          [
           "2006-10-26",
           "y"
          ],
          [
           "2006-10-27",
           "y"
          ],
          [
           "2006-10-28",
           "y"
          ],
          [
           "2006-10-29",
           "y"
          ],
          [
           "2006-10-30",
           "y"
          ],
          [
           "2006-10-31",
           "y"
          ],
          [
           "2006-11-01",
           "y"
          ],
          [
           "2006-11-02",
           "y"
          ],
          [
           "2006-11-03",
           "y"
          ],
          [
           "2006-11-04",
           "y"
          ],
          [
           "2006-11-05",
           "y"
          ],
          [
           "2006-11-06",
           "y"
          ],
          [
           "2006-11-07",
           "y"
          ],
          [
           "2006-11-08",
           "y"
          ],
          [
           "2006-11-09",
           "y"
          ],
          [
           "2006-11-10",
           "y"
          ],
          [
           "2006-11-11",
           "y"
          ],
          [
           "2006-11-12",
           "y"
          ],
          [
           "2006-11-13",
           "y"
          ],
          [
           "2006-11-14",
           "y"
          ],
          [
           "2006-11-15",
           "y"
          ],
          [
           "2006-11-16",
           "y"
          ],
          [
           "2006-11-17",
           "y"
          ],
          [
           "2006-11-18",
           "y"
          ],
          [
           "2006-11-19",
           "y"
          ],
          [
           "2006-11-20",
           "y"
          ],
          [
           "2006-11-21",
           "y"
          ],
          [
           "2006-11-22",
           "y"
          ],
          [
           "2006-11-23",
           "y"
          ],
          [
           "2006-11-24",
           "y"
          ],
          [
           "2006-11-25",
           "y"
          ],
          [
           "2006-11-26",
           "y"
          ],
          [
           "2006-11-27",
           "y"
          ],
          [
           "2006-11-28",
           "y"
          ],
          [
           "2006-11-29",
           "y"
          ],
          [
           "2006-11-30",
           "y"
          ],
          [
           "2006-12-01",
           "y"
          ],
          [
           "2006-12-02",
           "y"
          ],
          [
           "2006-12-03",
           "y"
          ],
          [
           "2006-12-04",
           "y"
          ],
          [
           "2006-12-05",
           "y"
          ],
          [
           "2006-12-06",
           "y"
          ],
          [
           "2006-12-07",
           "y"
          ],
          [
           "2006-12-08",
           "y"
          ],
          [
           "2006-12-09",
           "y"
          ],
          [
           "2006-12-10",
           "y"
          ],
          [
           "2006-12-11",
           "y"
          ],
          [
           "2006-12-12",
           "y"
          ],
          [
           "2006-12-13",
           "y"
          ],
          [
           "2006-12-14",
           "y"
          ],
          [
           "2006-12-15",
           "y"
          ],
          [
           "2006-12-16",
           "y"
          ],
          [
           "2006-12-17",
           "y"
          ],
          [
           "2006-12-18",
           "y"
          ],
          [
           "2006-12-19",
           "y"
          ],
          [
           "2006-12-20",
           "y"
          ],
          [
           "2006-12-21",
           "y"
          ],
          [
           "2006-12-22",
           "y"
          ],
          [
           "2006-12-23",
           "y"
          ],
          [
           "2006-12-24",
           "y"
          ],
          [
           "2006-12-25",
           "y"
          ],
          [
           "2006-12-26",
           "y"
          ],
          [
           "2006-12-27",
           "y"
          ],
          [
           "2006-12-28",
           "y"
          ],
          [
           "2006-12-29",
           "y"
          ],
          [
           "2006-12-30",
           "y"
          ],
          [
           "2006-12-31",
           "y"
          ]
         ],
         "hovertemplate": "%{customdata[0]} <br>Week=%{x} <br>%{customdata[1]}=%{z}",
         "name": "2006",
         "showscale": false,
         "type": "heatmap",
         "x": [
          0,
          1,
          1,
          1,
          1,
          1,
          1,
          1,
          2,
          2,
          2,
          2,
          2,
          2,
          2,
          3,
          3,
          3,
          3,
          3,
          3,
          3,
          4,
          4,
          4,
          4,
          4,
          4,
          4,
          5,
          5,
          5,
          5,
          5,
          5,
          5,
          6,
          6,
          6,
          6,
          6,
          6,
          6,
          7,
          7,
          7,
          7,
          7,
          7,
          7,
          8,
          8,
          8,
          8,
          8,
          8,
          8,
          9,
          9,
          9,
          9,
          9,
          9,
          9,
          10,
          10,
          10,
          10,
          10,
          10,
          10,
          11,
          11,
          11,
          11,
          11,
          11,
          11,
          12,
          12,
          12,
          12,
          12,
          12,
          12,
          13,
          13,
          13,
          13,
          13,
          13,
          13,
          14,
          14,
          14,
          14,
          14,
          14,
          14,
          15,
          15,
          15,
          15,
          15,
          15,
          15,
          16,
          16,
          16,
          16,
          16,
          16,
          16,
          17,
          17,
          17,
          17,
          17,
          17,
          17,
          18,
          18,
          18,
          18,
          18,
          18,
          18,
          19,
          19,
          19,
          19,
          19,
          19,
          19,
          20,
          20,
          20,
          20,
          20,
          20,
          20,
          21,
          21,
          21,
          21,
          21,
          21,
          21,
          22,
          22,
          22,
          22,
          22,
          22,
          22,
          23,
          23,
          23,
          23,
          23,
          23,
          23,
          24,
          24,
          24,
          24,
          24,
          24,
          24,
          25,
          25,
          25,
          25,
          25,
          25,
          25,
          26,
          26,
          26,
          26,
          26,
          26,
          26,
          27,
          27,
          27,
          27,
          27,
          27,
          27,
          28,
          28,
          28,
          28,
          28,
          28,
          28,
          29,
          29,
          29,
          29,
          29,
          29,
          29,
          30,
          30,
          30,
          30,
          30,
          30,
          30,
          31,
          31,
          31,
          31,
          31,
          31,
          31,
          32,
          32,
          32,
          32,
          32,
          32,
          32,
          33,
          33,
          33,
          33,
          33,
          33,
          33,
          34,
          34,
          34,
          34,
          34,
          34,
          34,
          35,
          35,
          35,
          35,
          35,
          35,
          35,
          36,
          36,
          36,
          36,
          36,
          36,
          36,
          37,
          37,
          37,
          37,
          37,
          37,
          37,
          38,
          38,
          38,
          38,
          38,
          38,
          38,
          39,
          39,
          39,
          39,
          39,
          39,
          39,
          40,
          40,
          40,
          40,
          40,
          40,
          40,
          41,
          41,
          41,
          41,
          41,
          41,
          41,
          42,
          42,
          42,
          42,
          42,
          42,
          42,
          43,
          43,
          43,
          43,
          43,
          43,
          43,
          44,
          44,
          44,
          44,
          44,
          44,
          44,
          45,
          45,
          45,
          45,
          45,
          45,
          45,
          46,
          46,
          46,
          46,
          46,
          46,
          46,
          47,
          47,
          47,
          47,
          47,
          47,
          47,
          48,
          48,
          48,
          48,
          48,
          48,
          48,
          49,
          49,
          49,
          49,
          49,
          49,
          49,
          50,
          50,
          50,
          50,
          50,
          50,
          50,
          51,
          51,
          51,
          51,
          51,
          51,
          51,
          52,
          52,
          52,
          52,
          52,
          52,
          52
         ],
         "xaxis": "x",
         "xgap": 1,
         "y": [
          6,
          0,
          1,
          2,
          3,
          4,
          5,
          6,
          0,
          1,
          2,
          3,
          4,
          5,
          6,
          0,
          1,
          2,
          3,
          4,
          5,
          6,
          0,
          1,
          2,
          3,
          4,
          5,
          6,
          0,
          1,
          2,
          3,
          4,
          5,
          6,
          0,
          1,
          2,
          3,
          4,
          5,
          6,
          0,
          1,
          2,
          3,
          4,
          5,
          6,
          0,
          1,
          2,
          3,
          4,
          5,
          6,
          0,
          1,
          2,
          3,
          4,
          5,
          6,
          0,
          1,
          2,
          3,
          4,
          5,
          6,
          0,
          1,
          2,
          3,
          4,
          5,
          6,
          0,
          1,
          2,
          3,
          4,
          5,
          6,
          0,
          1,
          2,
          3,
          4,
          5,
          6,
          0,
          1,
          2,
          3,
          4,
          5,
          6,
          0,
          1,
          2,
          3,
          4,
          5,
          6,
          0,
          1,
          2,
          3,
          4,
          5,
          6,
          0,
          1,
          2,
          3,
          4,
          5,
          6,
          0,
          1,
          2,
          3,
          4,
          5,
          6,
          0,
          1,
          2,
          3,
          4,
          5,
          6,
          0,
          1,
          2,
          3,
          4,
          5,
          6,
          0,
          1,
          2,
          3,
          4,
          5,
          6,
          0,
          1,
          2,
          3,
          4,
          5,
          6,
          0,
          1,
          2,
          3,
          4,
          5,
          6,
          0,
          1,
          2,
          3,
          4,
          5,
          6,
          0,
          1,
          2,
          3,
          4,
          5,
          6,
          0,
          1,
          2,
          3,
          4,
          5,
          6,
          0,
          1,
          2,
          3,
          4,
          5,
          6,
          0,
          1,
          2,
          3,
          4,
          5,
          6,
          0,
          1,
          2,
          3,
          4,
          5,
          6,
          0,
          1,
          2,
          3,
          4,
          5,
          6,
          0,
          1,
          2,
          3,
          4,
          5,
          6,
          0,
          1,
          2,
          3,
          4,
          5,
          6,
          0,
          1,
          2,
          3,
          4,
          5,
          6,
          0,
          1,
          2,
          3,
          4,
          5,
          6,
          0,
          1,
          2,
          3,
          4,
          5,
          6,
          0,
          1,
          2,
          3,
          4,
          5,
          6,
          0,
          1,
          2,
          3,
          4,
          5,
          6,
          0,
          1,
          2,
          3,
          4,
          5,
          6,
          0,
          1,
          2,
          3,
          4,
          5,
          6,
          0,
          1,
          2,
          3,
          4,
          5,
          6,
          0,
          1,
          2,
          3,
          4,
          5,
          6,
          0,
          1,
          2,
          3,
          4,
          5,
          6,
          0,
          1,
          2,
          3,
          4,
          5,
          6,
          0,
          1,
          2,
          3,
          4,
          5,
          6,
          0,
          1,
          2,
          3,
          4,
          5,
          6,
          0,
          1,
          2,
          3,
          4,
          5,
          6,
          0,
          1,
          2,
          3,
          4,
          5,
          6,
          0,
          1,
          2,
          3,
          4,
          5,
          6,
          0,
          1,
          2,
          3,
          4,
          5,
          6,
          0,
          1,
          2,
          3,
          4,
          5,
          6,
          0,
          1,
          2,
          3,
          4,
          5,
          6,
          0,
          1,
          2,
          3,
          4,
          5,
          6
         ],
         "yaxis": "y",
         "ygap": 1,
         "z": [
          null,
          null,
          null,
          null,
          null,
          null,
          null,
          null,
          null,
          null,
          null,
          null,
          null,
          null,
          null,
          null,
          null,
          null,
          null,
          null,
          null,
          null,
          null,
          null,
          null,
          null,
          null,
          null,
          null,
          null,
          null,
          null,
          null,
          null,
          null,
          null,
          null,
          null,
          null,
          null,
          null,
          null,
          null,
          null,
          null,
          null,
          null,
          null,
          null,
          null,
          null,
          null,
          null,
          null,
          null,
          null,
          null,
          null,
          null,
          null,
          null,
          null,
          null,
          null,
          null,
          null,
          null,
          null,
          null,
          null,
          null,
          null,
          null,
          null,
          null,
          null,
          null,
          null,
          null,
          null,
          null,
          null,
          null,
          null,
          null,
          null,
          null,
          null,
          null,
          null,
          null,
          null,
          null,
          null,
          null,
          null,
          null,
          null,
          null,
          null,
          null,
          null,
          null,
          null,
          null,
          null,
          null,
          null,
          null,
          null,
          null,
          null,
          null,
          null,
          null,
          null,
          null,
          null,
          null,
          null,
          null,
          1,
          null,
          null,
          null,
          null,
          null,
          null,
          null,
          1,
          null,
          null,
          null,
          null,
          null,
          null,
          null,
          null,
          null,
          null,
          null,
          null,
          null,
          null,
          null,
          null,
          null,
          null,
          null,
          null,
          null,
          null,
          1,
          null,
          null,
          null,
          null,
          null,
          null,
          null,
          null,
          null,
          null,
          null,
          null,
          null,
          null,
          null,
          null,
          null,
          null,
          null,
          null,
          null,
          null,
          null,
          null,
          1,
          null,
          null,
          null,
          null,
          null,
          null,
          null,
          null,
          null,
          null,
          null,
          null,
          null,
          null,
          null,
          1,
          1,
          null,
          null,
          null,
          null,
          null,
          null,
          1,
          null,
          null,
          null,
          null,
          null,
          null,
          null,
          null,
          null,
          null,
          null,
          null,
          null,
          null,
          null,
          null,
          null,
          1,
          null,
          null,
          3,
          null,
          null,
          null,
          null,
          null,
          null,
          null,
          null,
          null,
          null,
          null,
          null,
          null,
          null,
          null,
          1,
          1,
          null,
          null,
          null,
          3,
          null,
          1,
          1,
          null,
          3,
          null,
          null,
          null,
          null,
          null,
          null,
          null,
          null,
          3,
          1,
          null,
          null,
          1,
          null,
          null,
          null,
          null,
          null,
          null,
          null,
          null,
          4,
          null,
          1,
          null,
          null,
          1,
          null,
          null,
          null,
          null,
          null,
          1,
          1,
          null,
          null,
          null,
          null,
          null,
          null,
          null,
          1,
          null,
          null,
          null,
          null,
          null,
          null,
          null,
          null,
          1,
          null,
          null,
          null,
          1,
          null,
          null,
          null,
          null,
          null,
          null,
          1,
          1,
          1,
          null,
          null,
          null,
          1,
          2,
          1,
          1,
          null,
          null,
          null,
          1,
          null,
          null,
          null,
          1,
          null,
          null,
          null,
          null,
          null,
          null,
          null,
          null,
          null,
          null,
          1,
          null,
          4,
          null,
          null,
          null,
          null,
          null,
          null,
          null,
          null,
          null,
          1,
          1,
          null,
          3,
          3,
          2,
          null,
          null,
          1,
          null,
          null,
          1,
          1,
          null,
          null
         ],
         "zmax": 4,
         "zmin": 1
        },
        {
         "hoverinfo": "skip",
         "line": {
          "color": "#9e9e9e",
          "width": 1
         },
         "mode": "lines",
         "type": "scatter",
         "x": [
          -0.5,
          -0.5
         ],
         "xaxis": "x",
         "y": [
          5.5,
          6.5
         ],
         "yaxis": "y"
        },
        {
         "hoverinfo": "skip",
         "line": {
          "color": "#9e9e9e",
          "width": 1
         },
         "mode": "lines",
         "type": "scatter",
         "x": [
          -0.5,
          0.5
         ],
         "xaxis": "x",
         "y": [
          5.5,
          5.5
         ],
         "yaxis": "y"
        },
        {
         "hoverinfo": "skip",
         "line": {
          "color": "#9e9e9e",
          "width": 1
         },
         "mode": "lines",
         "type": "scatter",
         "x": [
          0.5,
          0.5
         ],
         "xaxis": "x",
         "y": [
          5.5,
          -0.5
         ],
         "yaxis": "y"
        },
        {
         "hoverinfo": "skip",
         "line": {
          "color": "#9e9e9e",
          "width": 1
         },
         "mode": "lines",
         "type": "scatter",
         "x": [
          4.5,
          4.5
         ],
         "xaxis": "x",
         "y": [
          1.5,
          6.5
         ],
         "yaxis": "y"
        },
        {
         "hoverinfo": "skip",
         "line": {
          "color": "#9e9e9e",
          "width": 1
         },
         "mode": "lines",
         "type": "scatter",
         "x": [
          4.5,
          5.5
         ],
         "xaxis": "x",
         "y": [
          1.5,
          1.5
         ],
         "yaxis": "y"
        },
        {
         "hoverinfo": "skip",
         "line": {
          "color": "#9e9e9e",
          "width": 1
         },
         "mode": "lines",
         "type": "scatter",
         "x": [
          5.5,
          5.5
         ],
         "xaxis": "x",
         "y": [
          1.5,
          -0.5
         ],
         "yaxis": "y"
        },
        {
         "hoverinfo": "skip",
         "line": {
          "color": "#9e9e9e",
          "width": 1
         },
         "mode": "lines",
         "type": "scatter",
         "x": [
          8.5,
          8.5
         ],
         "xaxis": "x",
         "y": [
          1.5,
          6.5
         ],
         "yaxis": "y"
        },
        {
         "hoverinfo": "skip",
         "line": {
          "color": "#9e9e9e",
          "width": 1
         },
         "mode": "lines",
         "type": "scatter",
         "x": [
          8.5,
          9.5
         ],
         "xaxis": "x",
         "y": [
          1.5,
          1.5
         ],
         "yaxis": "y"
        },
        {
         "hoverinfo": "skip",
         "line": {
          "color": "#9e9e9e",
          "width": 1
         },
         "mode": "lines",
         "type": "scatter",
         "x": [
          9.5,
          9.5
         ],
         "xaxis": "x",
         "y": [
          1.5,
          -0.5
         ],
         "yaxis": "y"
        },
        {
         "hoverinfo": "skip",
         "line": {
          "color": "#9e9e9e",
          "width": 1
         },
         "mode": "lines",
         "type": "scatter",
         "x": [
          12.5,
          12.5
         ],
         "xaxis": "x",
         "y": [
          4.5,
          6.5
         ],
         "yaxis": "y"
        },
        {
         "hoverinfo": "skip",
         "line": {
          "color": "#9e9e9e",
          "width": 1
         },
         "mode": "lines",
         "type": "scatter",
         "x": [
          12.5,
          13.5
         ],
         "xaxis": "x",
         "y": [
          4.5,
          4.5
         ],
         "yaxis": "y"
        },
        {
         "hoverinfo": "skip",
         "line": {
          "color": "#9e9e9e",
          "width": 1
         },
         "mode": "lines",
         "type": "scatter",
         "x": [
          13.5,
          13.5
         ],
         "xaxis": "x",
         "y": [
          4.5,
          -0.5
         ],
         "yaxis": "y"
        },
        {
         "hoverinfo": "skip",
         "line": {
          "color": "#9e9e9e",
          "width": 1
         },
         "mode": "lines",
         "type": "scatter",
         "x": [
          17.5,
          17.5
         ],
         "xaxis": "x",
         "y": [
          -0.5,
          6.5
         ],
         "yaxis": "y"
        },
        {
         "hoverinfo": "skip",
         "line": {
          "color": "#9e9e9e",
          "width": 1
         },
         "mode": "lines",
         "type": "scatter",
         "x": [
          21.5,
          21.5
         ],
         "xaxis": "x",
         "y": [
          2.5,
          6.5
         ],
         "yaxis": "y"
        },
        {
         "hoverinfo": "skip",
         "line": {
          "color": "#9e9e9e",
          "width": 1
         },
         "mode": "lines",
         "type": "scatter",
         "x": [
          21.5,
          22.5
         ],
         "xaxis": "x",
         "y": [
          2.5,
          2.5
         ],
         "yaxis": "y"
        },
        {
         "hoverinfo": "skip",
         "line": {
          "color": "#9e9e9e",
          "width": 1
         },
         "mode": "lines",
         "type": "scatter",
         "x": [
          22.5,
          22.5
         ],
         "xaxis": "x",
         "y": [
          2.5,
          -0.5
         ],
         "yaxis": "y"
        },
        {
         "hoverinfo": "skip",
         "line": {
          "color": "#9e9e9e",
          "width": 1
         },
         "mode": "lines",
         "type": "scatter",
         "x": [
          25.5,
          25.5
         ],
         "xaxis": "x",
         "y": [
          4.5,
          6.5
         ],
         "yaxis": "y"
        },
        {
         "hoverinfo": "skip",
         "line": {
          "color": "#9e9e9e",
          "width": 1
         },
         "mode": "lines",
         "type": "scatter",
         "x": [
          25.5,
          26.5
         ],
         "xaxis": "x",
         "y": [
          4.5,
          4.5
         ],
         "yaxis": "y"
        },
        {
         "hoverinfo": "skip",
         "line": {
          "color": "#9e9e9e",
          "width": 1
         },
         "mode": "lines",
         "type": "scatter",
         "x": [
          26.5,
          26.5
         ],
         "xaxis": "x",
         "y": [
          4.5,
          -0.5
         ],
         "yaxis": "y"
        },
        {
         "hoverinfo": "skip",
         "line": {
          "color": "#9e9e9e",
          "width": 1
         },
         "mode": "lines",
         "type": "scatter",
         "x": [
          30.5,
          30.5
         ],
         "xaxis": "x",
         "y": [
          0.5,
          6.5
         ],
         "yaxis": "y"
        },
        {
         "hoverinfo": "skip",
         "line": {
          "color": "#9e9e9e",
          "width": 1
         },
         "mode": "lines",
         "type": "scatter",
         "x": [
          30.5,
          31.5
         ],
         "xaxis": "x",
         "y": [
          0.5,
          0.5
         ],
         "yaxis": "y"
        },
        {
         "hoverinfo": "skip",
         "line": {
          "color": "#9e9e9e",
          "width": 1
         },
         "mode": "lines",
         "type": "scatter",
         "x": [
          31.5,
          31.5
         ],
         "xaxis": "x",
         "y": [
          0.5,
          -0.5
         ],
         "yaxis": "y"
        },
        {
         "hoverinfo": "skip",
         "line": {
          "color": "#9e9e9e",
          "width": 1
         },
         "mode": "lines",
         "type": "scatter",
         "x": [
          34.5,
          34.5
         ],
         "xaxis": "x",
         "y": [
          3.5,
          6.5
         ],
         "yaxis": "y"
        },
        {
         "hoverinfo": "skip",
         "line": {
          "color": "#9e9e9e",
          "width": 1
         },
         "mode": "lines",
         "type": "scatter",
         "x": [
          34.5,
          35.5
         ],
         "xaxis": "x",
         "y": [
          3.5,
          3.5
         ],
         "yaxis": "y"
        },
        {
         "hoverinfo": "skip",
         "line": {
          "color": "#9e9e9e",
          "width": 1
         },
         "mode": "lines",
         "type": "scatter",
         "x": [
          35.5,
          35.5
         ],
         "xaxis": "x",
         "y": [
          3.5,
          -0.5
         ],
         "yaxis": "y"
        },
        {
         "hoverinfo": "skip",
         "line": {
          "color": "#9e9e9e",
          "width": 1
         },
         "mode": "lines",
         "type": "scatter",
         "x": [
          38.5,
          38.5
         ],
         "xaxis": "x",
         "y": [
          5.5,
          6.5
         ],
         "yaxis": "y"
        },
        {
         "hoverinfo": "skip",
         "line": {
          "color": "#9e9e9e",
          "width": 1
         },
         "mode": "lines",
         "type": "scatter",
         "x": [
          38.5,
          39.5
         ],
         "xaxis": "x",
         "y": [
          5.5,
          5.5
         ],
         "yaxis": "y"
        },
        {
         "hoverinfo": "skip",
         "line": {
          "color": "#9e9e9e",
          "width": 1
         },
         "mode": "lines",
         "type": "scatter",
         "x": [
          39.5,
          39.5
         ],
         "xaxis": "x",
         "y": [
          5.5,
          -0.5
         ],
         "yaxis": "y"
        },
        {
         "hoverinfo": "skip",
         "line": {
          "color": "#9e9e9e",
          "width": 1
         },
         "mode": "lines",
         "type": "scatter",
         "x": [
          43.5,
          43.5
         ],
         "xaxis": "x",
         "y": [
          1.5,
          6.5
         ],
         "yaxis": "y"
        },
        {
         "hoverinfo": "skip",
         "line": {
          "color": "#9e9e9e",
          "width": 1
         },
         "mode": "lines",
         "type": "scatter",
         "x": [
          43.5,
          44.5
         ],
         "xaxis": "x",
         "y": [
          1.5,
          1.5
         ],
         "yaxis": "y"
        },
        {
         "hoverinfo": "skip",
         "line": {
          "color": "#9e9e9e",
          "width": 1
         },
         "mode": "lines",
         "type": "scatter",
         "x": [
          44.5,
          44.5
         ],
         "xaxis": "x",
         "y": [
          1.5,
          -0.5
         ],
         "yaxis": "y"
        },
        {
         "hoverinfo": "skip",
         "line": {
          "color": "#9e9e9e",
          "width": 1
         },
         "mode": "lines",
         "type": "scatter",
         "x": [
          47.5,
          47.5
         ],
         "xaxis": "x",
         "y": [
          3.5,
          6.5
         ],
         "yaxis": "y"
        },
        {
         "hoverinfo": "skip",
         "line": {
          "color": "#9e9e9e",
          "width": 1
         },
         "mode": "lines",
         "type": "scatter",
         "x": [
          47.5,
          48.5
         ],
         "xaxis": "x",
         "y": [
          3.5,
          3.5
         ],
         "yaxis": "y"
        },
        {
         "hoverinfo": "skip",
         "line": {
          "color": "#9e9e9e",
          "width": 1
         },
         "mode": "lines",
         "type": "scatter",
         "x": [
          48.5,
          48.5
         ],
         "xaxis": "x",
         "y": [
          3.5,
          -0.5
         ],
         "yaxis": "y"
        }
       ],
       "layout": {
        "annotations": [
         {
          "font": {
           "size": 16
          },
          "showarrow": false,
          "text": "2006",
          "x": 0.5,
          "xanchor": "center",
          "xref": "paper",
          "y": 1,
          "yanchor": "bottom",
          "yref": "paper"
         }
        ],
        "font": {
         "color": "#fff",
         "size": 10
        },
        "height": 150,
        "margin": {
         "b": 20,
         "t": 20
        },
        "paper_bgcolor": "#333",
        "plot_bgcolor": "#333",
        "showlegend": false,
        "template": {
         "data": {
          "bar": [
           {
            "error_x": {
             "color": "#2a3f5f"
            },
            "error_y": {
             "color": "#2a3f5f"
            },
            "marker": {
             "line": {
              "color": "#E5ECF6",
              "width": 0.5
             },
             "pattern": {
              "fillmode": "overlay",
              "size": 10,
              "solidity": 0.2
             }
            },
            "type": "bar"
           }
          ],
          "barpolar": [
           {
            "marker": {
             "line": {
              "color": "#E5ECF6",
              "width": 0.5
             },
             "pattern": {
              "fillmode": "overlay",
              "size": 10,
              "solidity": 0.2
             }
            },
            "type": "barpolar"
           }
          ],
          "carpet": [
           {
            "aaxis": {
             "endlinecolor": "#2a3f5f",
             "gridcolor": "white",
             "linecolor": "white",
             "minorgridcolor": "white",
             "startlinecolor": "#2a3f5f"
            },
            "baxis": {
             "endlinecolor": "#2a3f5f",
             "gridcolor": "white",
             "linecolor": "white",
             "minorgridcolor": "white",
             "startlinecolor": "#2a3f5f"
            },
            "type": "carpet"
           }
          ],
          "choropleth": [
           {
            "colorbar": {
             "outlinewidth": 0,
             "ticks": ""
            },
            "type": "choropleth"
           }
          ],
          "contour": [
           {
            "colorbar": {
             "outlinewidth": 0,
             "ticks": ""
            },
            "colorscale": [
             [
              0,
              "#0d0887"
             ],
             [
              0.1111111111111111,
              "#46039f"
             ],
             [
              0.2222222222222222,
              "#7201a8"
             ],
             [
              0.3333333333333333,
              "#9c179e"
             ],
             [
              0.4444444444444444,
              "#bd3786"
             ],
             [
              0.5555555555555556,
              "#d8576b"
             ],
             [
              0.6666666666666666,
              "#ed7953"
             ],
             [
              0.7777777777777778,
              "#fb9f3a"
             ],
             [
              0.8888888888888888,
              "#fdca26"
             ],
             [
              1,
              "#f0f921"
             ]
            ],
            "type": "contour"
           }
          ],
          "contourcarpet": [
           {
            "colorbar": {
             "outlinewidth": 0,
             "ticks": ""
            },
            "type": "contourcarpet"
           }
          ],
          "heatmap": [
           {
            "colorbar": {
             "outlinewidth": 0,
             "ticks": ""
            },
            "colorscale": [
             [
              0,
              "#0d0887"
             ],
             [
              0.1111111111111111,
              "#46039f"
             ],
             [
              0.2222222222222222,
              "#7201a8"
             ],
             [
              0.3333333333333333,
              "#9c179e"
             ],
             [
              0.4444444444444444,
              "#bd3786"
             ],
             [
              0.5555555555555556,
              "#d8576b"
             ],
             [
              0.6666666666666666,
              "#ed7953"
             ],
             [
              0.7777777777777778,
              "#fb9f3a"
             ],
             [
              0.8888888888888888,
              "#fdca26"
             ],
             [
              1,
              "#f0f921"
             ]
            ],
            "type": "heatmap"
           }
          ],
          "heatmapgl": [
           {
            "colorbar": {
             "outlinewidth": 0,
             "ticks": ""
            },
            "colorscale": [
             [
              0,
              "#0d0887"
             ],
             [
              0.1111111111111111,
              "#46039f"
             ],
             [
              0.2222222222222222,
              "#7201a8"
             ],
             [
              0.3333333333333333,
              "#9c179e"
             ],
             [
              0.4444444444444444,
              "#bd3786"
             ],
             [
              0.5555555555555556,
              "#d8576b"
             ],
             [
              0.6666666666666666,
              "#ed7953"
             ],
             [
              0.7777777777777778,
              "#fb9f3a"
             ],
             [
              0.8888888888888888,
              "#fdca26"
             ],
             [
              1,
              "#f0f921"
             ]
            ],
            "type": "heatmapgl"
           }
          ],
          "histogram": [
           {
            "marker": {
             "pattern": {
              "fillmode": "overlay",
              "size": 10,
              "solidity": 0.2
             }
            },
            "type": "histogram"
           }
          ],
          "histogram2d": [
           {
            "colorbar": {
             "outlinewidth": 0,
             "ticks": ""
            },
            "colorscale": [
             [
              0,
              "#0d0887"
             ],
             [
              0.1111111111111111,
              "#46039f"
             ],
             [
              0.2222222222222222,
              "#7201a8"
             ],
             [
              0.3333333333333333,
              "#9c179e"
             ],
             [
              0.4444444444444444,
              "#bd3786"
             ],
             [
              0.5555555555555556,
              "#d8576b"
             ],
             [
              0.6666666666666666,
              "#ed7953"
             ],
             [
              0.7777777777777778,
              "#fb9f3a"
             ],
             [
              0.8888888888888888,
              "#fdca26"
             ],
             [
              1,
              "#f0f921"
             ]
            ],
            "type": "histogram2d"
           }
          ],
          "histogram2dcontour": [
           {
            "colorbar": {
             "outlinewidth": 0,
             "ticks": ""
            },
            "colorscale": [
             [
              0,
              "#0d0887"
             ],
             [
              0.1111111111111111,
              "#46039f"
             ],
             [
              0.2222222222222222,
              "#7201a8"
             ],
             [
              0.3333333333333333,
              "#9c179e"
             ],
             [
              0.4444444444444444,
              "#bd3786"
             ],
             [
              0.5555555555555556,
              "#d8576b"
             ],
             [
              0.6666666666666666,
              "#ed7953"
             ],
             [
              0.7777777777777778,
              "#fb9f3a"
             ],
             [
              0.8888888888888888,
              "#fdca26"
             ],
             [
              1,
              "#f0f921"
             ]
            ],
            "type": "histogram2dcontour"
           }
          ],
          "mesh3d": [
           {
            "colorbar": {
             "outlinewidth": 0,
             "ticks": ""
            },
            "type": "mesh3d"
           }
          ],
          "parcoords": [
           {
            "line": {
             "colorbar": {
              "outlinewidth": 0,
              "ticks": ""
             }
            },
            "type": "parcoords"
           }
          ],
          "pie": [
           {
            "automargin": true,
            "type": "pie"
           }
          ],
          "scatter": [
           {
            "fillpattern": {
             "fillmode": "overlay",
             "size": 10,
             "solidity": 0.2
            },
            "type": "scatter"
           }
          ],
          "scatter3d": [
           {
            "line": {
             "colorbar": {
              "outlinewidth": 0,
              "ticks": ""
             }
            },
            "marker": {
             "colorbar": {
              "outlinewidth": 0,
              "ticks": ""
             }
            },
            "type": "scatter3d"
           }
          ],
          "scattercarpet": [
           {
            "marker": {
             "colorbar": {
              "outlinewidth": 0,
              "ticks": ""
             }
            },
            "type": "scattercarpet"
           }
          ],
          "scattergeo": [
           {
            "marker": {
             "colorbar": {
              "outlinewidth": 0,
              "ticks": ""
             }
            },
            "type": "scattergeo"
           }
          ],
          "scattergl": [
           {
            "marker": {
             "colorbar": {
              "outlinewidth": 0,
              "ticks": ""
             }
            },
            "type": "scattergl"
           }
          ],
          "scattermapbox": [
           {
            "marker": {
             "colorbar": {
              "outlinewidth": 0,
              "ticks": ""
             }
            },
            "type": "scattermapbox"
           }
          ],
          "scatterpolar": [
           {
            "marker": {
             "colorbar": {
              "outlinewidth": 0,
              "ticks": ""
             }
            },
            "type": "scatterpolar"
           }
          ],
          "scatterpolargl": [
           {
            "marker": {
             "colorbar": {
              "outlinewidth": 0,
              "ticks": ""
             }
            },
            "type": "scatterpolargl"
           }
          ],
          "scatterternary": [
           {
            "marker": {
             "colorbar": {
              "outlinewidth": 0,
              "ticks": ""
             }
            },
            "type": "scatterternary"
           }
          ],
          "surface": [
           {
            "colorbar": {
             "outlinewidth": 0,
             "ticks": ""
            },
            "colorscale": [
             [
              0,
              "#0d0887"
             ],
             [
              0.1111111111111111,
              "#46039f"
             ],
             [
              0.2222222222222222,
              "#7201a8"
             ],
             [
              0.3333333333333333,
              "#9c179e"
             ],
             [
              0.4444444444444444,
              "#bd3786"
             ],
             [
              0.5555555555555556,
              "#d8576b"
             ],
             [
              0.6666666666666666,
              "#ed7953"
             ],
             [
              0.7777777777777778,
              "#fb9f3a"
             ],
             [
              0.8888888888888888,
              "#fdca26"
             ],
             [
              1,
              "#f0f921"
             ]
            ],
            "type": "surface"
           }
          ],
          "table": [
           {
            "cells": {
             "fill": {
              "color": "#EBF0F8"
             },
             "line": {
              "color": "white"
             }
            },
            "header": {
             "fill": {
              "color": "#C8D4E3"
             },
             "line": {
              "color": "white"
             }
            },
            "type": "table"
           }
          ]
         },
         "layout": {
          "annotationdefaults": {
           "arrowcolor": "#2a3f5f",
           "arrowhead": 0,
           "arrowwidth": 1
          },
          "autotypenumbers": "strict",
          "coloraxis": {
           "colorbar": {
            "outlinewidth": 0,
            "ticks": ""
           }
          },
          "colorscale": {
           "diverging": [
            [
             0,
             "#8e0152"
            ],
            [
             0.1,
             "#c51b7d"
            ],
            [
             0.2,
             "#de77ae"
            ],
            [
             0.3,
             "#f1b6da"
            ],
            [
             0.4,
             "#fde0ef"
            ],
            [
             0.5,
             "#f7f7f7"
            ],
            [
             0.6,
             "#e6f5d0"
            ],
            [
             0.7,
             "#b8e186"
            ],
            [
             0.8,
             "#7fbc41"
            ],
            [
             0.9,
             "#4d9221"
            ],
            [
             1,
             "#276419"
            ]
           ],
           "sequential": [
            [
             0,
             "#0d0887"
            ],
            [
             0.1111111111111111,
             "#46039f"
            ],
            [
             0.2222222222222222,
             "#7201a8"
            ],
            [
             0.3333333333333333,
             "#9c179e"
            ],
            [
             0.4444444444444444,
             "#bd3786"
            ],
            [
             0.5555555555555556,
             "#d8576b"
            ],
            [
             0.6666666666666666,
             "#ed7953"
            ],
            [
             0.7777777777777778,
             "#fb9f3a"
            ],
            [
             0.8888888888888888,
             "#fdca26"
            ],
            [
             1,
             "#f0f921"
            ]
           ],
           "sequentialminus": [
            [
             0,
             "#0d0887"
            ],
            [
             0.1111111111111111,
             "#46039f"
            ],
            [
             0.2222222222222222,
             "#7201a8"
            ],
            [
             0.3333333333333333,
             "#9c179e"
            ],
            [
             0.4444444444444444,
             "#bd3786"
            ],
            [
             0.5555555555555556,
             "#d8576b"
            ],
            [
             0.6666666666666666,
             "#ed7953"
            ],
            [
             0.7777777777777778,
             "#fb9f3a"
            ],
            [
             0.8888888888888888,
             "#fdca26"
            ],
            [
             1,
             "#f0f921"
            ]
           ]
          },
          "colorway": [
           "#636efa",
           "#EF553B",
           "#00cc96",
           "#ab63fa",
           "#FFA15A",
           "#19d3f3",
           "#FF6692",
           "#B6E880",
           "#FF97FF",
           "#FECB52"
          ],
          "font": {
           "color": "#2a3f5f"
          },
          "geo": {
           "bgcolor": "white",
           "lakecolor": "white",
           "landcolor": "#E5ECF6",
           "showlakes": true,
           "showland": true,
           "subunitcolor": "white"
          },
          "hoverlabel": {
           "align": "left"
          },
          "hovermode": "closest",
          "mapbox": {
           "style": "light"
          },
          "paper_bgcolor": "white",
          "plot_bgcolor": "#E5ECF6",
          "polar": {
           "angularaxis": {
            "gridcolor": "white",
            "linecolor": "white",
            "ticks": ""
           },
           "bgcolor": "#E5ECF6",
           "radialaxis": {
            "gridcolor": "white",
            "linecolor": "white",
            "ticks": ""
           }
          },
          "scene": {
           "xaxis": {
            "backgroundcolor": "#E5ECF6",
            "gridcolor": "white",
            "gridwidth": 2,
            "linecolor": "white",
            "showbackground": true,
            "ticks": "",
            "zerolinecolor": "white"
           },
           "yaxis": {
            "backgroundcolor": "#E5ECF6",
            "gridcolor": "white",
            "gridwidth": 2,
            "linecolor": "white",
            "showbackground": true,
            "ticks": "",
            "zerolinecolor": "white"
           },
           "zaxis": {
            "backgroundcolor": "#E5ECF6",
            "gridcolor": "white",
            "gridwidth": 2,
            "linecolor": "white",
            "showbackground": true,
            "ticks": "",
            "zerolinecolor": "white"
           }
          },
          "shapedefaults": {
           "line": {
            "color": "#2a3f5f"
           }
          },
          "ternary": {
           "aaxis": {
            "gridcolor": "white",
            "linecolor": "white",
            "ticks": ""
           },
           "baxis": {
            "gridcolor": "white",
            "linecolor": "white",
            "ticks": ""
           },
           "bgcolor": "#E5ECF6",
           "caxis": {
            "gridcolor": "white",
            "linecolor": "white",
            "ticks": ""
           }
          },
          "title": {
           "x": 0.05
          },
          "xaxis": {
           "automargin": true,
           "gridcolor": "white",
           "linecolor": "white",
           "ticks": "",
           "title": {
            "standoff": 15
           },
           "zerolinecolor": "white",
           "zerolinewidth": 2
          },
          "yaxis": {
           "automargin": true,
           "gridcolor": "white",
           "linecolor": "white",
           "ticks": "",
           "title": {
            "standoff": 15
           },
           "zerolinecolor": "white",
           "zerolinewidth": 2
          }
         }
        },
        "title": {
         "text": ""
        },
        "xaxis": {
         "anchor": "y",
         "domain": [
          0,
          1
         ],
         "showgrid": false,
         "showline": false,
         "tickmode": "array",
         "ticktext": [
          "January",
          "February",
          "March",
          "April",
          "May",
          "June",
          "July",
          "August",
          "September",
          "October",
          "November",
          "December"
         ],
         "tickvals": [
          1.5,
          5.909090909090909,
          10.318181818181818,
          14.727272727272727,
          19.136363636363637,
          23.545454545454547,
          27.954545454545453,
          32.36363636363636,
          36.77272727272727,
          41.18181818181818,
          45.59090909090909,
          50
         ],
         "zeroline": false
        },
        "yaxis": {
         "anchor": "x",
         "autorange": "reversed",
         "domain": [
          0,
          1
         ],
         "showgrid": false,
         "showline": false,
         "tickmode": "array",
         "ticktext": [
          "Mon",
          "Tue",
          "Wed",
          "Thu",
          "Fri",
          "Sat",
          "Sun"
         ],
         "tickvals": [
          0,
          1,
          2,
          3,
          4,
          5,
          6
         ],
         "zeroline": false
        }
       }
      }
     },
     "metadata": {},
     "output_type": "display_data"
    }
   ],
   "source": [
    "df_2006 = data.query('delivered_to_client_date_year == 2006')\\\n",
    "              .groupby('delivered_to_client_date')['country'].count().reset_index()\n",
    "              \n",
    "fig = calplot(data = df_2006,\n",
    "    x=\"delivered_to_client_date\", y=\"country\",\n",
    "    dark_theme=True,\n",
    "    years_title=True)\n",
    "fig.show()"
   ]
  },
  {
   "cell_type": "code",
   "execution_count": 29,
   "metadata": {},
   "outputs": [
    {
     "data": {
      "text/html": [
       "<div>\n",
       "<style scoped>\n",
       "    .dataframe tbody tr th:only-of-type {\n",
       "        vertical-align: middle;\n",
       "    }\n",
       "\n",
       "    .dataframe tbody tr th {\n",
       "        vertical-align: top;\n",
       "    }\n",
       "\n",
       "    .dataframe thead th {\n",
       "        text-align: right;\n",
       "    }\n",
       "</style>\n",
       "<table border=\"1\" class=\"dataframe\">\n",
       "  <thead>\n",
       "    <tr style=\"text-align: right;\">\n",
       "      <th></th>\n",
       "      <th>project_code</th>\n",
       "      <th>pq_num</th>\n",
       "      <th>po_so_num</th>\n",
       "      <th>asndn_num</th>\n",
       "      <th>country</th>\n",
       "      <th>managed_by</th>\n",
       "      <th>fulfill_via</th>\n",
       "      <th>vendor_inco_term</th>\n",
       "      <th>shipment_mode</th>\n",
       "      <th>pq_first_sent_to_client_date</th>\n",
       "      <th>po_sent_to_vendor_date</th>\n",
       "      <th>scheduled_delivery_date</th>\n",
       "      <th>delivered_to_client_date</th>\n",
       "      <th>delivery_recorded_date</th>\n",
       "      <th>product_group</th>\n",
       "      <th>sub_classification</th>\n",
       "      <th>vendor</th>\n",
       "      <th>item_description</th>\n",
       "      <th>moleculetest_type</th>\n",
       "      <th>brand</th>\n",
       "      <th>dosage</th>\n",
       "      <th>dosage_form</th>\n",
       "      <th>unit_of_measure_per_pack</th>\n",
       "      <th>line_item_quantity</th>\n",
       "      <th>line_item_value</th>\n",
       "      <th>pack_price</th>\n",
       "      <th>unit_price</th>\n",
       "      <th>manufacturing_site</th>\n",
       "      <th>first_line_designation</th>\n",
       "      <th>weight_kilograms</th>\n",
       "      <th>freight_cost_usd</th>\n",
       "      <th>line_item_insurance_usd</th>\n",
       "      <th>po_sent_to_vendor_date_year</th>\n",
       "      <th>scheduled_delivery_date_year</th>\n",
       "      <th>delivered_to_client_date_year</th>\n",
       "      <th>delivery_recorded_date_year</th>\n",
       "      <th>pq_first_sent_to_client_date_year</th>\n",
       "    </tr>\n",
       "  </thead>\n",
       "  <tbody>\n",
       "    <tr>\n",
       "      <th>0</th>\n",
       "      <td>100-CI-T01</td>\n",
       "      <td>Pre-PQ Process</td>\n",
       "      <td>SCMS-4</td>\n",
       "      <td>ASN-8</td>\n",
       "      <td>Côte d'Ivoire</td>\n",
       "      <td>PMO - US</td>\n",
       "      <td>Direct Drop</td>\n",
       "      <td>EXW</td>\n",
       "      <td>Air</td>\n",
       "      <td>NaT</td>\n",
       "      <td>NaT</td>\n",
       "      <td>2006-06-02</td>\n",
       "      <td>2006-06-02</td>\n",
       "      <td>2006-06-02</td>\n",
       "      <td>HRDT</td>\n",
       "      <td>HIV test</td>\n",
       "      <td>RANBAXY Fine Chemicals LTD.</td>\n",
       "      <td>HIV, Reveal G3 Rapid HIV-1 Antibody Test, 30 T...</td>\n",
       "      <td>HIV, Reveal G3 Rapid HIV-1 Antibody Test</td>\n",
       "      <td>Reveal</td>\n",
       "      <td>NaN</td>\n",
       "      <td>Test kit</td>\n",
       "      <td>30</td>\n",
       "      <td>19</td>\n",
       "      <td>551.00</td>\n",
       "      <td>29.00</td>\n",
       "      <td>0.97</td>\n",
       "      <td>Ranbaxy Fine Chemicals LTD</td>\n",
       "      <td>True</td>\n",
       "      <td>13</td>\n",
       "      <td>780.34</td>\n",
       "      <td>NaN</td>\n",
       "      <td>NaN</td>\n",
       "      <td>2006</td>\n",
       "      <td>2006</td>\n",
       "      <td>2006</td>\n",
       "      <td>NaN</td>\n",
       "    </tr>\n",
       "    <tr>\n",
       "      <th>1</th>\n",
       "      <td>108-VN-T01</td>\n",
       "      <td>Pre-PQ Process</td>\n",
       "      <td>SCMS-13</td>\n",
       "      <td>ASN-85</td>\n",
       "      <td>Vietnam</td>\n",
       "      <td>PMO - US</td>\n",
       "      <td>Direct Drop</td>\n",
       "      <td>EXW</td>\n",
       "      <td>Air</td>\n",
       "      <td>NaT</td>\n",
       "      <td>NaT</td>\n",
       "      <td>2006-11-14</td>\n",
       "      <td>2006-11-14</td>\n",
       "      <td>2006-11-14</td>\n",
       "      <td>ARV</td>\n",
       "      <td>Pediatric</td>\n",
       "      <td>Aurobindo Pharma Limited</td>\n",
       "      <td>Nevirapine 10mg/ml, oral suspension, Bottle, 2...</td>\n",
       "      <td>Nevirapine</td>\n",
       "      <td>Generic</td>\n",
       "      <td>10mg/ml</td>\n",
       "      <td>Oral suspension</td>\n",
       "      <td>240</td>\n",
       "      <td>1000</td>\n",
       "      <td>6200.00</td>\n",
       "      <td>6.20</td>\n",
       "      <td>0.03</td>\n",
       "      <td>Aurobindo Unit III, India</td>\n",
       "      <td>True</td>\n",
       "      <td>358</td>\n",
       "      <td>4521.5</td>\n",
       "      <td>NaN</td>\n",
       "      <td>NaN</td>\n",
       "      <td>2006</td>\n",
       "      <td>2006</td>\n",
       "      <td>2006</td>\n",
       "      <td>NaN</td>\n",
       "    </tr>\n",
       "    <tr>\n",
       "      <th>2</th>\n",
       "      <td>100-CI-T01</td>\n",
       "      <td>Pre-PQ Process</td>\n",
       "      <td>SCMS-20</td>\n",
       "      <td>ASN-14</td>\n",
       "      <td>Côte d'Ivoire</td>\n",
       "      <td>PMO - US</td>\n",
       "      <td>Direct Drop</td>\n",
       "      <td>FCA</td>\n",
       "      <td>Air</td>\n",
       "      <td>NaT</td>\n",
       "      <td>NaT</td>\n",
       "      <td>2006-08-27</td>\n",
       "      <td>2006-08-27</td>\n",
       "      <td>2006-08-27</td>\n",
       "      <td>HRDT</td>\n",
       "      <td>HIV test</td>\n",
       "      <td>Abbott GmbH &amp; Co. KG</td>\n",
       "      <td>HIV 1/2, Determine Complete HIV Kit, 100 Tests</td>\n",
       "      <td>HIV 1/2, Determine Complete HIV Kit</td>\n",
       "      <td>Determine</td>\n",
       "      <td>NaN</td>\n",
       "      <td>Test kit</td>\n",
       "      <td>100</td>\n",
       "      <td>500</td>\n",
       "      <td>40000.00</td>\n",
       "      <td>80.00</td>\n",
       "      <td>0.80</td>\n",
       "      <td>ABBVIE GmbH &amp; Co.KG Wiesbaden</td>\n",
       "      <td>True</td>\n",
       "      <td>171</td>\n",
       "      <td>1653.78</td>\n",
       "      <td>NaN</td>\n",
       "      <td>NaN</td>\n",
       "      <td>2006</td>\n",
       "      <td>2006</td>\n",
       "      <td>2006</td>\n",
       "      <td>NaN</td>\n",
       "    </tr>\n",
       "    <tr>\n",
       "      <th>3</th>\n",
       "      <td>108-VN-T01</td>\n",
       "      <td>Pre-PQ Process</td>\n",
       "      <td>SCMS-78</td>\n",
       "      <td>ASN-50</td>\n",
       "      <td>Vietnam</td>\n",
       "      <td>PMO - US</td>\n",
       "      <td>Direct Drop</td>\n",
       "      <td>EXW</td>\n",
       "      <td>Air</td>\n",
       "      <td>NaT</td>\n",
       "      <td>NaT</td>\n",
       "      <td>2006-09-01</td>\n",
       "      <td>2006-09-01</td>\n",
       "      <td>2006-09-01</td>\n",
       "      <td>ARV</td>\n",
       "      <td>Adult</td>\n",
       "      <td>SUN PHARMACEUTICAL INDUSTRIES LTD (RANBAXY LAB...</td>\n",
       "      <td>Lamivudine 150mg, tablets, 60 Tabs</td>\n",
       "      <td>Lamivudine</td>\n",
       "      <td>Generic</td>\n",
       "      <td>150mg</td>\n",
       "      <td>Tablet</td>\n",
       "      <td>60</td>\n",
       "      <td>31920</td>\n",
       "      <td>127360.80</td>\n",
       "      <td>3.99</td>\n",
       "      <td>0.07</td>\n",
       "      <td>Ranbaxy, Paonta Shahib, India</td>\n",
       "      <td>True</td>\n",
       "      <td>1855</td>\n",
       "      <td>16007.06</td>\n",
       "      <td>NaN</td>\n",
       "      <td>NaN</td>\n",
       "      <td>2006</td>\n",
       "      <td>2006</td>\n",
       "      <td>2006</td>\n",
       "      <td>NaN</td>\n",
       "    </tr>\n",
       "    <tr>\n",
       "      <th>4</th>\n",
       "      <td>108-VN-T01</td>\n",
       "      <td>Pre-PQ Process</td>\n",
       "      <td>SCMS-81</td>\n",
       "      <td>ASN-55</td>\n",
       "      <td>Vietnam</td>\n",
       "      <td>PMO - US</td>\n",
       "      <td>Direct Drop</td>\n",
       "      <td>EXW</td>\n",
       "      <td>Air</td>\n",
       "      <td>NaT</td>\n",
       "      <td>NaT</td>\n",
       "      <td>2006-08-11</td>\n",
       "      <td>2006-08-11</td>\n",
       "      <td>2006-08-11</td>\n",
       "      <td>ARV</td>\n",
       "      <td>Adult</td>\n",
       "      <td>Aurobindo Pharma Limited</td>\n",
       "      <td>Stavudine 30mg, capsules, 60 Caps</td>\n",
       "      <td>Stavudine</td>\n",
       "      <td>Generic</td>\n",
       "      <td>30mg</td>\n",
       "      <td>Capsule</td>\n",
       "      <td>60</td>\n",
       "      <td>38000</td>\n",
       "      <td>121600.00</td>\n",
       "      <td>3.20</td>\n",
       "      <td>0.05</td>\n",
       "      <td>Aurobindo Unit III, India</td>\n",
       "      <td>True</td>\n",
       "      <td>7590</td>\n",
       "      <td>45450.08</td>\n",
       "      <td>NaN</td>\n",
       "      <td>NaN</td>\n",
       "      <td>2006</td>\n",
       "      <td>2006</td>\n",
       "      <td>2006</td>\n",
       "      <td>NaN</td>\n",
       "    </tr>\n",
       "    <tr>\n",
       "      <th>...</th>\n",
       "      <td>...</td>\n",
       "      <td>...</td>\n",
       "      <td>...</td>\n",
       "      <td>...</td>\n",
       "      <td>...</td>\n",
       "      <td>...</td>\n",
       "      <td>...</td>\n",
       "      <td>...</td>\n",
       "      <td>...</td>\n",
       "      <td>...</td>\n",
       "      <td>...</td>\n",
       "      <td>...</td>\n",
       "      <td>...</td>\n",
       "      <td>...</td>\n",
       "      <td>...</td>\n",
       "      <td>...</td>\n",
       "      <td>...</td>\n",
       "      <td>...</td>\n",
       "      <td>...</td>\n",
       "      <td>...</td>\n",
       "      <td>...</td>\n",
       "      <td>...</td>\n",
       "      <td>...</td>\n",
       "      <td>...</td>\n",
       "      <td>...</td>\n",
       "      <td>...</td>\n",
       "      <td>...</td>\n",
       "      <td>...</td>\n",
       "      <td>...</td>\n",
       "      <td>...</td>\n",
       "      <td>...</td>\n",
       "      <td>...</td>\n",
       "      <td>...</td>\n",
       "      <td>...</td>\n",
       "      <td>...</td>\n",
       "      <td>...</td>\n",
       "      <td>...</td>\n",
       "    </tr>\n",
       "    <tr>\n",
       "      <th>10319</th>\n",
       "      <td>103-ZW-T30</td>\n",
       "      <td>FPQ-15197</td>\n",
       "      <td>SO-50020</td>\n",
       "      <td>DN-4307</td>\n",
       "      <td>Zimbabwe</td>\n",
       "      <td>PMO - US</td>\n",
       "      <td>From RDC</td>\n",
       "      <td>N/A - From RDC</td>\n",
       "      <td>Truck</td>\n",
       "      <td>NaT</td>\n",
       "      <td>NaT</td>\n",
       "      <td>2015-07-31</td>\n",
       "      <td>2015-07-15</td>\n",
       "      <td>2015-07-20</td>\n",
       "      <td>ARV</td>\n",
       "      <td>Pediatric</td>\n",
       "      <td>SCMS from RDC</td>\n",
       "      <td>Lamivudine/Nevirapine/Zidovudine 30/50/60mg, d...</td>\n",
       "      <td>Lamivudine/Nevirapine/Zidovudine</td>\n",
       "      <td>Generic</td>\n",
       "      <td>30/50/60mg</td>\n",
       "      <td>Chewable/dispersible tablet - FDC</td>\n",
       "      <td>60</td>\n",
       "      <td>166571</td>\n",
       "      <td>599655.60</td>\n",
       "      <td>3.60</td>\n",
       "      <td>0.06</td>\n",
       "      <td>Mylan,  H-12 &amp; H-13, India</td>\n",
       "      <td>False</td>\n",
       "      <td>See DN-4307 (ID#:83920)</td>\n",
       "      <td>See DN-4307 (ID#:83920)</td>\n",
       "      <td>705.79</td>\n",
       "      <td>NaN</td>\n",
       "      <td>2015</td>\n",
       "      <td>2015</td>\n",
       "      <td>2015</td>\n",
       "      <td>NaN</td>\n",
       "    </tr>\n",
       "    <tr>\n",
       "      <th>10320</th>\n",
       "      <td>104-CI-T30</td>\n",
       "      <td>FPQ-15259</td>\n",
       "      <td>SO-50102</td>\n",
       "      <td>DN-4313</td>\n",
       "      <td>Côte d'Ivoire</td>\n",
       "      <td>PMO - US</td>\n",
       "      <td>From RDC</td>\n",
       "      <td>N/A - From RDC</td>\n",
       "      <td>Truck</td>\n",
       "      <td>NaT</td>\n",
       "      <td>NaT</td>\n",
       "      <td>2015-07-31</td>\n",
       "      <td>2015-08-06</td>\n",
       "      <td>2015-08-07</td>\n",
       "      <td>ARV</td>\n",
       "      <td>Adult</td>\n",
       "      <td>SCMS from RDC</td>\n",
       "      <td>Lamivudine/Zidovudine 150/300mg, tablets, 60 Tabs</td>\n",
       "      <td>Lamivudine/Zidovudine</td>\n",
       "      <td>Generic</td>\n",
       "      <td>150/300mg</td>\n",
       "      <td>Tablet - FDC</td>\n",
       "      <td>60</td>\n",
       "      <td>21072</td>\n",
       "      <td>137389.44</td>\n",
       "      <td>6.52</td>\n",
       "      <td>0.11</td>\n",
       "      <td>Hetero Unit III Hyderabad IN</td>\n",
       "      <td>False</td>\n",
       "      <td>See DN-4313 (ID#:83921)</td>\n",
       "      <td>See DN-4313 (ID#:83921)</td>\n",
       "      <td>161.71</td>\n",
       "      <td>NaN</td>\n",
       "      <td>2015</td>\n",
       "      <td>2015</td>\n",
       "      <td>2015</td>\n",
       "      <td>NaN</td>\n",
       "    </tr>\n",
       "    <tr>\n",
       "      <th>10321</th>\n",
       "      <td>110-ZM-T30</td>\n",
       "      <td>FPQ-14784</td>\n",
       "      <td>SO-49600</td>\n",
       "      <td>DN-4316</td>\n",
       "      <td>Zambia</td>\n",
       "      <td>PMO - US</td>\n",
       "      <td>From RDC</td>\n",
       "      <td>N/A - From RDC</td>\n",
       "      <td>Truck</td>\n",
       "      <td>NaT</td>\n",
       "      <td>NaT</td>\n",
       "      <td>2015-08-31</td>\n",
       "      <td>2015-08-25</td>\n",
       "      <td>2015-09-03</td>\n",
       "      <td>ARV</td>\n",
       "      <td>Adult</td>\n",
       "      <td>SCMS from RDC</td>\n",
       "      <td>Efavirenz/Lamivudine/Tenofovir Disoproxil Fuma...</td>\n",
       "      <td>Efavirenz/Lamivudine/Tenofovir Disoproxil Fuma...</td>\n",
       "      <td>Generic</td>\n",
       "      <td>600/300/300mg</td>\n",
       "      <td>Tablet - FDC</td>\n",
       "      <td>30</td>\n",
       "      <td>514526</td>\n",
       "      <td>5140114.74</td>\n",
       "      <td>9.99</td>\n",
       "      <td>0.33</td>\n",
       "      <td>Cipla Ltd A-42 MIDC Mahar. IN</td>\n",
       "      <td>False</td>\n",
       "      <td>Weight Captured Separately</td>\n",
       "      <td>Freight Included in Commodity Cost</td>\n",
       "      <td>5284.04</td>\n",
       "      <td>NaN</td>\n",
       "      <td>2015</td>\n",
       "      <td>2015</td>\n",
       "      <td>2015</td>\n",
       "      <td>NaN</td>\n",
       "    </tr>\n",
       "    <tr>\n",
       "      <th>10322</th>\n",
       "      <td>200-ZW-T30</td>\n",
       "      <td>FPQ-16523</td>\n",
       "      <td>SO-51680</td>\n",
       "      <td>DN-4334</td>\n",
       "      <td>Zimbabwe</td>\n",
       "      <td>PMO - US</td>\n",
       "      <td>From RDC</td>\n",
       "      <td>N/A - From RDC</td>\n",
       "      <td>Truck</td>\n",
       "      <td>NaT</td>\n",
       "      <td>NaT</td>\n",
       "      <td>2015-09-09</td>\n",
       "      <td>2015-08-04</td>\n",
       "      <td>2015-08-11</td>\n",
       "      <td>ARV</td>\n",
       "      <td>Adult</td>\n",
       "      <td>SCMS from RDC</td>\n",
       "      <td>Lamivudine/Zidovudine 150/300mg, tablets, 60 Tabs</td>\n",
       "      <td>Lamivudine/Zidovudine</td>\n",
       "      <td>Generic</td>\n",
       "      <td>150/300mg</td>\n",
       "      <td>Tablet - FDC</td>\n",
       "      <td>60</td>\n",
       "      <td>17465</td>\n",
       "      <td>113871.80</td>\n",
       "      <td>6.52</td>\n",
       "      <td>0.11</td>\n",
       "      <td>Mylan (formerly Matrix) Nashik</td>\n",
       "      <td>True</td>\n",
       "      <td>1392</td>\n",
       "      <td>Freight Included in Commodity Cost</td>\n",
       "      <td>134.03</td>\n",
       "      <td>NaN</td>\n",
       "      <td>2015</td>\n",
       "      <td>2015</td>\n",
       "      <td>2015</td>\n",
       "      <td>NaN</td>\n",
       "    </tr>\n",
       "    <tr>\n",
       "      <th>10323</th>\n",
       "      <td>103-ZW-T30</td>\n",
       "      <td>FPQ-15197</td>\n",
       "      <td>SO-50022</td>\n",
       "      <td>DN-4336</td>\n",
       "      <td>Zimbabwe</td>\n",
       "      <td>PMO - US</td>\n",
       "      <td>From RDC</td>\n",
       "      <td>N/A - From RDC</td>\n",
       "      <td>Truck</td>\n",
       "      <td>NaT</td>\n",
       "      <td>NaT</td>\n",
       "      <td>2015-08-31</td>\n",
       "      <td>2015-08-04</td>\n",
       "      <td>2015-08-11</td>\n",
       "      <td>ARV</td>\n",
       "      <td>Pediatric</td>\n",
       "      <td>SCMS from RDC</td>\n",
       "      <td>Lamivudine/Zidovudine 30/60mg, dispersible tab...</td>\n",
       "      <td>Lamivudine/Zidovudine</td>\n",
       "      <td>Generic</td>\n",
       "      <td>30/60mg</td>\n",
       "      <td>Chewable/dispersible tablet - FDC</td>\n",
       "      <td>60</td>\n",
       "      <td>36639</td>\n",
       "      <td>72911.61</td>\n",
       "      <td>1.99</td>\n",
       "      <td>0.03</td>\n",
       "      <td>Cipla, Goa, India</td>\n",
       "      <td>False</td>\n",
       "      <td>Weight Captured Separately</td>\n",
       "      <td>Freight Included in Commodity Cost</td>\n",
       "      <td>85.82</td>\n",
       "      <td>NaN</td>\n",
       "      <td>2015</td>\n",
       "      <td>2015</td>\n",
       "      <td>2015</td>\n",
       "      <td>NaN</td>\n",
       "    </tr>\n",
       "  </tbody>\n",
       "</table>\n",
       "<p>10320 rows × 37 columns</p>\n",
       "</div>"
      ],
      "text/plain": [
       "      project_code          pq_num po_so_num asndn_num        country  \\\n",
       "0       100-CI-T01  Pre-PQ Process    SCMS-4     ASN-8  Côte d'Ivoire   \n",
       "1       108-VN-T01  Pre-PQ Process   SCMS-13    ASN-85        Vietnam   \n",
       "2       100-CI-T01  Pre-PQ Process   SCMS-20    ASN-14  Côte d'Ivoire   \n",
       "3       108-VN-T01  Pre-PQ Process   SCMS-78    ASN-50        Vietnam   \n",
       "4       108-VN-T01  Pre-PQ Process   SCMS-81    ASN-55        Vietnam   \n",
       "...            ...             ...       ...       ...            ...   \n",
       "10319   103-ZW-T30       FPQ-15197  SO-50020   DN-4307       Zimbabwe   \n",
       "10320   104-CI-T30       FPQ-15259  SO-50102   DN-4313  Côte d'Ivoire   \n",
       "10321   110-ZM-T30       FPQ-14784  SO-49600   DN-4316         Zambia   \n",
       "10322   200-ZW-T30       FPQ-16523  SO-51680   DN-4334       Zimbabwe   \n",
       "10323   103-ZW-T30       FPQ-15197  SO-50022   DN-4336       Zimbabwe   \n",
       "\n",
       "      managed_by  fulfill_via vendor_inco_term shipment_mode  \\\n",
       "0       PMO - US  Direct Drop              EXW           Air   \n",
       "1       PMO - US  Direct Drop              EXW           Air   \n",
       "2       PMO - US  Direct Drop              FCA           Air   \n",
       "3       PMO - US  Direct Drop              EXW           Air   \n",
       "4       PMO - US  Direct Drop              EXW           Air   \n",
       "...          ...          ...              ...           ...   \n",
       "10319   PMO - US     From RDC   N/A - From RDC         Truck   \n",
       "10320   PMO - US     From RDC   N/A - From RDC         Truck   \n",
       "10321   PMO - US     From RDC   N/A - From RDC         Truck   \n",
       "10322   PMO - US     From RDC   N/A - From RDC         Truck   \n",
       "10323   PMO - US     From RDC   N/A - From RDC         Truck   \n",
       "\n",
       "      pq_first_sent_to_client_date po_sent_to_vendor_date  \\\n",
       "0                              NaT                    NaT   \n",
       "1                              NaT                    NaT   \n",
       "2                              NaT                    NaT   \n",
       "3                              NaT                    NaT   \n",
       "4                              NaT                    NaT   \n",
       "...                            ...                    ...   \n",
       "10319                          NaT                    NaT   \n",
       "10320                          NaT                    NaT   \n",
       "10321                          NaT                    NaT   \n",
       "10322                          NaT                    NaT   \n",
       "10323                          NaT                    NaT   \n",
       "\n",
       "      scheduled_delivery_date delivered_to_client_date delivery_recorded_date  \\\n",
       "0                  2006-06-02               2006-06-02             2006-06-02   \n",
       "1                  2006-11-14               2006-11-14             2006-11-14   \n",
       "2                  2006-08-27               2006-08-27             2006-08-27   \n",
       "3                  2006-09-01               2006-09-01             2006-09-01   \n",
       "4                  2006-08-11               2006-08-11             2006-08-11   \n",
       "...                       ...                      ...                    ...   \n",
       "10319              2015-07-31               2015-07-15             2015-07-20   \n",
       "10320              2015-07-31               2015-08-06             2015-08-07   \n",
       "10321              2015-08-31               2015-08-25             2015-09-03   \n",
       "10322              2015-09-09               2015-08-04             2015-08-11   \n",
       "10323              2015-08-31               2015-08-04             2015-08-11   \n",
       "\n",
       "      product_group sub_classification  \\\n",
       "0              HRDT           HIV test   \n",
       "1               ARV          Pediatric   \n",
       "2              HRDT           HIV test   \n",
       "3               ARV              Adult   \n",
       "4               ARV              Adult   \n",
       "...             ...                ...   \n",
       "10319           ARV          Pediatric   \n",
       "10320           ARV              Adult   \n",
       "10321           ARV              Adult   \n",
       "10322           ARV              Adult   \n",
       "10323           ARV          Pediatric   \n",
       "\n",
       "                                                  vendor  \\\n",
       "0                            RANBAXY Fine Chemicals LTD.   \n",
       "1                               Aurobindo Pharma Limited   \n",
       "2                                   Abbott GmbH & Co. KG   \n",
       "3      SUN PHARMACEUTICAL INDUSTRIES LTD (RANBAXY LAB...   \n",
       "4                               Aurobindo Pharma Limited   \n",
       "...                                                  ...   \n",
       "10319                                      SCMS from RDC   \n",
       "10320                                      SCMS from RDC   \n",
       "10321                                      SCMS from RDC   \n",
       "10322                                      SCMS from RDC   \n",
       "10323                                      SCMS from RDC   \n",
       "\n",
       "                                        item_description  \\\n",
       "0      HIV, Reveal G3 Rapid HIV-1 Antibody Test, 30 T...   \n",
       "1      Nevirapine 10mg/ml, oral suspension, Bottle, 2...   \n",
       "2         HIV 1/2, Determine Complete HIV Kit, 100 Tests   \n",
       "3                     Lamivudine 150mg, tablets, 60 Tabs   \n",
       "4                      Stavudine 30mg, capsules, 60 Caps   \n",
       "...                                                  ...   \n",
       "10319  Lamivudine/Nevirapine/Zidovudine 30/50/60mg, d...   \n",
       "10320  Lamivudine/Zidovudine 150/300mg, tablets, 60 Tabs   \n",
       "10321  Efavirenz/Lamivudine/Tenofovir Disoproxil Fuma...   \n",
       "10322  Lamivudine/Zidovudine 150/300mg, tablets, 60 Tabs   \n",
       "10323  Lamivudine/Zidovudine 30/60mg, dispersible tab...   \n",
       "\n",
       "                                       moleculetest_type      brand  \\\n",
       "0               HIV, Reveal G3 Rapid HIV-1 Antibody Test     Reveal   \n",
       "1                                             Nevirapine    Generic   \n",
       "2                    HIV 1/2, Determine Complete HIV Kit  Determine   \n",
       "3                                             Lamivudine    Generic   \n",
       "4                                              Stavudine    Generic   \n",
       "...                                                  ...        ...   \n",
       "10319                   Lamivudine/Nevirapine/Zidovudine    Generic   \n",
       "10320                              Lamivudine/Zidovudine    Generic   \n",
       "10321  Efavirenz/Lamivudine/Tenofovir Disoproxil Fuma...    Generic   \n",
       "10322                              Lamivudine/Zidovudine    Generic   \n",
       "10323                              Lamivudine/Zidovudine    Generic   \n",
       "\n",
       "              dosage                        dosage_form  \\\n",
       "0                NaN                           Test kit   \n",
       "1            10mg/ml                    Oral suspension   \n",
       "2                NaN                           Test kit   \n",
       "3              150mg                             Tablet   \n",
       "4               30mg                            Capsule   \n",
       "...              ...                                ...   \n",
       "10319     30/50/60mg  Chewable/dispersible tablet - FDC   \n",
       "10320      150/300mg                       Tablet - FDC   \n",
       "10321  600/300/300mg                       Tablet - FDC   \n",
       "10322      150/300mg                       Tablet - FDC   \n",
       "10323        30/60mg  Chewable/dispersible tablet - FDC   \n",
       "\n",
       "       unit_of_measure_per_pack  line_item_quantity  line_item_value  \\\n",
       "0                            30                  19           551.00   \n",
       "1                           240                1000          6200.00   \n",
       "2                           100                 500         40000.00   \n",
       "3                            60               31920        127360.80   \n",
       "4                            60               38000        121600.00   \n",
       "...                         ...                 ...              ...   \n",
       "10319                        60              166571        599655.60   \n",
       "10320                        60               21072        137389.44   \n",
       "10321                        30              514526       5140114.74   \n",
       "10322                        60               17465        113871.80   \n",
       "10323                        60               36639         72911.61   \n",
       "\n",
       "       pack_price  unit_price              manufacturing_site  \\\n",
       "0           29.00        0.97      Ranbaxy Fine Chemicals LTD   \n",
       "1            6.20        0.03       Aurobindo Unit III, India   \n",
       "2           80.00        0.80   ABBVIE GmbH & Co.KG Wiesbaden   \n",
       "3            3.99        0.07   Ranbaxy, Paonta Shahib, India   \n",
       "4            3.20        0.05       Aurobindo Unit III, India   \n",
       "...           ...         ...                             ...   \n",
       "10319        3.60        0.06      Mylan,  H-12 & H-13, India   \n",
       "10320        6.52        0.11    Hetero Unit III Hyderabad IN   \n",
       "10321        9.99        0.33   Cipla Ltd A-42 MIDC Mahar. IN   \n",
       "10322        6.52        0.11  Mylan (formerly Matrix) Nashik   \n",
       "10323        1.99        0.03               Cipla, Goa, India   \n",
       "\n",
       "       first_line_designation            weight_kilograms  \\\n",
       "0                        True                          13   \n",
       "1                        True                         358   \n",
       "2                        True                         171   \n",
       "3                        True                        1855   \n",
       "4                        True                        7590   \n",
       "...                       ...                         ...   \n",
       "10319                   False     See DN-4307 (ID#:83920)   \n",
       "10320                   False     See DN-4313 (ID#:83921)   \n",
       "10321                   False  Weight Captured Separately   \n",
       "10322                    True                        1392   \n",
       "10323                   False  Weight Captured Separately   \n",
       "\n",
       "                         freight_cost_usd  line_item_insurance_usd  \\\n",
       "0                                  780.34                      NaN   \n",
       "1                                  4521.5                      NaN   \n",
       "2                                 1653.78                      NaN   \n",
       "3                                16007.06                      NaN   \n",
       "4                                45450.08                      NaN   \n",
       "...                                   ...                      ...   \n",
       "10319             See DN-4307 (ID#:83920)                   705.79   \n",
       "10320             See DN-4313 (ID#:83921)                   161.71   \n",
       "10321  Freight Included in Commodity Cost                  5284.04   \n",
       "10322  Freight Included in Commodity Cost                   134.03   \n",
       "10323  Freight Included in Commodity Cost                    85.82   \n",
       "\n",
       "       po_sent_to_vendor_date_year  scheduled_delivery_date_year  \\\n",
       "0                              NaN                          2006   \n",
       "1                              NaN                          2006   \n",
       "2                              NaN                          2006   \n",
       "3                              NaN                          2006   \n",
       "4                              NaN                          2006   \n",
       "...                            ...                           ...   \n",
       "10319                          NaN                          2015   \n",
       "10320                          NaN                          2015   \n",
       "10321                          NaN                          2015   \n",
       "10322                          NaN                          2015   \n",
       "10323                          NaN                          2015   \n",
       "\n",
       "       delivered_to_client_date_year  delivery_recorded_date_year  \\\n",
       "0                               2006                         2006   \n",
       "1                               2006                         2006   \n",
       "2                               2006                         2006   \n",
       "3                               2006                         2006   \n",
       "4                               2006                         2006   \n",
       "...                              ...                          ...   \n",
       "10319                           2015                         2015   \n",
       "10320                           2015                         2015   \n",
       "10321                           2015                         2015   \n",
       "10322                           2015                         2015   \n",
       "10323                           2015                         2015   \n",
       "\n",
       "       pq_first_sent_to_client_date_year  \n",
       "0                                    NaN  \n",
       "1                                    NaN  \n",
       "2                                    NaN  \n",
       "3                                    NaN  \n",
       "4                                    NaN  \n",
       "...                                  ...  \n",
       "10319                                NaN  \n",
       "10320                                NaN  \n",
       "10321                                NaN  \n",
       "10322                                NaN  \n",
       "10323                                NaN  \n",
       "\n",
       "[10320 rows x 37 columns]"
      ]
     },
     "execution_count": 29,
     "metadata": {},
     "output_type": "execute_result"
    }
   ],
   "source": [
    "data"
   ]
  },
  {
   "cell_type": "code",
   "execution_count": null,
   "metadata": {},
   "outputs": [],
   "source": []
  }
 ],
 "metadata": {
  "kernelspec": {
   "display_name": "venv",
   "language": "python",
   "name": "python3"
  },
  "language_info": {
   "codemirror_mode": {
    "name": "ipython",
    "version": 3
   },
   "file_extension": ".py",
   "mimetype": "text/x-python",
   "name": "python",
   "nbconvert_exporter": "python",
   "pygments_lexer": "ipython3",
   "version": "3.10.11"
  }
 },
 "nbformat": 4,
 "nbformat_minor": 2
}
